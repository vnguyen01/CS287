{
 "cells": [
  {
   "cell_type": "code",
   "execution_count": 602,
   "metadata": {
    "collapsed": true
   },
   "outputs": [],
   "source": [
    "function counts()\n",
    "    --gets counts of classes and features\n",
    "    fc:add(Y:t()*(X))\n",
    "    cc:add(Y:sum(1))\n",
    "end"
   ]
  },
  {
   "cell_type": "code",
   "execution_count": 603,
   "metadata": {
    "collapsed": false
   },
   "outputs": [],
   "source": [
    "function log_prob()\n",
    "    --smoothes feature counts\n",
    "    sfc = torch.add(fc, 1)\n",
    "    --smoothes class counts\n",
    "    scc = sfc:sum(2)\n",
    "    \n",
    "    --logging\n",
    "    sfc:log()\n",
    "    scc:log()\n",
    "    \n",
    "    --expands for subtraction compatability \n",
    "    scc:expand(scc,scc:size(1),sfc:size(2))\n",
    "    \n",
    "    --log probabilities\n",
    "    lp = sfc:add(scc*-1)\n",
    "end   "
   ]
  },
  {
   "cell_type": "code",
   "execution_count": 604,
   "metadata": {
    "collapsed": false
   },
   "outputs": [],
   "source": [
    "function log_prior()\n",
    "    --updates class priors\n",
    "    clp:add(math.log(Y:size(2))*-1)\n",
    "end"
   ]
  },
  {
   "cell_type": "code",
   "execution_count": 605,
   "metadata": {
    "collapsed": false
   },
   "outputs": [],
   "source": [
    "function predict(X)\n",
    "    --joint log-likelihood\n",
    "    return((X*lp:t()):add(clp:expand(clp,X:size(1),clp:size(2))*-1))\n",
    "end"
   ]
  },
  {
   "cell_type": "code",
   "execution_count": 608,
   "metadata": {
    "collapsed": false
   },
   "outputs": [
    {
     "data": {
      "text/plain": [
       " 1  0\n",
       " 1  1\n",
       " 0  1\n",
       "[torch.DoubleTensor of size 3x2]\n",
       "\n",
       " 1  0  0\n",
       " 0  1  0\n",
       " 0  0  1\n",
       "[torch.DoubleTensor of size 3x3]\n",
       "\n",
       "-0.4055 -1.0986\n",
       "-0.6931 -0.6931\n",
       "-1.0986 -0.4055\n",
       "[torch.DoubleTensor of size 3x2]\n",
       "\n",
       " 0.6931  0.4055  0.0000\n",
       " 0.0000  0.4055  0.6931\n",
       "[torch.DoubleTensor of size 2x3]\n",
       "\n",
       " 0.6931\n",
       " 0.6931\n",
       "[torch.DoubleTensor of size 2x1]\n",
       "\n",
       " 1\n",
       " 3\n",
       "[torch.LongTensor of size 2x1]\n",
       "\n"
      ]
     },
     "execution_count": 608,
     "metadata": {},
     "output_type": "execute_result"
    }
   ],
   "source": [
    "--input matrix\n",
    "X = torch.Tensor{{1,0}, {1,1}, {0,1}}\n",
    "--classes\n",
    "Y = torch.Tensor{{1,0,0}, {0,1,0}, {0,0,1}}\n",
    "\n",
    "print(X)\n",
    "print(Y)\n",
    "\n",
    "--GLOBAL VARIABLES\n",
    "--class counts\n",
    "cc = torch.zeros(1, Y:size(1))\n",
    "--feature counts\n",
    "fc = torch.zeros(Y:size(1), X:size(2))\n",
    "--conditional log probs\n",
    "lp = torch.zeros(Y:size(1), X:size(2))\n",
    "--class log probs\n",
    "clp = torch.zeros(1, Y:size(2))\n",
    "\n",
    "--fit and calculates \\theta\n",
    "counts()\n",
    "log_prob()\n",
    "log_prior()\n",
    "--\\theta\n",
    "print(lp)\n",
    "\n",
    "--testing an input tensor\n",
    "test = torch.Tensor{{1,0},{0,1}}\n",
    "--we expect that it will give class 0 and 2 (or rather 1 and 3 since not indexed at 0)\n",
    "predictions = predict(test)\n",
    "print(predictions)\n",
    "print(torch.max(predictions, 2))"
   ]
  }
 ],
 "metadata": {
  "kernelspec": {
   "display_name": "iTorch",
   "language": "lua",
   "name": "itorch"
  },
  "language_info": {
   "name": "lua",
   "version": "20100"
  }
 },
 "nbformat": 4,
 "nbformat_minor": 0
}
