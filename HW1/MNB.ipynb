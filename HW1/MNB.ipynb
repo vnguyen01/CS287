{
 "cells": [
  {
   "cell_type": "code",
   "execution_count": 238,
   "metadata": {
    "collapsed": false
   },
   "outputs": [
    {
     "data": {
      "text/plain": [
       " 1  0\n",
       " 1  1\n",
       " 0  1\n",
       "[torch.DoubleTensor of size 3x2]\n",
       "\n",
       " 1  0  0\n",
       " 0  1  0\n",
       " 0  0  1\n",
       "[torch.DoubleTensor of size 3x3]\n",
       "\n",
       " 0  0  0\n",
       "[torch.DoubleTensor of size 1x3]\n",
       "\n",
       " 0  0\n",
       " 0  0\n",
       " 0  0\n",
       "[torch.DoubleTensor of size 3x2]\n",
       "\n"
      ]
     },
     "execution_count": 238,
     "metadata": {},
     "output_type": "execute_result"
    }
   ],
   "source": [
    "X = torch.Tensor{{1,0}, {1,1}, {0,1}}\n",
    "Y = torch.Tensor{{1,0,0}, {0,1,0}, {0,0,1}}\n",
    "print(X)\n",
    "print(Y)\n",
    "\n",
    "cc = torch.zeros(1, Y:size(1))\n",
    "fc = torch.zeros(Y:size(1), X:size(2))\n",
    "lp = torch.zeros(Y:size(1), X:size(2))\n",
    "print(cc)\n",
    "print(fc)"
   ]
  },
  {
   "cell_type": "code",
   "execution_count": 239,
   "metadata": {
    "collapsed": true
   },
   "outputs": [],
   "source": [
    "function counts(X, Y)\n",
    "    fc:add(Y:t()*(X))\n",
    "    cc:add(Y:sum(1))\n",
    "end"
   ]
  },
  {
   "cell_type": "code",
   "execution_count": 240,
   "metadata": {
    "collapsed": false
   },
   "outputs": [],
   "source": [
    "function update_feature_log_prob(fc)\n",
    "    smoothed_fc = torch.add(fc, 1)\n",
    "    smoothed_cc = smoothed_fc:sum(2)\n",
    "    ones = torch.ones(smoothed_cc:size(1), smoothed_fc:size(2))\n",
    "    print(ones)\n",
    "    print(smoothed_cc)\n",
    "    torch.addcmul(ones, smoothed_cc)\n",
    "end   "
   ]
  },
  {
   "cell_type": "code",
   "execution_count": 241,
   "metadata": {
    "collapsed": false
   },
   "outputs": [
    {
     "ename": "invalid arguments: DoubleTensor DoubleTensor \nexpected arguments: [*DoubleTensor*] DoubleTensor [double] DoubleTensor DoubleTensor\nstack traceback:\n\t[C]: at 0x04dc7f00\n\t[C]: in function 'addcmul'\n\t[string \"function update_feature_log_prob(fc)...\"]:7: in function 'update_feature_log_prob'\n\t[string \"counts(X,Y)...\"]:2: in main chunk\n\t[C]: in function 'xpcall'\n\t/Users/Vincent/torch/install/share/lua/5.1/itorch/main.lua:179: in function </Users/Vincent/torch/install/share/lua/5.1/itorch/main.lua:143>\n\t/Users/Vincent/torch/install/share/lua/5.1/lzmq/poller.lua:75: in function 'poll'\n\t...s/Vincent/torch/install/share/lua/5.1/lzmq/impl/loop.lua:307: in function 'poll'\n\t...s/Vincent/torch/install/share/lua/5.1/lzmq/impl/loop.lua:325: in function 'sleep_ex'\n\t...s/Vincent/torch/install/share/lua/5.1/lzmq/impl/loop.lua:370: in function 'start'\n\t/Users/Vincent/torch/install/share/lua/5.1/itorch/main.lua:350: in main chunk\n\t[C]: in function 'require'\n\t(command line):1: in main chunk\n\t[C]: at 0x0104b6bbd0",
     "evalue": "",
     "output_type": "error",
     "traceback": [
      "invalid arguments: DoubleTensor DoubleTensor \nexpected arguments: [*DoubleTensor*] DoubleTensor [double] DoubleTensor DoubleTensor\nstack traceback:\n\t[C]: at 0x04dc7f00\n\t[C]: in function 'addcmul'\n\t[string \"function update_feature_log_prob(fc)...\"]:7: in function 'update_feature_log_prob'\n\t[string \"counts(X,Y)...\"]:2: in main chunk\n\t[C]: in function 'xpcall'\n\t/Users/Vincent/torch/install/share/lua/5.1/itorch/main.lua:179: in function </Users/Vincent/torch/install/share/lua/5.1/itorch/main.lua:143>\n\t/Users/Vincent/torch/install/share/lua/5.1/lzmq/poller.lua:75: in function 'poll'\n\t...s/Vincent/torch/install/share/lua/5.1/lzmq/impl/loop.lua:307: in function 'poll'\n\t...s/Vincent/torch/install/share/lua/5.1/lzmq/impl/loop.lua:325: in function 'sleep_ex'\n\t...s/Vincent/torch/install/share/lua/5.1/lzmq/impl/loop.lua:370: in function 'start'\n\t/Users/Vincent/torch/install/share/lua/5.1/itorch/main.lua:350: in main chunk\n\t[C]: in function 'require'\n\t(command line):1: in main chunk\n\t[C]: at 0x0104b6bbd0"
     ]
    },
    {
     "data": {
      "text/plain": [
       " 1  1\n",
       " 1  1\n",
       " 1  1\n",
       "[torch.DoubleTensor of size 3x2]\n",
       "\n",
       " 3\n",
       " 4\n",
       " 3\n",
       "[torch.DoubleTensor of size 3x1]\n",
       "\n"
      ]
     },
     "execution_count": 241,
     "metadata": {},
     "output_type": "execute_result"
    }
   ],
   "source": [
    "counts(X,Y)\n",
    "update_feature_log_prob(fc)"
   ]
  },
  {
   "cell_type": "code",
   "execution_count": 188,
   "metadata": {
    "collapsed": false
   },
   "outputs": [
    {
     "data": {
      "text/plain": [
       " 1  1\n",
       " 1  1\n",
       " 1  1\n",
       "[torch.DoubleTensor of size 3x2]\n",
       "\n"
      ]
     },
     "execution_count": 188,
     "metadata": {},
     "output_type": "execute_result"
    }
   ],
   "source": [
    "torch.ones(3, 2)*"
   ]
  },
  {
   "cell_type": "code",
   "execution_count": null,
   "metadata": {
    "collapsed": true
   },
   "outputs": [],
   "source": []
  }
 ],
 "metadata": {
  "kernelspec": {
   "display_name": "iTorch",
   "language": "lua",
   "name": "itorch"
  },
  "language_info": {
   "name": "lua",
   "version": "20100"
  }
 },
 "nbformat": 4,
 "nbformat_minor": 0
}
