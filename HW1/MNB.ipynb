{
 "cells": [
  {
   "cell_type": "markdown",
   "metadata": {},
   "source": [
    "<h3>Multinomial Naive Bayes</h3>"
   ]
  },
  {
   "cell_type": "code",
<<<<<<< HEAD
   "execution_count": 16,
=======
<<<<<<< HEAD
   "execution_count": 1,
=======
   "execution_count": 3,
>>>>>>> 88967a75e68cda1e47e87138f4240432ee873c97
>>>>>>> b10f07bc6411d5096a54995333ef89d63b5ad280
   "metadata": {
    "collapsed": true
   },
   "outputs": [],
   "source": [
    "function counts(X,Y)\n",
    "    --calculate log posterior\n",
    "    local cc = torch.zeros(1, Y:size(2))\n",
    "    local fc = torch.zeros(Y:size(2), X:size(2))\n",
    "    local clp = torch.zeros(1, Y:size(2))\n",
    "    \n",
<<<<<<< HEAD
    "    fc:add(Y:t()*(X))\n",
=======
<<<<<<< HEAD
    "    fc:add(Y:t()*(X))\n",
=======
    "    fc:addcmul(Y:t(),(X))\n",
>>>>>>> 88967a75e68cda1e47e87138f4240432ee873c97
>>>>>>> b10f07bc6411d5096a54995333ef89d63b5ad280
    "    cc:add(Y:sum(1))\n",
    "    \n",
    "    --smoothing\n",
    "    fc:add(5)\n",
    "    local scc = fc:sum(2)\n",
    "    \n",
    "    fc:log()\n",
    "    scc:log()\n",
    "    \n",
    "    scc:expand(scc, scc:size(1), fc:size(2))\n",
    "    \n",
    "    --calculate log prior\n",
    "    --local total = cc:sum(2)\n",
<<<<<<< HEAD
=======
    "    --cc:div(total[1][1])\n",
<<<<<<< HEAD
=======
    "    --clp = cc:log()\n",
>>>>>>> 88967a75e68cda1e47e87138f4240432ee873c97
    "    --total:log()\n",
>>>>>>> b10f07bc6411d5096a54995333ef89d63b5ad280
    "    --cc:log()\n",
    "    clp:csub(math.log(Y:size(2)))\n",
    "    \n",
    "    return fc:csub(scc), clp --:csub(math.log(Y:size(2)))\n",
    "end\n",
    "\n",
    "function predict(X, W, b)\n",
    "    --joint log-likelihood\n",
<<<<<<< HEAD
    "    local jll = ((X*W:t()):csub(b:expand(b,X:size(1),b:size(2))))\n",
    "    return jll\n",
=======
<<<<<<< HEAD
    "    local jll = ((X*W:t()):csub(b:expand(b,X:size(1),b:size(2))))\n",
    "    return jll\n",
=======
    "    return ((X*W:t()):add(b:expand(b,X:size(1),b:size(2))))\n",
>>>>>>> 88967a75e68cda1e47e87138f4240432ee873c97
>>>>>>> b10f07bc6411d5096a54995333ef89d63b5ad280
    "end\n",
    "\n",
    "function predict_score()\n",
    "    local c = 0\n",
    "    for i=1,indices_pred:size(1) do\n",
    "\n",
    "        if indices_pred[i][1] == indices_true[i][1] then\n",
    "            c = c + 1\n",
    "        \n",
    "        end\n",
    "    \n",
    "    end\n",
    "    return c/Y_valid:size()[1]\n",
    "end"
   ]
  },
  {
   "cell_type": "code",
<<<<<<< HEAD
   "execution_count": 17,
=======
<<<<<<< HEAD
   "execution_count": 2,
=======
   "execution_count": 4,
>>>>>>> 88967a75e68cda1e47e87138f4240432ee873c97
>>>>>>> b10f07bc6411d5096a54995333ef89d63b5ad280
   "metadata": {
    "collapsed": false
   },
   "outputs": [],
   "source": [
<<<<<<< HEAD
    "lp, clp = counts(X_train, Y_train)"
=======
    "--feature weight: counts\n",
    "function createDocWordMatrix(vocab, max_sent_len, sparseMatrix)\n",
    "    docword = torch.zeros(sparseMatrix:size(1), vocab)\n",
    "    for i=1,sparseMatrix:size(1) do\n",
    "        for j=1, max_sent_len do\n",
    "            local idx = (sparseMatrix[i][j])\n",
    "            if idx ~= 0 then\n",
<<<<<<< HEAD
    "                docword[i][idx] = 1 + docword[i][idx]\n",
    "                total = total + 1\n",
    "            end\n",
    "        end\n",
    "        for j=1, max_sent_len do\n",
    "            local idx = (sparseMatrix[i][j])\n",
    "            if idx ~= 0 then\n",
    "                docword[i][idx] = docword[i][idx]/total\n",
=======
    "                docword[i][idx] = 1 --+ docword[i][idx]\n",
>>>>>>> 88967a75e68cda1e47e87138f4240432ee873c97
    "            end\n",
    "        end\n",
    "    end\n",
    "    return docword\n",
    "end\n",
    " "
   ]
  },
  {
   "cell_type": "markdown",
   "metadata": {},
   "source": [
    "<h3>One-Hot Encoding</h3>"
>>>>>>> b10f07bc6411d5096a54995333ef89d63b5ad280
   ]
  },
  {
   "cell_type": "code",
<<<<<<< HEAD
   "execution_count": 18,
=======
<<<<<<< HEAD
   "execution_count": 3,
=======
   "execution_count": 5,
>>>>>>> 88967a75e68cda1e47e87138f4240432ee873c97
>>>>>>> b10f07bc6411d5096a54995333ef89d63b5ad280
   "metadata": {
    "collapsed": false
   },
   "outputs": [],
   "source": [
    "predictions = predict(X_test, lp, clp)\n",
    "_, indices_pred = torch.max(predictions, 2)\n",
    "_, indices_true = torch.max(Y_test, 2)\n",
    "counts = predict_score()\n",
    "print(counts)"
   ]
  },
  {
   "cell_type": "markdown",
   "metadata": {},
   "source": [
    "<h3>Reading in HDF5 files for SST1</h3>"
   ]
  },
  {
   "cell_type": "code",
<<<<<<< HEAD
   "execution_count": 2,
=======
<<<<<<< HEAD
   "execution_count": 4,
=======
   "execution_count": 6,
>>>>>>> 88967a75e68cda1e47e87138f4240432ee873c97
>>>>>>> b10f07bc6411d5096a54995333ef89d63b5ad280
   "metadata": {
    "collapsed": false
   },
   "outputs": [],
   "source": [
    "require('hdf5')\n",
    "\n",
    "f = hdf5.open(\"SST2.hdf5\", \"r\")"
   ]
  },
  {
   "cell_type": "code",
<<<<<<< HEAD
   "execution_count": 3,
=======
<<<<<<< HEAD
   "execution_count": 5,
=======
   "execution_count": 7,
>>>>>>> 88967a75e68cda1e47e87138f4240432ee873c97
>>>>>>> b10f07bc6411d5096a54995333ef89d63b5ad280
   "metadata": {
    "collapsed": false
   },
   "outputs": [],
   "source": [
    "X_train = f:read(\"train_input\"):all()\n",
    "Y_train = f:read(\"train_output\"):all()\n",
    "X_valid = f:read(\"valid_input\"):all()\n",
    "Y_valid = f:read(\"valid_output\"):all()\n",
<<<<<<< HEAD
    "X_test = f:read(\"test_input\"):all()"
   ]
  },
  {
   "cell_type": "code",
   "execution_count": 4,
   "metadata": {
    "collapsed": false
   },
   "outputs": [],
   "source": [
=======
<<<<<<< HEAD
    "--X_test = f:read(\"test_input\"):all()\n",
    "nclasses = f:read('nclasses'):all():long()[1]\n",
    "nfeatures = f:read('nfeatures'):all():long()[1]\n",
=======
    "X_test = f:read(\"test_input\"):all()\n",
>>>>>>> b10f07bc6411d5096a54995333ef89d63b5ad280
    "nclasses = f:read('nclasses'):all():long()[1]\n",
    "nfeatures = f:read('nfeatures'):all():long()[1]\n",
    "\n",
>>>>>>> 88967a75e68cda1e47e87138f4240432ee873c97
    "f:close()"
   ]
  },
  {
   "cell_type": "code",
<<<<<<< HEAD
   "execution_count": 5,
   "metadata": {
    "collapsed": false
   },
   "outputs": [],
   "source": [
    "function createDocWordMatrix(vocab, max_sent_len, sparseMatrix)\n",
    "    docword = torch.zeros(sparseMatrix:size(1), vocab)\n",
    "    for i=1,sparseMatrix:size(1) do\n",
    "        for j=1, max_sent_len do\n",
    "            local idx = (sparseMatrix[i][j])\n",
    "            if idx ~= 0 then\n",
    "                docword[i][idx] = 1 + docword[i][idx]\n",
    "            end\n",
    "        end\n",
    "    end\n",
    "    return docword\n",
    "end"
   ]
  },
  {
   "cell_type": "code",
   "execution_count": 6,
=======
<<<<<<< HEAD
   "execution_count": 17,
=======
   "execution_count": 18,
>>>>>>> 88967a75e68cda1e47e87138f4240432ee873c97
>>>>>>> b10f07bc6411d5096a54995333ef89d63b5ad280
   "metadata": {
    "collapsed": true
   },
   "outputs": [],
   "source": [
<<<<<<< HEAD
    "function onehotencode(classes, target)\n",
    "    onehot = torch.zeros(target:size(1), classes)\n",
    "    for i=1,target:size(1) do\n",
    "        onehot[i][target[i]] = 1\n",
    "    end\n",
    "    return onehot\n",
    "end"
=======
    "--for final testing ONLY!\n",
    "--remember to also change var names when creating docword matrix\n",
<<<<<<< HEAD
    "--X_train = torch.cat(X_train, X_valid, 1)\n",
    "--Y_train = torch.cat(Y_train, Y_valid, 1)"
=======
    "X_train = torch.cat(X_train, X_valid, 1)\n",
    "Y_train = torch.cat(Y_train, Y_valid, 1)"
>>>>>>> 88967a75e68cda1e47e87138f4240432ee873c97
>>>>>>> b10f07bc6411d5096a54995333ef89d63b5ad280
   ]
  },
  {
   "cell_type": "code",
<<<<<<< HEAD
   "execution_count": 7,
=======
<<<<<<< HEAD
   "execution_count": 7,
=======
   "execution_count": 8,
>>>>>>> 88967a75e68cda1e47e87138f4240432ee873c97
>>>>>>> b10f07bc6411d5096a54995333ef89d63b5ad280
   "metadata": {
    "collapsed": false
   },
   "outputs": [],
   "source": [
<<<<<<< HEAD
    "X_train = createDocWordMatrix(nfeatures, 53, X_train)"
=======
    "X_train =createDocWordMatrix(nfeatures, 53, X_train)\n",
<<<<<<< HEAD
    "--Y_train = onehotencode(nclasses, Y_train)\n",
    "--X_valid = createDocWordMatrix(nfeatures, 53, X_valid)\n",
    "--Y_valid = onehotencode(nclasses, Y_valid)"
=======
    "Y_train = onehotencode(nclasses, Y_train)\n",
    "X_test = createDocWordMatrix(nfeatures, 53, X_valid)\n",
    "Y_valid = onehotencode(nclasses, Y_valid)"
>>>>>>> 88967a75e68cda1e47e87138f4240432ee873c97
>>>>>>> b10f07bc6411d5096a54995333ef89d63b5ad280
   ]
  },
  {
   "cell_type": "code",
<<<<<<< HEAD
   "execution_count": 8,
=======
<<<<<<< HEAD
   "execution_count": 13,
   "metadata": {
    "collapsed": false
   },
   "outputs": [
    {
     "data": {
      "text/plain": [
       "0.38056312443233\t\n"
      ]
     },
     "execution_count": 13,
     "metadata": {},
     "output_type": "execute_result"
    }
   ],
   "source": [
    "--fit MNB\n",
    "lp, clp = fit(X_train, Y_train)\n",
    "Y_pred = predict(X_valid, lp, clp)\n",
=======
   "execution_count": null,
>>>>>>> b10f07bc6411d5096a54995333ef89d63b5ad280
   "metadata": {
    "collapsed": false
   },
   "outputs": [],
   "source": [
<<<<<<< HEAD
    "Y_train = onehotencode(nclasses, Y_train)"
=======
    "--fit MNB\n",
    "lp, clp = fit(X_train, Y_train)\n",
    "Y_pred = predict(X_test, lp, clp)\n",
>>>>>>> 88967a75e68cda1e47e87138f4240432ee873c97
    "_, Y_pred = torch.max(Y_pred, 2)\n",
    "_,Y_true = torch.max(Y_valid, 2)\n",
    "acc_score = predict_score(Y_pred, Y_true)\n",
    "print(acc_score)"
>>>>>>> b10f07bc6411d5096a54995333ef89d63b5ad280
   ]
  },
  {
   "cell_type": "code",
<<<<<<< HEAD
   "execution_count": 9,
   "metadata": {
    "collapsed": true
   },
   "outputs": [],
=======
<<<<<<< HEAD
   "execution_count": null,
=======
   "execution_count": 21,
>>>>>>> 88967a75e68cda1e47e87138f4240432ee873c97
   "metadata": {
    "collapsed": true
   },
<<<<<<< HEAD
   "outputs": [],
=======
   "outputs": [
    {
     "data": {
      "text/plain": [
       "\n"
      ]
     },
     "execution_count": 21,
     "metadata": {},
     "output_type": "execute_result"
    }
   ],
>>>>>>> 88967a75e68cda1e47e87138f4240432ee873c97
>>>>>>> b10f07bc6411d5096a54995333ef89d63b5ad280
   "source": [
    "X_test = createDocWordMatrix(nfeatures, 53, X_valid)"
   ]
  },
  {
   "cell_type": "code",
<<<<<<< HEAD
   "execution_count": 10,
=======
<<<<<<< HEAD
   "execution_count": null,
   "metadata": {
    "collapsed": false
   },
   "outputs": [],
   "source": [
    "n = torch.norm(X_train, 2, 1)"
=======
   "execution_count": 27,
>>>>>>> b10f07bc6411d5096a54995333ef89d63b5ad280
   "metadata": {
    "collapsed": true
   },
   "outputs": [],
   "source": [
<<<<<<< HEAD
    "Y_test = onehotencode(nclasses, Y_valid)"
=======
    "lp, clp = fit(X_train, Y_train)\n",
    "Y_pred = predict(X_test, lp, clp)\n",
    "_, Y_pred = torch.max(Y_pred, 2)\n",
    "_,Y_true = torch.max(Y_valid, 2)\n",
    "acc_score = predict_score(Y_pred, Y_true)\n",
    "print(acc_score)"
>>>>>>> 88967a75e68cda1e47e87138f4240432ee873c97
>>>>>>> b10f07bc6411d5096a54995333ef89d63b5ad280
   ]
  },
  {
   "cell_type": "code",
   "execution_count": null,
   "metadata": {
    "collapsed": true
   },
   "outputs": [],
   "source": []
  }
 ],
 "metadata": {
  "kernelspec": {
   "display_name": "iTorch",
   "language": "lua",
   "name": "itorch"
  },
  "language_info": {
   "name": "lua",
   "version": "20100"
  }
 },
 "nbformat": 4,
 "nbformat_minor": 0
}
