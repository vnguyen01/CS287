{
 "cells": [
  {
   "cell_type": "code",
   "execution_count": 1,
   "metadata": {
    "collapsed": true
   },
   "outputs": [],
   "source": [
    "function counts()\n",
    "    --gets counts of classes and features\n",
    "    fc:add(Y:t()*(X))\n",
    "    cc:add(Y:sum(1))\n",
    "end"
   ]
  },
  {
   "cell_type": "code",
   "execution_count": 123,
   "metadata": {
    "collapsed": false
   },
   "outputs": [],
   "source": [
    "function log_prob()\n",
    "    --smoothes feature counts\n",
    "    sfc = torch.add(fc, 1)\n",
    "    \n",
    "    --smoothes class counts\n",
    "    scc = sfc:sum(2)\n",
    "\n",
    "    --logging\n",
    "    sfc:log()\n",
    "    scc:log()\n",
    "    \n",
    "    --expands for subtraction compatability \n",
    "    scc:expand(scc,scc:size(1),sfc:size(2))\n",
    "    \n",
    "    --log probabilities\n",
    "    lp = sfc:csub(scc)\n",
    "end   "
   ]
  },
  {
   "cell_type": "code",
   "execution_count": 129,
   "metadata": {
    "collapsed": false
   },
   "outputs": [],
   "source": [
    "function log_prior()\n",
    "    --pseudo prior\n",
    "    --clp:csub(math.log(Y:size(2)))\n",
    "    \n",
    "    --actual prior\n",
    "    total = cc:sum(2)\n",
    "    total:log()\n",
    "    total:expand(total,1,cc:size(2))\n",
    "    cc:log()\n",
    "    clp = cc:csub(total)\n",
    "end"
   ]
  },
  {
   "cell_type": "code",
   "execution_count": 130,
   "metadata": {
    "collapsed": false
   },
   "outputs": [],
   "source": [
    "function predict(X)\n",
    "    --joint log-likelihood\n",
    "    return((X*lp:t()):csub(clp:expand(clp,X:size(1),clp:size(2))))\n",
    "end"
   ]
  },
  {
   "cell_type": "code",
   "execution_count": 131,
   "metadata": {
    "collapsed": false
   },
   "outputs": [],
   "source": [
    "--input matrix\n",
    "X = torch.Tensor{{4.9,  3.1,  1.5,  0.1},\n",
    "                {6. ,  2.9,  4.5,  1.5},\n",
    "                { 5.5,  2.6,  4.4,  1.2},\n",
    "                { 4.8,  3. ,  1.4,  0.3},\n",
    "                { 5.4,  3.9,  1.3,  0.4},\n",
    "                { 5.6,  2.8,  4.9,  2. },\n",
    "       { 5.6,  3. ,  4.5,  1.5},\n",
    "       { 4.8,  3.4,  1.9,  0.2},\n",
    "       { 4.4,  2.9,  1.4,  0.2},\n",
    "       { 6.2,  2.8,  4.8,  1.8},\n",
    "       { 4.6,  3.6,  1. ,  0.2},\n",
    "       { 5.1,  3.8,  1.9,  0.4},\n",
    "       { 6.2,  2.9,  4.3,  1.3},\n",
    "       { 5. ,  2.3,  3.3,  1. },\n",
    "       { 5. ,  3.4,  1.6,  0.4},\n",
    "       { 6.4,  3.1,  5.5,  1.8},\n",
    "       { 5.4,  3. ,  4.5,  1.5},\n",
    "       { 5.2,  3.5,  1.5,  0.2},\n",
    "       { 6.1,  3. ,  4.9,  1.8},\n",
    "       { 6.4,  2.8,  5.6,  2.2}}\n",
    "--classes\n",
    "Y = torch.Tensor{{1, 0, 0},\n",
    "       {0, 1, 0},\n",
    "       {0, 1, 0},\n",
    "       {1, 0, 0},\n",
    "       {1, 0, 0},\n",
    "       {0, 0, 1},\n",
    "       {0, 1, 0},\n",
    "       {1, 0, 0},\n",
    "       {1, 0, 0},\n",
    "       {0, 0, 1},\n",
    "       {1, 0, 0},\n",
    "       {1, 0, 0},\n",
    "       {0, 1, 0},\n",
    "       {0, 1, 0},\n",
    "       {1, 0, 0},\n",
    "       {0, 0, 1},\n",
    "       {0, 1, 0},\n",
    "       {1, 0, 0},\n",
    "       {0, 0, 1},\n",
    "       {0, 0, 1}}\n",
    "\n",
    "--print(X)\n",
    "--print(Y)"
   ]
  },
  {
   "cell_type": "code",
   "execution_count": 132,
   "metadata": {
    "collapsed": false
   },
   "outputs": [],
   "source": [
    "test = torch.Tensor{{ 5.8,  2.8 , 5.1,  2.4},\n",
    " { 6. ,  2.2 , 4.,   1. },\n",
    " { 5.5 , 4.2 , 1.4 , 0.2},\n",
    " { 7.3 , 2.9 , 6.3 , 1.8},\n",
    " { 5.  , 3.4 , 1.5 , 0.2},\n",
    " { 6.3 , 3.3 , 6.  , 2.5},\n",
    " { 5.  , 3.5 , 1.3 , 0.3},\n",
    " { 6.7 , 3.1 , 4.7 , 1.5},\n",
    " { 6.8 , 2.8 , 4.8 , 1.4},\n",
    " { 6.1 , 2.8 , 4.  , 1.3},\n",
    " { 6.1 , 2.6 , 5.6 , 1.4},\n",
    " { 6.4 , 3.2 , 4.5 , 1.5},\n",
    " { 6.1 , 2.8 , 4.7 , 1.2},\n",
    " { 6.5 , 2.8 , 4.6 , 1.5},\n",
    " { 6.1 , 2.9,  4.7 , 1.4},\n",
    "}"
   ]
  },
  {
   "cell_type": "code",
   "execution_count": 133,
   "metadata": {
    "collapsed": false
   },
   "outputs": [
    {
     "data": {
      "text/plain": [
       "-0.7396 -1.0976 -1.8766 -3.3269\n",
       "-0.9295 -1.6026 -1.1991 -2.2790\n",
       "-0.9804 -1.6959 -1.1521 -2.0759\n",
       "[torch.DoubleTensor of size 3x4]\n",
       "\n",
       " 3\n",
       " 3\n",
       " 1\n",
       " 3\n",
       " 1\n",
       " 3\n",
       " 1\n",
       " 3\n",
       " 3\n",
       " 3\n",
       " 3\n",
       " 3\n",
       " 3\n",
       " 3\n",
       " 3\n",
       "[torch.LongTensor of size 15x1]\n",
       "\n"
      ]
     },
     "execution_count": 133,
     "metadata": {},
     "output_type": "execute_result"
    }
   ],
   "source": [
    "--GLOBAL VARIABLES\n",
    "--class counts\n",
    "cc = torch.zeros(1, Y:size(2))\n",
    "--feature counts\n",
    "fc = torch.zeros(Y:size(2), X:size(2))\n",
    "--conditional log probs\n",
    "lp = torch.zeros(Y:size(1), X:size(2))\n",
    "--class log probs\n",
    "clp = torch.zeros(1, Y:size(2))\n",
    "\n",
    "--fit and calculates \\theta\n",
    "counts()\n",
    "log_prob()\n",
    "log_prior()\n",
    "--\\theta\n",
    "print(lp)\n",
    "\n",
    "predictions = predict(test)\n",
    "max, indices = torch.max(predictions, 2)\n",
    "print(indices)"
   ]
  },
  {
   "cell_type": "code",
   "execution_count": 53,
   "metadata": {
    "collapsed": false
   },
   "outputs": [
    {
     "data": {
      "text/plain": [
       "nan nan nan\n",
       "nan nan nan\n",
       "nan nan nan\n",
       "nan nan nan\n",
       "nan nan nan\n",
       "nan nan nan\n",
       "nan nan nan\n",
       "nan nan nan\n",
       "nan nan nan\n",
       "nan nan nan\n",
       "nan nan nan\n",
       "nan nan nan\n",
       "nan nan nan\n",
       "nan nan nan\n",
       "nan nan nan\n",
       "[torch.DoubleTensor of size 15x3]\n",
       "\n"
      ]
     },
     "execution_count": 53,
     "metadata": {},
     "output_type": "execute_result"
    }
   ],
   "source": [
    "clp:log()"
   ]
  },
  {
   "cell_type": "code",
   "execution_count": null,
   "metadata": {
    "collapsed": true
   },
   "outputs": [],
   "source": []
  }
 ],
 "metadata": {
  "kernelspec": {
   "display_name": "iTorch",
   "language": "lua",
   "name": "itorch"
  },
  "language_info": {
   "name": "lua",
   "version": "20100"
  }
 },
 "nbformat": 4,
 "nbformat_minor": 0
}
