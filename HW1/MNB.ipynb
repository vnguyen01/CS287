{
 "cells": [
  {
   "cell_type": "code",
   "execution_count": 142,
   "metadata": {
    "collapsed": false
   },
   "outputs": [
    {
     "data": {
      "text/plain": [
       " 1  0\n",
       " 1  1\n",
       " 0  1\n",
       "[torch.DoubleTensor of size 3x2]\n",
       "\n",
       " 1  0  0\n",
       " 0  1  0\n",
       " 0  0  1\n",
       "[torch.DoubleTensor of size 3x3]\n",
       "\n",
       " 0  0  0\n",
       "[torch.DoubleTensor of size 1x3]\n",
       "\n",
       " 0  0\n",
       " 0  0\n",
       " 0  0\n",
       "[torch.DoubleTensor of size 3x2]\n",
       "\n"
      ]
     },
     "execution_count": 142,
     "metadata": {},
     "output_type": "execute_result"
    }
   ],
   "source": [
    "X = torch.Tensor{{1,0}, {1,1}, {0,1}}\n",
    "Y = torch.Tensor{{1,0,0}, {0,1,0}, {0,0,1}}\n",
    "print(X)\n",
    "print(Y)\n",
    "\n",
    "cc = torch.zeros(1, Y:size(1))\n",
    "fc = torch.zeros(Y:size(1), X:size(2))\n",
    "lp = torch.zeros(Y:size(1), X:size(2))\n",
    "print(cc)\n",
    "print(fc)"
   ]
  },
  {
   "cell_type": "code",
   "execution_count": 143,
   "metadata": {
    "collapsed": true
   },
   "outputs": [],
   "source": [
    "function counts(X, Y)\n",
    "    fc:add(Y:t()*(X))\n",
    "    cc:add(Y:sum(1))\n",
    "end"
   ]
  },
  {
   "cell_type": "code",
   "execution_count": 144,
   "metadata": {
    "collapsed": false
   },
   "outputs": [],
   "source": [
    "function update_feature_log_prob(fc)\n",
    "    smoothed_fc = torch.add(fc, 1)\n",
    "    smoothed_cc = smoothed_fc:sum(2)\n",
    "    --ones = torch.ones(smoothed_cc:size(1), smoothed_fc:size(2))\n",
    "    print(smoothed_fc)\n",
    "    print(smoothed_cc)\n",
    "    for i=1,smoothed_cc:size(1) do\n",
    "        smoothed_fc:select(1,i):add(smoothed_fc:select(1,i))\n",
    "    end\n",
    "    print(smoothed_fc)\n",
    "end   "
   ]
  },
  {
   "cell_type": "code",
   "execution_count": 145,
   "metadata": {
    "collapsed": false
   },
   "outputs": [
    {
     "ename": "[string \"function update_feature_log_prob(fc)...\"]:8: internal error in __mul: no metatable\nstack traceback:\n\t[C]: in function '__mul'\n\t[string \"function update_feature_log_prob(fc)...\"]:8: in function 'update_feature_log_prob'\n\t[string \"counts(X,Y)...\"]:4: in main chunk\n\t[C]: in function 'xpcall'\n\t/Users/Vincent/torch/install/share/lua/5.1/itorch/main.lua:179: in function </Users/Vincent/torch/install/share/lua/5.1/itorch/main.lua:143>\n\t/Users/Vincent/torch/install/share/lua/5.1/lzmq/poller.lua:75: in function 'poll'\n\t...s/Vincent/torch/install/share/lua/5.1/lzmq/impl/loop.lua:307: in function 'poll'\n\t...s/Vincent/torch/install/share/lua/5.1/lzmq/impl/loop.lua:325: in function 'sleep_ex'\n\t...s/Vincent/torch/install/share/lua/5.1/lzmq/impl/loop.lua:370: in function 'start'\n\t/Users/Vincent/torch/install/share/lua/5.1/itorch/main.lua:350: in main chunk\n\t[C]: in function 'require'\n\t(command line):1: in main chunk\n\t[C]: at 0x010805cbd0",
     "evalue": "",
     "output_type": "error",
     "traceback": [
      "[string \"function update_feature_log_prob(fc)...\"]:8: internal error in __mul: no metatable\nstack traceback:\n\t[C]: in function '__mul'\n\t[string \"function update_feature_log_prob(fc)...\"]:8: in function 'update_feature_log_prob'\n\t[string \"counts(X,Y)...\"]:4: in main chunk\n\t[C]: in function 'xpcall'\n\t/Users/Vincent/torch/install/share/lua/5.1/itorch/main.lua:179: in function </Users/Vincent/torch/install/share/lua/5.1/itorch/main.lua:143>\n\t/Users/Vincent/torch/install/share/lua/5.1/lzmq/poller.lua:75: in function 'poll'\n\t...s/Vincent/torch/install/share/lua/5.1/lzmq/impl/loop.lua:307: in function 'poll'\n\t...s/Vincent/torch/install/share/lua/5.1/lzmq/impl/loop.lua:325: in function 'sleep_ex'\n\t...s/Vincent/torch/install/share/lua/5.1/lzmq/impl/loop.lua:370: in function 'start'\n\t/Users/Vincent/torch/install/share/lua/5.1/itorch/main.lua:350: in main chunk\n\t[C]: in function 'require'\n\t(command line):1: in main chunk\n\t[C]: at 0x010805cbd0"
     ]
    },
    {
     "data": {
      "text/plain": [
       " 1  0\n",
       " 1  1\n",
       " 0  1\n",
       "[torch.DoubleTensor of size 3x2]\n",
       "\n",
       " 1  1  1\n",
       "[torch.DoubleTensor of size 1x3]\n",
       "\n",
       " 2  1\n",
       " 2  2\n",
       " 1  2\n",
       "[torch.DoubleTensor of size 3x2]\n",
       "\n",
       " 3\n",
       " 4\n",
       " 3\n",
       "[torch.DoubleTensor of size 3x1]\n",
       "\n"
      ]
     },
     "execution_count": 145,
     "metadata": {},
     "output_type": "execute_result"
    }
   ],
   "source": [
    "counts(X,Y)\n",
    "print(fc)\n",
    "print(cc)\n",
    "update_feature_log_prob(fc)"
   ]
  },
  {
   "cell_type": "code",
   "execution_count": 80,
   "metadata": {
    "collapsed": false
   },
   "outputs": [],
   "source": [
    "for i=1,2 do\n",
    "    fc:select(2, i):add(cc * -1)\n",
    "end"
   ]
  },
  {
   "cell_type": "code",
   "execution_count": 105,
   "metadata": {
    "collapsed": false
   },
   "outputs": [],
   "source": [
    "x = fc:sum(2)"
   ]
  },
  {
   "cell_type": "code",
   "execution_count": 114,
   "metadata": {
    "collapsed": false
   },
   "outputs": [
    {
     "data": {
      "text/plain": [
       " 1\n",
       "[torch.DoubleTensor of size 1]\n",
       "\n"
      ]
     },
     "execution_count": 114,
     "metadata": {},
     "output_type": "execute_result"
    }
   ],
   "source": [
    "x:select(1, 3)"
   ]
  },
  {
   "cell_type": "code",
   "execution_count": 133,
   "metadata": {
    "collapsed": false
   },
   "outputs": [
    {
     "data": {
      "text/plain": [
       "-1\n",
       " 0\n",
       "[torch.DoubleTensor of size 2]\n",
       "\n"
      ]
     },
     "execution_count": 133,
     "metadata": {},
     "output_type": "execute_result"
    }
   ],
   "source": [
    "fc:select(1,3):add(-1)"
   ]
  },
  {
   "cell_type": "code",
   "execution_count": 131,
   "metadata": {
    "collapsed": false
   },
   "outputs": [
    {
     "data": {
      "text/plain": [
       " 0 -1\n",
       " 1  1\n",
       " 0  1\n",
       "[torch.DoubleTensor of size 3x2]\n",
       "\n"
      ]
     },
     "execution_count": 131,
     "metadata": {},
     "output_type": "execute_result"
    }
   ],
   "source": [
    "fc"
   ]
  },
  {
   "cell_type": "code",
   "execution_count": null,
   "metadata": {
    "collapsed": true
   },
   "outputs": [],
   "source": []
  }
 ],
 "metadata": {
  "kernelspec": {
   "display_name": "iTorch",
   "language": "lua",
   "name": "itorch"
  },
  "language_info": {
   "name": "lua",
   "version": "20100"
  }
 },
 "nbformat": 4,
 "nbformat_minor": 0
}
