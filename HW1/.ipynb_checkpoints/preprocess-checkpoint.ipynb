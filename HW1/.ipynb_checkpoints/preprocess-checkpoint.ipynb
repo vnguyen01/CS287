{
 "cells": [
  {
   "cell_type": "code",
   "execution_count": 1,
   "metadata": {
    "collapsed": true
   },
   "outputs": [],
   "source": [
    "import numpy as np\n",
    "import h5py\n",
    "import argparse\n",
    "import sys\n",
    "import re"
   ]
  },
  {
   "cell_type": "code",
   "execution_count": 2,
   "metadata": {
    "collapsed": true
   },
   "outputs": [],
   "source": [
    "# Different data sets to try.\n",
    "# Note: TREC has no development set.\n",
    "# And SUBJ and MPQA have no splits (must use cross-validation)\n",
    "FILE_PATHS = {\"SST1\": (\"data/stsa.fine.phrases.train\",\n",
    "                       \"data/stsa.fine.dev\",\n",
    "                       \"data/stsa.fine.test\"),\n",
    "              \"SST2\": (\"data/stsa.binary.phrases.train\",\n",
    "                       \"data/stsa.binary.dev\",\n",
    "                       \"data/stsa.binary.test\"),\n",
    "              \"TREC\": (\"data/TREC.train.all\", None,\n",
    "                       \"data/TREC.test.all\"),\n",
    "              \"SUBJ\": (\"data/subj.all\", None, None),\n",
    "              \"MPQA\": (\"data/mpqa.all\", None, None)}\n",
    "\n",
    "# Kaggle dataset for now\n",
    "args = {\"SST1\"}"
   ]
  },
  {
   "cell_type": "code",
   "execution_count": null,
   "metadata": {
    "collapsed": true
   },
   "outputs": [],
   "source": []
  }
 ],
 "metadata": {
  "kernelspec": {
   "display_name": "Python 2",
   "language": "python",
   "name": "python2"
  },
  "language_info": {
   "codemirror_mode": {
    "name": "ipython",
    "version": 2
   },
   "file_extension": ".py",
   "mimetype": "text/x-python",
   "name": "python",
   "nbconvert_exporter": "python",
   "pygments_lexer": "ipython2",
   "version": "2.7.11"
  }
 },
 "nbformat": 4,
 "nbformat_minor": 0
}
