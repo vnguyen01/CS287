{
 "cells": [
  {
   "cell_type": "code",
   "execution_count": 111,
   "metadata": {
    "collapsed": false
   },
   "outputs": [
    {
     "data": {
      "text/plain": [
       " 1  0\n",
       " 1  1\n",
       " 0  1\n",
       "[torch.DoubleTensor of size 3x2]\n",
       "\n",
       " 1  0  0\n",
       " 0  1  0\n",
       " 0  0  1\n",
       "[torch.DoubleTensor of size 3x3]\n",
       "\n",
       " 0  0  0\n",
       "[torch.DoubleTensor of size 1x3]\n",
       "\n",
       " 0  0\n",
       " 0  0\n",
       " 0  0\n",
       "[torch.DoubleTensor of size 3x2]\n",
       "\n"
      ]
     },
     "execution_count": 111,
     "metadata": {},
     "output_type": "execute_result"
    }
   ],
   "source": [
    "X = torch.Tensor{{1,0}, {1,1}, {0,1}}\n",
    "Y = torch.Tensor{{1,0,0}, {0,1,0}, {0,0,1}}\n",
    "print(X)\n",
    "print(Y)\n",
    "\n",
    "cc = torch.zeros(1, Y:size(1))\n",
    "fc = torch.zeros(Y:size(1), X:size(2))\n",
    "print(cc)\n",
    "print(fc)"
   ]
  },
  {
   "cell_type": "code",
   "execution_count": 112,
   "metadata": {
    "collapsed": true
   },
   "outputs": [],
   "source": [
    "function counts(X, Y)\n",
    "    fc:add(Y:t()*(X))\n",
    "    cc:add(Y:sum(1))\n",
    "end"
   ]
  },
  {
   "cell_type": "code",
   "execution_count": 113,
   "metadata": {
    "collapsed": false
   },
   "outputs": [
    {
     "ename": "[string \"function counts(X, Y)...\"]:3: inconsistent tensor size at /tmp/luarocks_torch-scm-1-8597/torch7/lib/TH/generic/THTensorMath.c:500\nstack traceback:\n\t[C]: in function 'add'\n\t[string \"function counts(X, Y)...\"]:3: in function 'f'\n\t[string \"local f = function() return counts(X, Y) end;...\"]:1: in main chunk\n\t[C]: in function 'xpcall'\n\t/Users/Vincent/torch/install/share/lua/5.1/itorch/main.lua:179: in function </Users/Vincent/torch/install/share/lua/5.1/itorch/main.lua:143>\n\t/Users/Vincent/torch/install/share/lua/5.1/lzmq/poller.lua:75: in function 'poll'\n\t...s/Vincent/torch/install/share/lua/5.1/lzmq/impl/loop.lua:307: in function 'poll'\n\t...s/Vincent/torch/install/share/lua/5.1/lzmq/impl/loop.lua:325: in function 'sleep_ex'\n\t...s/Vincent/torch/install/share/lua/5.1/lzmq/impl/loop.lua:370: in function 'start'\n\t/Users/Vincent/torch/install/share/lua/5.1/itorch/main.lua:350: in main chunk\n\t[C]: in function 'require'\n\t(command line):1: in main chunk\n\t[C]: at 0x0104b6bbd0",
     "evalue": "",
     "output_type": "error",
     "traceback": [
      "[string \"function counts(X, Y)...\"]:3: inconsistent tensor size at /tmp/luarocks_torch-scm-1-8597/torch7/lib/TH/generic/THTensorMath.c:500\nstack traceback:\n\t[C]: in function 'add'\n\t[string \"function counts(X, Y)...\"]:3: in function 'f'\n\t[string \"local f = function() return counts(X, Y) end;...\"]:1: in main chunk\n\t[C]: in function 'xpcall'\n\t/Users/Vincent/torch/install/share/lua/5.1/itorch/main.lua:179: in function </Users/Vincent/torch/install/share/lua/5.1/itorch/main.lua:143>\n\t/Users/Vincent/torch/install/share/lua/5.1/lzmq/poller.lua:75: in function 'poll'\n\t...s/Vincent/torch/install/share/lua/5.1/lzmq/impl/loop.lua:307: in function 'poll'\n\t...s/Vincent/torch/install/share/lua/5.1/lzmq/impl/loop.lua:325: in function 'sleep_ex'\n\t...s/Vincent/torch/install/share/lua/5.1/lzmq/impl/loop.lua:370: in function 'start'\n\t/Users/Vincent/torch/install/share/lua/5.1/itorch/main.lua:350: in main chunk\n\t[C]: in function 'require'\n\t(command line):1: in main chunk\n\t[C]: at 0x0104b6bbd0"
     ]
    }
   ],
   "source": [
    "counts(X, Y)"
   ]
  },
  {
   "cell_type": "code",
   "execution_count": 110,
   "metadata": {
    "collapsed": false
   },
   "outputs": [
    {
     "data": {
      "text/plain": [
       " 1  1  1\n",
       "[torch.DoubleTensor of size 1x3]\n",
       "\n"
      ]
     },
     "execution_count": 110,
     "metadata": {},
     "output_type": "execute_result"
    }
   ],
   "source": [
    "cc:addY:sum(1)"
   ]
  },
  {
   "cell_type": "code",
   "execution_count": 108,
   "metadata": {
    "collapsed": false
   },
   "outputs": [
    {
     "data": {
      "text/plain": [
       " 0  0  0\n",
       "[torch.DoubleTensor of size 1x3]\n",
       "\n"
      ]
     },
     "execution_count": 108,
     "metadata": {},
     "output_type": "execute_result"
    }
   ],
   "source": [
    "cc"
   ]
  },
  {
   "cell_type": "code",
   "execution_count": null,
   "metadata": {
    "collapsed": true
   },
   "outputs": [],
   "source": []
  }
 ],
 "metadata": {
  "kernelspec": {
   "display_name": "iTorch",
   "language": "lua",
   "name": "itorch"
  },
  "language_info": {
   "name": "lua",
   "version": "20100"
  }
 },
 "nbformat": 4,
 "nbformat_minor": 0
}
