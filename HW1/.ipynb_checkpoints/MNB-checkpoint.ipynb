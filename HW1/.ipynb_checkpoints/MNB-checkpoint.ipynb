{
 "cells": [
  {
   "cell_type": "code",
   "execution_count": 1,
   "metadata": {
    "collapsed": true
   },
   "outputs": [],
   "source": [
    "function counts()\n",
    "    --gets counts of classes and features\n",
    "    fc:add(Y:t()*(X))\n",
    "    cc:add(Y:sum(1))\n",
    "end"
   ]
  },
  {
   "cell_type": "code",
   "execution_count": 17,
   "metadata": {
    "collapsed": false
   },
   "outputs": [],
   "source": [
    "function log_prob()\n",
    "    --smoothes feature counts\n",
    "    sfc = torch.add(fc, 1)\n",
    "    \n",
    "    --smoothes class counts\n",
    "    scc = sfc:sum(2)\n",
    "    \n",
    "    --logging\n",
    "    sfc:log()\n",
    "    scc:log()\n",
    "    \n",
    "    --expands for subtraction compatability \n",
    "    scc:expand(scc,scc:size(1),sfc:size(2))\n",
    "    \n",
    "    --log probabilities\n",
    "    lp = sfc:csub(scc)\n",
    "end   "
   ]
  },
  {
   "cell_type": "code",
   "execution_count": 18,
   "metadata": {
    "collapsed": false
   },
   "outputs": [],
   "source": [
    "function log_prior()\n",
    "    --updates class priors\n",
    "    clp:csub(math.log(Y:size(2)))\n",
    "end"
   ]
  },
  {
   "cell_type": "code",
   "execution_count": 19,
   "metadata": {
    "collapsed": false
   },
   "outputs": [],
   "source": [
    "function predict(X)\n",
    "    --joint log-likelihood\n",
    "    return((X*lp:t()):csub(clp:expand(clp,X:size(1),clp:size(2))))\n",
    "end"
   ]
  },
  {
   "cell_type": "code",
   "execution_count": 23,
   "metadata": {
    "collapsed": false
   },
   "outputs": [
    {
     "data": {
      "text/plain": [
       " 4.9000  3.1000  1.5000  0.1000\n",
       " 6.0000  2.9000  4.5000  1.5000\n",
       " 5.5000  2.6000  4.4000  1.2000\n",
       " 4.8000  3.0000  1.4000  0.3000\n",
       " 5.4000  3.9000  1.3000  0.4000\n",
       " 5.6000  2.8000  4.9000  2.0000\n",
       " 5.6000  3.0000  4.5000  1.5000\n",
       " 4.8000  3.4000  1.9000  0.2000\n",
       " 4.4000  2.9000  1.4000  0.2000\n",
       " 6.2000  2.8000  4.8000  1.8000\n",
       " 4.6000  3.6000  1.0000  0.2000\n",
       " 5.1000  3.8000  1.9000  0.4000\n",
       " 6.2000  2.9000  4.3000  1.3000\n",
       " 5.0000  2.3000  3.3000  1.0000\n",
       " 5.0000  3.4000  1.6000  0.4000\n",
       " 6.4000  3.1000  5.5000  1.8000\n",
       " 5.4000  3.0000  4.5000  1.5000\n",
       " 5.2000  3.5000  1.5000  0.2000\n",
       " 6.1000  3.0000  4.9000  1.8000\n",
       " 6.4000  2.8000  5.6000  2.2000\n",
       "[torch.DoubleTensor of size 20x4]\n",
       "\n",
       " 1  0  0\n",
       " 0  1  0\n",
       " 0  1  0\n",
       " 1  0  0\n",
       " 1  0  0\n",
       " 0  0  1\n",
       " 0  1  0\n",
       " 1  0  0\n",
       " 1  0  0\n",
       " 0  0  1\n",
       " 1  0  0\n",
       " 1  0  0\n",
       " 0  1  0\n",
       " 0  1  0\n",
       " 1  0  0\n",
       " 0  0  1\n",
       " 0  1  0\n",
       " 1  0  0\n",
       " 0  0  1\n",
       " 0  0  1\n",
       "[torch.DoubleTensor of size 20x3]\n",
       "\n"
      ]
     },
     "execution_count": 23,
     "metadata": {},
     "output_type": "execute_result"
    }
   ],
   "source": [
    "--input matrix\n",
    "X = torch.Tensor{{4.9,  3.1,  1.5,  0.1},\n",
    "                {6. ,  2.9,  4.5,  1.5},\n",
    "                { 5.5,  2.6,  4.4,  1.2},\n",
    "       { 4.8,  3. ,  1.4,  0.3},\n",
    "       { 5.4,  3.9,  1.3,  0.4},\n",
    "       { 5.6,  2.8,  4.9,  2. },\n",
    "       { 5.6,  3. ,  4.5,  1.5},\n",
    "       { 4.8,  3.4,  1.9,  0.2},\n",
    "       { 4.4,  2.9,  1.4,  0.2},\n",
    "       { 6.2,  2.8,  4.8,  1.8},\n",
    "       { 4.6,  3.6,  1. ,  0.2},\n",
    "       { 5.1,  3.8,  1.9,  0.4},\n",
    "       { 6.2,  2.9,  4.3,  1.3},\n",
    "       { 5. ,  2.3,  3.3,  1. },\n",
    "       { 5. ,  3.4,  1.6,  0.4},\n",
    "       { 6.4,  3.1,  5.5,  1.8},\n",
    "       { 5.4,  3. ,  4.5,  1.5},\n",
    "       { 5.2,  3.5,  1.5,  0.2},\n",
    "       { 6.1,  3. ,  4.9,  1.8},\n",
    "       { 6.4,  2.8,  5.6,  2.2}}\n",
    "--classes\n",
    "Y = torch.Tensor{{1, 0, 0},\n",
    "       {0, 1, 0},\n",
    "       {0, 1, 0},\n",
    "       {1, 0, 0},\n",
    "       {1, 0, 0},\n",
    "       {0, 0, 1},\n",
    "       {0, 1, 0},\n",
    "       {1, 0, 0},\n",
    "       {1, 0, 0},\n",
    "       {0, 0, 1},\n",
    "       {1, 0, 0},\n",
    "       {1, 0, 0},\n",
    "       {0, 1, 0},\n",
    "       {0, 1, 0},\n",
    "       {1, 0, 0},\n",
    "       {0, 0, 1},\n",
    "       {0, 1, 0},\n",
    "       {1, 0, 0},\n",
    "       {0, 0, 1},\n",
    "       {0, 0, 1}}\n",
    "\n",
    "print(X)\n",
    "print(Y)"
   ]
  },
  {
   "cell_type": "code",
   "execution_count": 28,
   "metadata": {
    "collapsed": false
   },
   "outputs": [
    {
     "data": {
      "text/plain": [
       " 0  0  0  0\n",
       " 0  0  0  0\n",
       " 0  0  0  0\n",
       "[torch.DoubleTensor of size 3x4]\n",
       "\n",
       "-0.7396 -1.0976 -1.8766 -3.3269\n",
       "-0.9295 -1.6026 -1.1991 -2.2790\n",
       "-0.9804 -1.6959 -1.1521 -2.0759\n",
       "[torch.DoubleTensor of size 3x4]\n",
       "\n"
      ]
     },
     "execution_count": 28,
     "metadata": {},
     "output_type": "execute_result"
    }
   ],
   "source": [
    "--GLOBAL VARIABLES\n",
    "--class counts\n",
    "cc = torch.zeros(1, Y:size(2))\n",
    "--feature counts\n",
    "fc = torch.zeros(Y:size(2), X:size(2))\n",
    "print(fc)\n",
    "--conditional log probs\n",
    "lp = torch.zeros(Y:size(1), X:size(2))\n",
    "--class log probs\n",
    "clp = torch.zeros(1, Y:size(2))\n",
    "\n",
    "--fit and calculates \\theta\n",
    "counts()\n",
    "log_prob()\n",
    "log_prior()\n",
    "--\\theta\n",
    "print(lp)\n",
    "\n",
    "--testing an input tensor\n",
    "--test = torch.Tensor{{1,0},{0,1}}\n",
    "--we expect that it will give class 0 and 2 (or rather 1 and 3 since not indexed at 0)\n",
    "--predictions = predict(test)\n",
    "--print(predictions)\n",
    "--max, indices = torch.max(predictions, 2)\n",
    "--print(indices)"
   ]
  },
  {
   "cell_type": "code",
   "execution_count": null,
   "metadata": {
    "collapsed": true
   },
   "outputs": [],
   "source": []
  }
 ],
 "metadata": {
  "kernelspec": {
   "display_name": "iTorch",
   "language": "lua",
   "name": "itorch"
  },
  "language_info": {
   "name": "lua",
   "version": "20100"
  }
 },
 "nbformat": 4,
 "nbformat_minor": 0
}
