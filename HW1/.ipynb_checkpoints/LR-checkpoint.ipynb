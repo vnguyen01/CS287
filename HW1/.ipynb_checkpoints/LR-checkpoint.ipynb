{
 "cells": [
  {
   "cell_type": "code",
   "execution_count": null,
   "metadata": {
    "collapsed": false
   },
   "outputs": [],
   "source": [
    "require(\"hdf5\")"
   ]
  },
  {
   "cell_type": "markdown",
   "metadata": {},
   "source": [
    "<h3>Multinomial Logistic Regression</h3>"
   ]
  },
  {
   "cell_type": "code",
   "execution_count": 40,
   "metadata": {
    "collapsed": false
   },
   "outputs": [],
   "source": [
    "function logsumexp(z)\n",
    "    --Log Sum Exp Trick \n",
    "        --https://hips.seas.harvard.edu/blog/2013/01/09/computing-log-sum-exp/\n",
    "        --Let a = max_n (XW^T+b)_n\n",
    "        --so that\n",
    "        --a + \\log \\sum \\exp (XW^T+b - a) \n",
    "    --find the maximum values in each column\n",
    "    local a = z:max(2)\n",
    "    --subtract constant from XW^T+b\n",
    "    z:csub(torch.expand(a,a:size(1), z:size(2)))   \n",
    "    z:exp()\n",
    "    z = z:sum(2)\n",
    "    z:log()\n",
    "    --add constant back in\n",
    "    z:add(a)\n",
    "    return z\n",
    "end\n",
    "\n",
    "neval=0\n",
    "\n",
    "function loss_minimization(W, X, Y)\n",
    "    W = W:reshape(Y:size(2), X:size(2)+1)\n",
    "    --intercept\n",
    "    local b = W:sub(1, W:size(1), W:size(2),W:size(2)):t()\n",
    "    --coefficients\n",
    "    W = W:sub(1, W:size(1),1,W:size(2)-1)\n",
    "    --z_c = XW^T + b\n",
    "    local z = (X*W:t()):add(b:expand(b,X:size(1),b:size(2)))\n",
    "    --\\log \\sum \\exp z_c\n",
    "    z_c = logsumexp(z:clone())\n",
    "    --z - \\log \\sum \\exp z_c \n",
    "    z:csub(torch.expand(z_c, z_c:size(1), z:size(2)))\n",
    "    --L2 regularization\n",
    "    local norm = W:reshape(W:size(1)*W:size(2), 1)\n",
    "    --L1 regularization\n",
    "    --torch.sum(W) --put that above return \n",
    "    --Cross Entropy Loss\n",
    "    local loss = (torch.sum(torch.cmul(Y,z))*-1) + 0.5 * torch.sum(W)--torch.dot(norm, norm)\n",
    "    return loss, z:exp(), W\n",
    "end\n",
    "\n",
    "function minibatch(X, Y, bsize)\n",
    "    --random ordering of ints [1,nexamples] and take first bsize\n",
    "    local idx = torch.randperm(X:size(1)):sub(1,bsize)\n",
    "    --training minibatches\n",
    "    local X_batch = torch.Tensor(bsize, X:size(2))\n",
    "    local Y_batch = torch.Tensor(bsize, Y:size(2))\n",
    "    for i=1,bsize do\n",
    "        X_batch[i] = X[idx[i]]\n",
    "        Y_batch[i] = Y[idx[i]]\n",
    "    end\n",
    "    return X_batch, Y_batch\n",
    "end\n",
    "\n",
    "function grad_loss_minimization(W, X, Y, bsize)\n",
    "    --do minibatch sampling\n",
    "    local X_batch, Y_batch = minibatch(X, Y, bsize)\n",
    "    local loss, mu, W = loss_minimization(W, X_batch, Y_batch)\n",
    "    \n",
    "    --calculate the gradient\n",
    "    --g(W) = \\sum (\\mu_i - y_i) \\times x_i\n",
    "    --from Murphy pg. 253\n",
    "    local mu_y = torch.csub(mu, Y_batch)\n",
    "    local grad = mu_y:t()*X_batch\n",
    "    grad:add(W)\n",
    "    grad = grad:cat(torch.zeros(grad:size(1),1), 2)\n",
    "    grad:sub(1, grad:size(1), grad:size(2), grad:size(2)):add(mu_y:sum(1))\n",
    "    neval = neval + 1\n",
    "    print(neval, loss)\n",
    "    return grad:reshape(grad:size(1)*grad:size(2), 1)\n",
    "end\n",
    "\n",
    "function fit(X, Y, bsize, rate, iter)\n",
    "    --Weight matrix must be passed in as vector\n",
    "    local W = torch.zeros(Y:size(2) * (X:size(2)+1), 1)\n",
    "\n",
    "    \n",
    "    --params\n",
    "    local lr = rate\n",
    "    local b1 = 0.9\n",
    "    local b2 = 0.999\n",
    "    local e = 1e-8\n",
    "    local t = 0\n",
    "    local m\n",
    "    local v\n",
    "    local denom\n",
    "\n",
    "    function adam(W)\n",
    "        --quicker and smoother than sgd\n",
    "        --https://github.com/torch/optim/blob/master/adam.lua\n",
    "        --http://arxiv.org/pdf/1412.6980.pdf\n",
    "        local grad = grad_loss_minimization(W, X, Y, bsize)\n",
    "        m = m or W.new(grad:size()):zero()\n",
    "        v = v or W.new(grad:size()):zero()\n",
    "        denom = denom or W.new(grad:size()):zero()\n",
    "        t = t + 1\n",
    "        m:mul(b1):add(1-b1, grad)\n",
    "        v:mul(b2):addcmul(1-b2, grad, grad)\n",
    "        denom:copy(v):sqrt():add(e)\n",
    "        local biasCorrection1 = 1 - b1^t\n",
    "        local biasCorrection2 = 1 - b2^t\n",
    "        local stepSize = lr * math.sqrt(biasCorrection2)/biasCorrection1\n",
    "        W:addcdiv(-stepSize, m, denom)\n",
    "        return W\n",
    "    end\n",
    "    \n",
    "    --[[\n",
    "    function sgd(W)\n",
    "        local grad = grad_loss_minimization(W, X, Y, bsize)\n",
    "        grad:mul(lr)\n",
    "        W:csub(grad)\n",
    "        return W\n",
    "    end\n",
    "    ]]\n",
    "    \n",
    "    for i=1,iter do\n",
    "        --W = sgd(W)\n",
    "        W = adam(W)\n",
    "    end\n",
    "\n",
    "    W = W:reshape(Y:size(2), X:size(2)+1)\n",
    "    --intercept\n",
    "    b = W:sub(1, W:size(1), W:size(2), W:size(2))\n",
    "    --coefficients\n",
    "    W = W:sub(1, W:size(1), 1, W:size(2)-1)\n",
    "    return W, b\n",
    "end\n",
    "\n",
    "function predict(X, W, b)\n",
    "    local b = b:t()\n",
    "    return (X*W:t()):add(b:expand(b, X:size(1), b:size(2)))\n",
    "end\n",
    "\n",
    "function predict_score(ypred, ytrue)\n",
    "    local c = 0\n",
    "    for i=1,ypred:size(1) do\n",
    "        if ypred[i][1] == ytrue[i][1] then\n",
    "            c = c + 1       \n",
    "        end\n",
    "    end\n",
    "    return c/ypred:size(1)\n",
    "end"
   ]
  },
  {
   "cell_type": "markdown",
   "metadata": {},
   "source": [
    "<h3>Preprocessing</h3>"
   ]
  },
  {
   "cell_type": "code",
   "execution_count": 8,
   "metadata": {
    "collapsed": true
   },
   "outputs": [],
   "source": [
    "--feature weight: counts\n",
    "function createDocWordMatrix(vocab, max_sent_len, sparseMatrix)\n",
    "    docword = torch.zeros(sparseMatrix:size(1), vocab)\n",
    "    for i=1,sparseMatrix:size(1) do\n",
    "        for j=1, max_sent_len do\n",
    "            local idx = (sparseMatrix[i][j])\n",
    "            if idx ~= 0 then\n",
    "                docword[i][idx] = 1 --+ docword[i][idx]\n",
    "            end\n",
    "        end\n",
    "    end\n",
    "    return docword\n",
    "end\n",
    " \n",
    "function onehotencode(classes, target)\n",
    "    onehot = torch.zeros(target:size(1), classes)\n",
    "    for i=1,target:size(1) do\n",
    "        onehot[i][target[i]] = 1\n",
    "    end\n",
    "    return onehot\n",
    "end\n",
    "\n",
    "function write2file(fname, pred) \n",
    "    f = io.open(fname, \"w\")\n",
    "    f:write(\"ID,Category\\n\")\n",
    "    for i=1,pred:size(1) do\n",
    "        f:write(tostring(i) .. \",\" .. tostring(pred[i][1]) .. \"\\n\")\n",
    "    end\n",
    "    f:close()\n",
    "end"
   ]
  },
  {
   "cell_type": "code",
   "execution_count": 34,
   "metadata": {
    "collapsed": false
   },
   "outputs": [],
   "source": [
    "f = hdf5.open(\"SST2.hdf5\", \"r\")\n",
    "\n",
    "X_train = f:read(\"train_input\"):all()\n",
    "Y_train = f:read(\"train_output\"):all()\n",
    "X_valid = f:read(\"valid_input\"):all()\n",
    "Y_valid = f:read(\"valid_output\"):all()\n",
    "--X_test = f:read(\"test_input\"):all()\n",
    "nclasses = f:read('nclasses'):all():long()[1]\n",
    "nfeatures = f:read('nfeatures'):all():long()[1]\n",
    "\n",
    "f:close()"
   ]
  },
  {
   "cell_type": "code",
   "execution_count": 35,
   "metadata": {
    "collapsed": false
   },
   "outputs": [],
   "source": [
    "X_train =createDocWordMatrix(nfeatures, 53, X_train)\n",
    "Y_train = onehotencode(nclasses, Y_train)\n",
    "X_test = createDocWordMatrix(nfeatures, 53, X_valid)\n",
    "Y_test = onehotencode(nclasses, Y_valid)"
   ]
  },
  {
   "cell_type": "code",
   "execution_count": 41,
   "metadata": {
    "collapsed": false
   },
   "outputs": [
    {
     "data": {
      "text/plain": [
       "1\t6931.4718056005\t\n"
      ]
     },
     "execution_count": 41,
     "metadata": {},
     "output_type": "execute_result"
    },
    {
     "data": {
      "text/plain": [
       "2\t6704.9239456248\t\n"
      ]
     },
     "execution_count": 41,
     "metadata": {},
     "output_type": "execute_result"
    },
    {
     "data": {
      "text/plain": [
       "3\t6503.2545650759\t\n"
      ]
     },
     "execution_count": 41,
     "metadata": {},
     "output_type": "execute_result"
    },
    {
     "data": {
      "text/plain": [
       "4\t6316.4262701877\t\n"
      ]
     },
     "execution_count": 41,
     "metadata": {},
     "output_type": "execute_result"
    },
    {
     "data": {
      "text/plain": [
       "5\t6155.5485006223\t\n"
      ]
     },
     "execution_count": 41,
     "metadata": {},
     "output_type": "execute_result"
    },
    {
     "data": {
      "text/plain": [
       "6\t6002.8146409178\t\n"
      ]
     },
     "execution_count": 41,
     "metadata": {},
     "output_type": "execute_result"
    },
    {
     "data": {
      "text/plain": [
       "7\t5821.5903042495\t\n"
      ]
     },
     "execution_count": 41,
     "metadata": {},
     "output_type": "execute_result"
    },
    {
     "data": {
      "text/plain": [
       "8\t5729.7203272981\t\n"
      ]
     },
     "execution_count": 41,
     "metadata": {},
     "output_type": "execute_result"
    },
    {
     "data": {
      "text/plain": [
       "9\t5573.7893566908\t\n"
      ]
     },
     "execution_count": 41,
     "metadata": {},
     "output_type": "execute_result"
    },
    {
     "data": {
      "text/plain": [
       "10\t5435.6849021372\t\n"
      ]
     },
     "execution_count": 41,
     "metadata": {},
     "output_type": "execute_result"
    },
    {
     "data": {
      "text/plain": [
       "11\t5333.6632889099\t\n"
      ]
     },
     "execution_count": 41,
     "metadata": {},
     "output_type": "execute_result"
    },
    {
     "data": {
      "text/plain": [
       "12\t5193.9746730227\t\n"
      ]
     },
     "execution_count": 41,
     "metadata": {},
     "output_type": "execute_result"
    },
    {
     "data": {
      "text/plain": [
       "13\t5198.2525003477\t\n"
      ]
     },
     "execution_count": 41,
     "metadata": {},
     "output_type": "execute_result"
    },
    {
     "data": {
      "text/plain": [
       "14\t5018.6443346579\t\n"
      ]
     },
     "execution_count": 41,
     "metadata": {},
     "output_type": "execute_result"
    },
    {
     "data": {
      "text/plain": [
       "15\t4977.1919260906\t\n"
      ]
     },
     "execution_count": 41,
     "metadata": {},
     "output_type": "execute_result"
    },
    {
     "data": {
      "text/plain": [
       "16\t4903.5826891148\t\n"
      ]
     },
     "execution_count": 41,
     "metadata": {},
     "output_type": "execute_result"
    },
    {
     "data": {
      "text/plain": [
       "17\t4798.823972869\t\n"
      ]
     },
     "execution_count": 41,
     "metadata": {},
     "output_type": "execute_result"
    },
    {
     "data": {
      "text/plain": [
       "18\t4739.5819535099\t\n"
      ]
     },
     "execution_count": 41,
     "metadata": {},
     "output_type": "execute_result"
    },
    {
     "data": {
      "text/plain": [
       "19\t4654.9201344026\t\n"
      ]
     },
     "execution_count": 41,
     "metadata": {},
     "output_type": "execute_result"
    },
    {
     "data": {
      "text/plain": [
       "20\t4580.3982886474\t\n"
      ]
     },
     "execution_count": 41,
     "metadata": {},
     "output_type": "execute_result"
    },
    {
     "data": {
      "text/plain": [
       "21\t4535.5454389345\t\n"
      ]
     },
     "execution_count": 41,
     "metadata": {},
     "output_type": "execute_result"
    },
    {
     "data": {
      "text/plain": [
       "22\t4438.1047940483\t\n"
      ]
     },
     "execution_count": 41,
     "metadata": {},
     "output_type": "execute_result"
    },
    {
     "data": {
      "text/plain": [
       "23\t4393.3373423206\t\n"
      ]
     },
     "execution_count": 41,
     "metadata": {},
     "output_type": "execute_result"
    },
    {
     "data": {
      "text/plain": [
       "24\t4360.9708341006\t\n"
      ]
     },
     "execution_count": 41,
     "metadata": {},
     "output_type": "execute_result"
    },
    {
     "data": {
      "text/plain": [
       "25\t4315.6623148621\t\n"
      ]
     },
     "execution_count": 41,
     "metadata": {},
     "output_type": "execute_result"
    },
    {
     "data": {
      "text/plain": [
       "26\t4272.952666441\t\n"
      ]
     },
     "execution_count": 41,
     "metadata": {},
     "output_type": "execute_result"
    },
    {
     "data": {
      "text/plain": [
       "27\t4205.1430078842\t\n"
      ]
     },
     "execution_count": 41,
     "metadata": {},
     "output_type": "execute_result"
    },
    {
     "data": {
      "text/plain": [
       "28\t4195.1668477333\t\n"
      ]
     },
     "execution_count": 41,
     "metadata": {},
     "output_type": "execute_result"
    },
    {
     "data": {
      "text/plain": [
       "29\t4150.4734782064\t\n"
      ]
     },
     "execution_count": 41,
     "metadata": {},
     "output_type": "execute_result"
    },
    {
     "data": {
      "text/plain": [
       "30\t4114.8815155673\t\n"
      ]
     },
     "execution_count": 41,
     "metadata": {},
     "output_type": "execute_result"
    },
    {
     "data": {
      "text/plain": [
       "31\t4053.4149999379\t\n"
      ]
     },
     "execution_count": 41,
     "metadata": {},
     "output_type": "execute_result"
    },
    {
     "data": {
      "text/plain": [
       "32\t4052.0380961907\t\n"
      ]
     },
     "execution_count": 41,
     "metadata": {},
     "output_type": "execute_result"
    },
    {
     "data": {
      "text/plain": [
       "33\t4023.8403887519\t\n"
      ]
     },
     "execution_count": 41,
     "metadata": {},
     "output_type": "execute_result"
    },
    {
     "data": {
      "text/plain": [
       "34\t3981.5982239525\t\n"
      ]
     },
     "execution_count": 41,
     "metadata": {},
     "output_type": "execute_result"
    },
    {
     "data": {
      "text/plain": [
       "35\t3854.1888571637\t\n"
      ]
     },
     "execution_count": 41,
     "metadata": {},
     "output_type": "execute_result"
    },
    {
     "data": {
      "text/plain": [
       "36\t3932.6411016891\t\n"
      ]
     },
     "execution_count": 41,
     "metadata": {},
     "output_type": "execute_result"
    },
    {
     "data": {
      "text/plain": [
       "37\t3864.4662119891\t\n"
      ]
     },
     "execution_count": 41,
     "metadata": {},
     "output_type": "execute_result"
    },
    {
     "data": {
      "text/plain": [
       "38\t3813.4773112664\t\n"
      ]
     },
     "execution_count": 41,
     "metadata": {},
     "output_type": "execute_result"
    },
    {
     "data": {
      "text/plain": [
       "39\t3822.938611151\t\n"
      ]
     },
     "execution_count": 41,
     "metadata": {},
     "output_type": "execute_result"
    },
    {
     "data": {
      "text/plain": [
       "40\t3805.9163257568\t\n"
      ]
     },
     "execution_count": 41,
     "metadata": {},
     "output_type": "execute_result"
    },
    {
     "data": {
      "text/plain": [
       "41\t3779.9804878475\t\n"
      ]
     },
     "execution_count": 41,
     "metadata": {},
     "output_type": "execute_result"
    },
    {
     "data": {
      "text/plain": [
       "42\t3763.2141820865\t\n"
      ]
     },
     "execution_count": 41,
     "metadata": {},
     "output_type": "execute_result"
    },
    {
     "data": {
      "text/plain": [
       "43\t3725.7309982035\t\n"
      ]
     },
     "execution_count": 41,
     "metadata": {},
     "output_type": "execute_result"
    },
    {
     "data": {
      "text/plain": [
       "44\t3722.1510234652\t\n"
      ]
     },
     "execution_count": 41,
     "metadata": {},
     "output_type": "execute_result"
    },
    {
     "data": {
      "text/plain": [
       "45\t3693.8587724407\t\n"
      ]
     },
     "execution_count": 41,
     "metadata": {},
     "output_type": "execute_result"
    },
    {
     "data": {
      "text/plain": [
       "46\t3656.8201281643\t\n"
      ]
     },
     "execution_count": 41,
     "metadata": {},
     "output_type": "execute_result"
    },
    {
     "data": {
      "text/plain": [
       "47\t3575.3357403963\t\n"
      ]
     },
     "execution_count": 41,
     "metadata": {},
     "output_type": "execute_result"
    },
    {
     "data": {
      "text/plain": [
       "48\t3636.5965499918\t\n"
      ]
     },
     "execution_count": 41,
     "metadata": {},
     "output_type": "execute_result"
    },
    {
     "data": {
      "text/plain": [
       "49\t3594.6686757833\t\n"
      ]
     },
     "execution_count": 41,
     "metadata": {},
     "output_type": "execute_result"
    },
    {
     "data": {
      "text/plain": [
       "50\t3638.9428983135\t\n"
      ]
     },
     "execution_count": 41,
     "metadata": {},
     "output_type": "execute_result"
    },
    {
     "data": {
      "text/plain": [
       "51\t3573.8306922956\t\n"
      ]
     },
     "execution_count": 41,
     "metadata": {},
     "output_type": "execute_result"
    },
    {
     "data": {
      "text/plain": [
       "52\t3517.155414573\t\n"
      ]
     },
     "execution_count": 41,
     "metadata": {},
     "output_type": "execute_result"
    },
    {
     "data": {
      "text/plain": [
       "53\t3526.0161054156\t\n"
      ]
     },
     "execution_count": 41,
     "metadata": {},
     "output_type": "execute_result"
    },
    {
     "data": {
      "text/plain": [
       "54\t3521.6419198218\t\n"
      ]
     },
     "execution_count": 41,
     "metadata": {},
     "output_type": "execute_result"
    },
    {
     "data": {
      "text/plain": [
       "55\t3456.8299246325\t\n"
      ]
     },
     "execution_count": 41,
     "metadata": {},
     "output_type": "execute_result"
    },
    {
     "data": {
      "text/plain": [
       "56\t3459.5982222005\t\n"
      ]
     },
     "execution_count": 41,
     "metadata": {},
     "output_type": "execute_result"
    },
    {
     "data": {
      "text/plain": [
       "57\t3474.3791934197\t\n"
      ]
     },
     "execution_count": 41,
     "metadata": {},
     "output_type": "execute_result"
    },
    {
     "data": {
      "text/plain": [
       "58\t3510.7871257056\t\n"
      ]
     },
     "execution_count": 41,
     "metadata": {},
     "output_type": "execute_result"
    },
    {
     "data": {
      "text/plain": [
       "59\t3527.4671343457\t\n"
      ]
     },
     "execution_count": 41,
     "metadata": {},
     "output_type": "execute_result"
    },
    {
     "data": {
      "text/plain": [
       "60\t3456.1471783175\t\n"
      ]
     },
     "execution_count": 41,
     "metadata": {},
     "output_type": "execute_result"
    },
    {
     "data": {
      "text/plain": [
       "61\t3421.2963915869\t\n"
      ]
     },
     "execution_count": 41,
     "metadata": {},
     "output_type": "execute_result"
    },
    {
     "data": {
      "text/plain": [
       "62\t3449.2090837394\t\n"
      ]
     },
     "execution_count": 41,
     "metadata": {},
     "output_type": "execute_result"
    },
    {
     "data": {
      "text/plain": [
       "63\t3462.1040887611\t\n"
      ]
     },
     "execution_count": 41,
     "metadata": {},
     "output_type": "execute_result"
    },
    {
     "data": {
      "text/plain": [
       "64\t3460.3459290931\t\n"
      ]
     },
     "execution_count": 41,
     "metadata": {},
     "output_type": "execute_result"
    },
    {
     "data": {
      "text/plain": [
       "65\t3414.6572201233\t\n"
      ]
     },
     "execution_count": 41,
     "metadata": {},
     "output_type": "execute_result"
    },
    {
     "data": {
      "text/plain": [
       "66\t3417.5416203503\t\n"
      ]
     },
     "execution_count": 41,
     "metadata": {},
     "output_type": "execute_result"
    },
    {
     "data": {
      "text/plain": [
       "67\t3400.0195386653\t\n"
      ]
     },
     "execution_count": 41,
     "metadata": {},
     "output_type": "execute_result"
    },
    {
     "data": {
      "text/plain": [
       "68\t3357.9573958544\t\n"
      ]
     },
     "execution_count": 41,
     "metadata": {},
     "output_type": "execute_result"
    },
    {
     "data": {
      "text/plain": [
       "69\t3369.6148700823\t\n"
      ]
     },
     "execution_count": 41,
     "metadata": {},
     "output_type": "execute_result"
    },
    {
     "data": {
      "text/plain": [
       "70\t3317.5293959307\t\n"
      ]
     },
     "execution_count": 41,
     "metadata": {},
     "output_type": "execute_result"
    },
    {
     "data": {
      "text/plain": [
       "71\t3326.0999749638\t\n"
      ]
     },
     "execution_count": 41,
     "metadata": {},
     "output_type": "execute_result"
    },
    {
     "data": {
      "text/plain": [
       "72\t3346.1591384471\t\n"
      ]
     },
     "execution_count": 41,
     "metadata": {},
     "output_type": "execute_result"
    },
    {
     "data": {
      "text/plain": [
       "73\t3393.7190672744\t\n"
      ]
     },
     "execution_count": 41,
     "metadata": {},
     "output_type": "execute_result"
    },
    {
     "data": {
      "text/plain": [
       "74\t3363.8517774207\t\n"
      ]
     },
     "execution_count": 41,
     "metadata": {},
     "output_type": "execute_result"
    },
    {
     "data": {
      "text/plain": [
       "75\t3357.2387311019\t\n"
      ]
     },
     "execution_count": 41,
     "metadata": {},
     "output_type": "execute_result"
    },
    {
     "data": {
      "text/plain": [
       "76\t3311.6789482796\t\n"
      ]
     },
     "execution_count": 41,
     "metadata": {},
     "output_type": "execute_result"
    },
    {
     "data": {
      "text/plain": [
       "77\t3319.0240228291\t\n"
      ]
     },
     "execution_count": 41,
     "metadata": {},
     "output_type": "execute_result"
    },
    {
     "data": {
      "text/plain": [
       "78\t3292.631476086\t\n"
      ]
     },
     "execution_count": 41,
     "metadata": {},
     "output_type": "execute_result"
    },
    {
     "data": {
      "text/plain": [
       "79\t3304.5096006337\t\n"
      ]
     },
     "execution_count": 41,
     "metadata": {},
     "output_type": "execute_result"
    },
    {
     "data": {
      "text/plain": [
       "80\t3304.3365766966\t\n"
      ]
     },
     "execution_count": 41,
     "metadata": {},
     "output_type": "execute_result"
    },
    {
     "data": {
      "text/plain": [
       "81\t3277.7345370427\t\n"
      ]
     },
     "execution_count": 41,
     "metadata": {},
     "output_type": "execute_result"
    },
    {
     "data": {
      "text/plain": [
       "82\t3240.011984018\t\n"
      ]
     },
     "execution_count": 41,
     "metadata": {},
     "output_type": "execute_result"
    },
    {
     "data": {
      "text/plain": [
       "83\t3270.6681964791\t\n"
      ]
     },
     "execution_count": 41,
     "metadata": {},
     "output_type": "execute_result"
    },
    {
     "data": {
      "text/plain": [
       "84\t3291.5087802842\t\n"
      ]
     },
     "execution_count": 41,
     "metadata": {},
     "output_type": "execute_result"
    },
    {
     "data": {
      "text/plain": [
       "85\t3246.7974761691\t\n"
      ]
     },
     "execution_count": 41,
     "metadata": {},
     "output_type": "execute_result"
    },
    {
     "data": {
      "text/plain": [
       "86\t3291.1687346496\t\n"
      ]
     },
     "execution_count": 41,
     "metadata": {},
     "output_type": "execute_result"
    },
    {
     "data": {
      "text/plain": [
       "87\t"
      ]
     },
     "execution_count": 41,
     "metadata": {},
     "output_type": "execute_result"
    },
    {
     "data": {
      "text/plain": [
       "3272.2096272423\t\n"
      ]
     },
     "execution_count": 41,
     "metadata": {},
     "output_type": "execute_result"
    },
    {
     "data": {
      "text/plain": [
       "88\t3279.1139322347\t\n"
      ]
     },
     "execution_count": 41,
     "metadata": {},
     "output_type": "execute_result"
    },
    {
     "data": {
      "text/plain": [
       "89\t3238.6163094321\t\n"
      ]
     },
     "execution_count": 41,
     "metadata": {},
     "output_type": "execute_result"
    },
    {
     "data": {
      "text/plain": [
       "90\t3222.8015176941\t\n"
      ]
     },
     "execution_count": 41,
     "metadata": {},
     "output_type": "execute_result"
    },
    {
     "data": {
      "text/plain": [
       "91\t3274.5388325083\t\n"
      ]
     },
     "execution_count": 41,
     "metadata": {},
     "output_type": "execute_result"
    },
    {
     "data": {
      "text/plain": [
       "92\t3249.7825837484\t\n"
      ]
     },
     "execution_count": 41,
     "metadata": {},
     "output_type": "execute_result"
    },
    {
     "data": {
      "text/plain": [
       "93\t3217.4810111692\t\n"
      ]
     },
     "execution_count": 41,
     "metadata": {},
     "output_type": "execute_result"
    },
    {
     "data": {
      "text/plain": [
       "94\t3265.8065794067\t\n"
      ]
     },
     "execution_count": 41,
     "metadata": {},
     "output_type": "execute_result"
    },
    {
     "data": {
      "text/plain": [
       "95\t3251.0754295522\t\n"
      ]
     },
     "execution_count": 41,
     "metadata": {},
     "output_type": "execute_result"
    },
    {
     "data": {
      "text/plain": [
       "96\t3219.8195665243\t\n"
      ]
     },
     "execution_count": 41,
     "metadata": {},
     "output_type": "execute_result"
    },
    {
     "data": {
      "text/plain": [
       "97\t3151.1376856786\t\n"
      ]
     },
     "execution_count": 41,
     "metadata": {},
     "output_type": "execute_result"
    },
    {
     "data": {
      "text/plain": [
       "98\t3179.5519327172\t\n"
      ]
     },
     "execution_count": 41,
     "metadata": {},
     "output_type": "execute_result"
    },
    {
     "data": {
      "text/plain": [
       "99\t3240.225009725\t\n"
      ]
     },
     "execution_count": 41,
     "metadata": {},
     "output_type": "execute_result"
    },
    {
     "data": {
      "text/plain": [
       "100\t3244.3357000738\t\n",
       "252\t\n"
      ]
     },
     "execution_count": 41,
     "metadata": {},
     "output_type": "execute_result"
    }
   ],
   "source": [
    "start_time = os.time()\n",
    "W, b = fit(X_train, Y_train, 10000, 0.01, 100)\n",
    "end_time = os.time()\n",
    "print(end_time - start_time)"
   ]
  },
  {
   "cell_type": "code",
   "execution_count": 43,
   "metadata": {
    "collapsed": false
   },
   "outputs": [
    {
     "data": {
      "text/plain": [
       "0.90373046088278\t\n"
      ]
     },
     "execution_count": 43,
     "metadata": {},
     "output_type": "execute_result"
    }
   ],
   "source": [
    "Y_pred = predict(X_train, W, b)\n",
    "_, Y_pred = torch.max(Y_pred, 2)\n",
    "_,Y_true = torch.max(Y_train, 2)\n",
    "acc_score = predict_score(Y_pred, Y_true)\n",
    "print(acc_score)"
   ]
  },
  {
   "cell_type": "code",
   "execution_count": 22,
   "metadata": {
    "collapsed": false
   },
   "outputs": [
    {
     "data": {
      "text/plain": [
       "\n"
      ]
     },
     "execution_count": 22,
     "metadata": {},
     "output_type": "execute_result"
    }
   ],
   "source": [
    "write2file(\"LRL2_SST2.csv\", Y_pred)"
   ]
  },
  {
   "cell_type": "code",
   "execution_count": null,
   "metadata": {
    "collapsed": true
   },
   "outputs": [],
   "source": []
  }
 ],
 "metadata": {
  "kernelspec": {
   "display_name": "iTorch",
   "language": "lua",
   "name": "itorch"
  },
  "language_info": {
   "name": "lua",
   "version": "20100"
  }
 },
 "nbformat": 4,
 "nbformat_minor": 0
}
