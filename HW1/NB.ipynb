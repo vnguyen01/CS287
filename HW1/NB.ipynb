{
 "cells": [
  {
   "cell_type": "code",
   "execution_count": 1,
   "metadata": {
    "collapsed": true
   },
   "outputs": [],
   "source": [
    "require('hdf5')\n",
    "\n",
    "f = hdf5.open(\"SST2.hdf5\", \"r\")\n",
    "X_train = f:read(\"train_input\"):all()\n",
    "Y_train = f:read(\"train_output\"):all()\n",
    "X_valid = f:read(\"valid_input\"):all()\n",
    "Y_valid = f:read(\"valid_output\"):all()\n",
    "X_test = f:read(\"test_input\"):all()\n",
    "\n",
    "nclasses = f:read('nclasses'):all():long()[1]\n",
    "nfeatures = f:read('nfeatures'):all():long()[1]\n",
    "\n",
    "f:close()\n",
    "\n",
    "function createDocWordMatrix(vocab, max_sent_len, sparseMatrix)\n",
    "    docword = torch.zeros(sparseMatrix:size(1), vocab)\n",
    "    for i=1,sparseMatrix:size(1) do\n",
    "        for j=1, max_sent_len do\n",
    "            local idx = (sparseMatrix[i][j])\n",
    "            if idx ~= 0 then\n",
    "                docword[i][idx] = 1 + docword[i][idx]\n",
    "            end\n",
    "        end\n",
    "    end\n",
    "    return docword\n",
    "end\n",
    "\n",
    "function onehotencode(classes, target)\n",
    "    onehot = torch.zeros(target:size(1), classes)\n",
    "    for i=1,target:size(1) do\n",
    "        onehot[i][target[i]] = 1\n",
    "    end\n",
    "    return onehot\n",
    "end\n",
    "\n",
    "X_train = createDocWordMatrix(nfeatures, 53, X_train)\n",
    "Y_train = onehotencode(nclasses, Y_train)\n",
    "X_test = createDocWordMatrix(nfeatures, 53, X_valid)\n",
    "Y_test = onehotencode(nclasses, Y_valid)"
   ]
  },
  {
   "cell_type": "code",
   "execution_count": 2,
   "metadata": {
    "collapsed": true
   },
   "outputs": [],
   "source": [
    "function counts(X,Y)\n",
    "    --calculate log posterior\n",
    "    local cc = torch.zeros(1, Y:size(2))\n",
    "    local fc = torch.zeros(Y:size(2), X:size(2))\n",
    "    local clp = torch.zeros(1, Y:size(2))\n",
    "    \n",
    "    fc:add(Y:t()*(X))\n",
    "    cc:add(Y:sum(1))\n",
    "    \n",
    "    --THIS IS ALPHA\n",
    "    --smoothing\n",
    "    fc:add(5)\n",
    "    local scc = fc:sum(2)\n",
    "    \n",
    "    fc:log()\n",
    "    scc:log()\n",
    "    \n",
    "    scc:expand(scc, scc:size(1), fc:size(2))\n",
    "    \n",
    "    --calculate log prior\n",
    "    --local total = cc:sum(2)\n",
    "    --cc:div(total[1][1])\n",
    "    --cc:log()\n",
    "    clp:csub(math.log(Y:size(2)))\n",
    "    \n",
    "    return fc:csub(scc), clp --:csub(math.log(Y:size(2)))\n",
    "end\n",
    "\n",
    "function predict(X, W, b)\n",
    "    --joint log-likelihood\n",
    "    local jll = ((X*W:t()):csub(b:expand(b,X:size(1),b:size(2))))\n",
    "    return jll\n",
    "end\n",
    "\n",
    "function predict_score()\n",
    "    local c = 0\n",
    "    for i=1,indices_pred:size(1) do\n",
    "\n",
    "        if indices_pred[i][1] == indices_true[i][1] then\n",
    "            c = c + 1\n",
    "        \n",
    "        end\n",
    "    \n",
    "    end\n",
    "    return c/Y_valid:size()[1]\n",
    "end"
   ]
  },
  {
   "cell_type": "code",
   "execution_count": 3,
   "metadata": {
    "collapsed": false
   },
   "outputs": [
    {
     "data": {
      "text/plain": [
       "0.81307339449541\t\n"
      ]
     },
     "execution_count": 3,
     "metadata": {},
     "output_type": "execute_result"
    }
   ],
   "source": [
    "lp, clp = counts(X_train, Y_train)\n",
    "\n",
    "predictions = predict(X_test, lp, clp)\n",
    "_, indices_pred = torch.max(predictions, 2)\n",
    "_, indices_true = torch.max(Y_test, 2)\n",
    "counts = predict_score()\n",
    "print(counts)"
   ]
  },
  {
   "cell_type": "code",
   "execution_count": null,
   "metadata": {
    "collapsed": true
   },
   "outputs": [],
   "source": []
  }
 ],
 "metadata": {
  "kernelspec": {
   "display_name": "iTorch",
   "language": "lua",
   "name": "itorch"
  },
  "language_info": {
   "name": "lua",
   "version": "20100"
  }
 },
 "nbformat": 4,
 "nbformat_minor": 0
}
