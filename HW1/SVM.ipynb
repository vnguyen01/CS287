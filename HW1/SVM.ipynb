{
 "cells": [
  {
   "cell_type": "code",
   "execution_count": null,
   "metadata": {
    "collapsed": false
   },
   "outputs": [],
   "source": [
    "--Austin's Shit\n",
    "\n"
   ]
  },
  {
   "cell_type": "code",
   "execution_count": 37,
   "metadata": {
    "collapsed": false
   },
   "outputs": [],
   "source": [
    "require('hdf5')\n",
    "require 'nn'\n",
    "require 'optim'\n",
    "require 'math'\n",
    "\n",
    "f = hdf5.open(\"SST2.hdf5\", \"r\")\n",
    "X_train = f:read(\"train_input\"):all()\n",
    "Y_train = f:read(\"train_output\"):all()\n",
    "X_valid = f:read(\"valid_input\"):all()\n",
    "Y_valid = f:read(\"valid_output\"):all()\n",
    "--X_test = f:read(\"test_input\"):all()\n",
    "nclasses = f:read('nclasses'):all():long()[1]\n",
    "nfeatures = f:read('nfeatures'):all():long()[1]\n",
    "f:close()"
   ]
  },
  {
   "cell_type": "markdown",
   "metadata": {},
   "source": [
    "# Doc by word"
   ]
  },
  {
   "cell_type": "code",
   "execution_count": 38,
   "metadata": {
    "collapsed": false
   },
   "outputs": [],
   "source": [
    "--DOC BY WORD (vincent's stuff)\n",
    "--feature weight: counts\n",
    "function createDocWordMatrix(vocab, max_sent_len, sparseMatrix)\n",
    "    docword = torch.zeros(sparseMatrix:size(1), vocab)\n",
    "    for i=1,sparseMatrix:size(1) do\n",
    "        for j=1, max_sent_len do\n",
    "            local idx = (sparseMatrix[i][j])\n",
    "            if idx ~= 0 then\n",
    "                docword[i][idx] = 1 --+ docword[i][idx]\n",
    "            end\n",
    "        end        \n",
    "    end\n",
    "    return docword\n",
    "end\n",
    "\n",
    "function onehotencode(classes, target)\n",
    "    onehot = torch.zeros(target:size(1), classes)\n",
    "    for i=1,target:size(1) do\n",
    "        onehot[i][target[i]] = 1\n",
    "    end\n",
    "    return onehot\n",
    "end"
   ]
  },
  {
   "cell_type": "code",
   "execution_count": 39,
   "metadata": {
    "collapsed": false
   },
   "outputs": [],
   "source": [
    "X_train=createDocWordMatrix(nfeatures, 53, X_train)\n",
    "X_valid=createDocWordMatrix(nfeatures, 53, X_valid)"
   ]
  },
  {
   "cell_type": "code",
   "execution_count": 40,
   "metadata": {
    "collapsed": false
   },
   "outputs": [],
   "source": [
    "W0 = torch.randn(5,nfeatures)*.01\n",
    "b0 =torch.zeros(5,1)*.001"
   ]
  },
  {
   "cell_type": "code",
   "execution_count": 5,
   "metadata": {
    "collapsed": false
   },
   "outputs": [],
   "source": [
    "X_toy = torch.Tensor({{1,0,0},{0,1,0},{0,0,1},{1,0,0},{1,0,0},{0,1,0},{0,0,1},{1,0,0},{1,0,0},{0,1,0},{0,0,1},{1,0,0}})\n",
    "Y_toy = torch.Tensor({1,2,3,1,1,2,3,1,1,2,3,1})\n",
    "W_toy = torch.randn(5,3)\n",
    "b_toy = torch.zeros(5,1)*.001\n",
    "print(X_toy)"
   ]
  },
  {
   "cell_type": "code",
   "execution_count": null,
   "metadata": {
    "collapsed": false
   },
   "outputs": [],
   "source": [
    "print(X_valid:sub(1,1,1,50))\n"
   ]
  },
  {
   "cell_type": "code",
   "execution_count": null,
   "metadata": {
    "collapsed": false
   },
   "outputs": [],
   "source": []
  },
  {
   "cell_type": "code",
   "execution_count": 90,
   "metadata": {
    "collapsed": false
   },
   "outputs": [],
   "source": [
    "function isnan(m)\n",
    "    if m ~= m then\n",
    "        return true\n",
    "    else\n",
    "        return false\n",
    "    end\n",
    "end\n",
    "\n",
    "function linear(b, W, x)\n",
    "    --weight matrix W (dout x din), bias b (dout x 1), input matrix x (n x din)\n",
    "    local B = b:clone()\n",
    "    local B = B:expand(B,B:size(1),x:size(1))\n",
    "    return ((W*x:t()):add(B)):t()\n",
    "end\n",
    "    \n",
    "function second_max(Y_pred, Y_true)\n",
    "    --Y_pred is a nx5 tensor\n",
    "    local second_maxes = torch.zeros(Y_pred:size(1),1)\n",
    "    local indices = second_maxes:clone()\n",
    "    local Y_prime = (Y_pred):clone()\n",
    "    for i = 1, Y_pred:size(1) do\n",
    "        Y_prime[i][Y_true[i]] = -100\n",
    "        z1,z2 = torch.max(Y_prime[i],1)\n",
    "        second_maxes[i] = z1[1]\n",
    "        indices[i] = z2[1]\n",
    "    end\n",
    "    return second_maxes, indices\n",
    "end\n",
    "\n",
    "function correct_val(Y_pred, Y_true)\n",
    "    return_val = torch.zeros(Y_true:size(1),1)\n",
    "    for i = 1, Y_true:size(1) do\n",
    "        return_val[i] = Y_pred[i][Y_true[i]]\n",
    "    end\n",
    "    return return_val\n",
    "end\n",
    "\n",
    "function ReLU(input)\n",
    "    for i = 1,input:size(1) do\n",
    "        if input[i][1]<0 then\n",
    "            input[i][1] =0\n",
    "        end\n",
    "    end\n",
    "    return input\n",
    "end\n",
    "\n",
    "function hinge_loss(Y_pred, Y_true, W,lambda,b, mode)\n",
    "    --Y_pred is a nx5 tensor, Y_true is an nx1 tensor\n",
    "    --mode = 'vanilla' for vanilla hinge\n",
    "    --mode = 'L2' for hinge^2\n",
    "    if mode == 'vanilla' then\n",
    "        reg = 1\n",
    "    elseif mode == 'squared' then\n",
    "        reg = 2\n",
    "    end\n",
    "    \n",
    "    params = torch.cat(W,b,2)\n",
    "    local ones_vector = torch.ones(Y_true:size(1),1)\n",
    "    local loss_vector = torch.pow(ReLU(ones_vector+second_max(Y_pred, Y_true)-correct_val(Y_pred,Y_true)),reg)\n",
    "    loss1 = lambda*torch.pow((torch.norm(params)),2)\n",
    "    loss2 = loss_vector:sum(1)[1][1]\n",
    "    \n",
    "    return (loss1 + loss2)\n",
    "end\n",
    "\n",
    "function hinge_grad(W,x,b,Y_true,lambda, mode)\n",
    "    local Y_pred = linear(b,W,x)\n",
    "    local loss = hinge_loss(Y_pred, Y_true, W, lambda, b, mode)\n",
    "    local condition = torch.Tensor(Y_true:size(1),1)\n",
    "    local correct = correct_val(Y_pred,Y_true) \n",
    "    local second, s_indices = second_max(Y_pred,Y_true)\n",
    "    local condition = correct - second\n",
    "    local W_grad = torch.zeros(W:size())\n",
    "    local W_temp = torch.zeros(W:size())\n",
    "    local b_grad = torch.zeros(b:size())\n",
    "    local b_temp = torch.zeros(b:size())\n",
    "    local debug = torch.zeros(4)\n",
    "    for i = 1, condition:size(1) do\n",
    "        if condition[i][1] < 1 then\n",
    "            for j = 1, W:size(1) do\n",
    "                if j == Y_true[i] then\n",
    "                    b_temp[j] = -1\n",
    "                    W_temp[j] = x[i]*(-1)*loss\n",
    "                    debug[1] = debug[1] + 1\n",
    "                elseif j == s_indices[i][1] then\n",
    "                    debug[2] = debug[2] + 1\n",
    "                    b_temp[j] = 1\n",
    "                    W_temp[j] = x[i]*loss\n",
    "                else\n",
    "                    debug[3] = debug[3] + 1\n",
    "                    b_temp[j] = 0\n",
    "                    W_temp[j] = W_temp[j]*0\n",
    "                end\n",
    "            end\n",
    "            b_grad:add(b_temp)\n",
    "            W_grad:add(W_temp)\n",
    "        else\n",
    "            debug[4] = debug[4] + 1\n",
    "            b_temp = torch.zeros(b_temp:size())\n",
    "            W_temp = torch.zeros(W_temp:size())\n",
    "        end\n",
    "    end\n",
    "    return W_grad:add(2*lambda,W),b_grad:add(2*lambda,b)\n",
    "    --return W_grad,0--b_grad\n",
    "end\n",
    "\n",
    "\n",
    "\n",
    "function obj(params,X,Y,batch,lambda, mode)\n",
    "    if batch > 0 then\n",
    "        bsize= batch\n",
    "        local idx = torch.randperm(X:size(1)):sub(1,bsize)\n",
    "\n",
    "        x = torch.Tensor(bsize, X:size(2))\n",
    "\n",
    "        Y = Y:reshape(Y:size(1), 1)\n",
    "\n",
    "        y = torch.Tensor(bsize, 1)\n",
    "\n",
    "        for i=1,bsize do\n",
    "            x[i] = X[idx[i]]\n",
    "            y[i] = Y[idx[i]]\n",
    "        end\n",
    "        \n",
    "        y = y:squeeze()\n",
    "    else\n",
    "        y = Y\n",
    "        x = X\n",
    "    end\n",
    "    \n",
    "    local w = (params:sub(1,params:size(1),1,params:size(2)-1))\n",
    "    \n",
    "   \n",
    "    b = params:sub(1,params:size(1),params:size(2),params:size(2))\n",
    "    local ypred = linear(b,w,x)\n",
    "    local loss = hinge_loss(ypred,y,w,lambda,b, mode)\n",
    "    \n",
    "    local w1,b1 = hinge_grad(w,x,b,y,lambda, mode)\n",
    "    local grads = torch.zeros(params:size())\n",
    "    grads[{{},{1,params:size(2)-1}}] = w1\n",
    "    grads[{{},{params:size(2),params:size(2)}}] = b1\n",
    "    return loss, grads\n",
    "end\n",
    "\n",
    "function obj_final(params)\n",
    "    \n",
    "    loss,grads = obj(params, X_train, Y_train, 500, 1, 'vanilla')\n",
    "    print(loss)\n",
    "    return loss,grads\n",
    "end"
   ]
  },
  {
   "cell_type": "code",
   "execution_count": 9,
   "metadata": {
    "collapsed": false
   },
   "outputs": [
    {
     "ename": "invalid arguments: nil nil number \nexpected arguments: [*DoubleTensor*] DoubleTensor DoubleTensor [index] | [*DoubleTensor*] {DoubleTensor+} [index]\nstack traceback:\n\t[C]: at 0x060c5250\n\t[C]: in function 'cat'\n\t[string \"p0 = torch.cat(W0,b0,2)...\"]:1: in main chunk\n\t[C]: in function 'xpcall'\n\t...s/austinshin/torch/install/share/lua/5.1/itorch/main.lua:179: in function <...s/austinshin/torch/install/share/lua/5.1/itorch/main.lua:143>\n\t...s/austinshin/torch/install/share/lua/5.1/lzmq/poller.lua:75: in function 'poll'\n\t...ustinshin/torch/install/share/lua/5.1/lzmq/impl/loop.lua:307: in function 'poll'\n\t...ustinshin/torch/install/share/lua/5.1/lzmq/impl/loop.lua:325: in function 'sleep_ex'\n\t...ustinshin/torch/install/share/lua/5.1/lzmq/impl/loop.lua:370: in function 'start'\n\t...s/austinshin/torch/install/share/lua/5.1/itorch/main.lua:350: in main chunk\n\t[C]: in function 'require'\n\t(command line):1: in main chunk\n\t[C]: at 0x0105c52bc0",
     "evalue": "",
     "output_type": "error",
     "traceback": [
      "invalid arguments: nil nil number \nexpected arguments: [*DoubleTensor*] DoubleTensor DoubleTensor [index] | [*DoubleTensor*] {DoubleTensor+} [index]\nstack traceback:\n\t[C]: at 0x060c5250\n\t[C]: in function 'cat'\n\t[string \"p0 = torch.cat(W0,b0,2)...\"]:1: in main chunk\n\t[C]: in function 'xpcall'\n\t...s/austinshin/torch/install/share/lua/5.1/itorch/main.lua:179: in function <...s/austinshin/torch/install/share/lua/5.1/itorch/main.lua:143>\n\t...s/austinshin/torch/install/share/lua/5.1/lzmq/poller.lua:75: in function 'poll'\n\t...ustinshin/torch/install/share/lua/5.1/lzmq/impl/loop.lua:307: in function 'poll'\n\t...ustinshin/torch/install/share/lua/5.1/lzmq/impl/loop.lua:325: in function 'sleep_ex'\n\t...ustinshin/torch/install/share/lua/5.1/lzmq/impl/loop.lua:370: in function 'start'\n\t...s/austinshin/torch/install/share/lua/5.1/itorch/main.lua:350: in main chunk\n\t[C]: in function 'require'\n\t(command line):1: in main chunk\n\t[C]: at 0x0105c52bc0"
     ]
    }
   ],
   "source": [
    "p0 = torch.cat(W0,b0,2)\n",
    "_,_,n = optim.checkgrad(obj_final,p0)\n",
    "print(n:size())"
   ]
  },
  {
   "cell_type": "code",
   "execution_count": 8,
   "metadata": {
    "collapsed": false
   },
   "outputs": [
    {
     "data": {
      "text/plain": [
       "116.17501506821\t\n"
      ]
     },
     "execution_count": 8,
     "metadata": {},
     "output_type": "execute_result"
    }
   ],
   "source": [
    "toy_pred = linear(b_toy,W_toy,X_toy)\n",
    "\n",
    "toy_second, toy_indices = second_max(toy_pred, Y_toy)\n",
    "loss = hinge_loss(toy_pred, Y_toy, W_toy, 0,b_toy, 'squared')\n",
    "print(loss)"
   ]
  },
  {
   "cell_type": "code",
   "execution_count": 74,
   "metadata": {
    "collapsed": false
   },
   "outputs": [],
   "source": [
    "m = torch.pow(torch.ones(100)*2,2)\n",
    "p0 = torch.cat(W0,b0,2)"
   ]
  },
  {
   "cell_type": "code",
   "execution_count": 100,
   "metadata": {
    "collapsed": false,
    "scrolled": true
   },
   "outputs": [
    {
     "data": {
      "text/plain": [
       "497.79249473163\t\n"
      ]
     },
     "execution_count": 100,
     "metadata": {},
     "output_type": "execute_result"
    },
    {
     "data": {
      "text/plain": [
       "470.82573854668\t\n"
      ]
     },
     "execution_count": 100,
     "metadata": {},
     "output_type": "execute_result"
    },
    {
     "data": {
      "text/plain": [
       "470.21417824026\t\n"
      ]
     },
     "execution_count": 100,
     "metadata": {},
     "output_type": "execute_result"
    },
    {
     "data": {
      "text/plain": [
       "466.60985639752\t\n"
      ]
     },
     "execution_count": 100,
     "metadata": {},
     "output_type": "execute_result"
    },
    {
     "data": {
      "text/plain": [
       "443.59150333072\t\n"
      ]
     },
     "execution_count": 100,
     "metadata": {},
     "output_type": "execute_result"
    },
    {
     "data": {
      "text/plain": [
       "481.07062358504\t\n"
      ]
     },
     "execution_count": 100,
     "metadata": {},
     "output_type": "execute_result"
    },
    {
     "data": {
      "text/plain": [
       "474.87856651576\t\n"
      ]
     },
     "execution_count": 100,
     "metadata": {},
     "output_type": "execute_result"
    },
    {
     "data": {
      "text/plain": [
       "474.07740095251\t\n"
      ]
     },
     "execution_count": 100,
     "metadata": {},
     "output_type": "execute_result"
    },
    {
     "data": {
      "text/plain": [
       "475.85990835804\t\n"
      ]
     },
     "execution_count": 100,
     "metadata": {},
     "output_type": "execute_result"
    },
    {
     "data": {
      "text/plain": [
       "459.11972087195\t\n"
      ]
     },
     "execution_count": 100,
     "metadata": {},
     "output_type": "execute_result"
    },
    {
     "data": {
      "text/plain": [
       "454.77681885745\t\n"
      ]
     },
     "execution_count": 100,
     "metadata": {},
     "output_type": "execute_result"
    },
    {
     "data": {
      "text/plain": [
       "464.86847769564\t\n"
      ]
     },
     "execution_count": 100,
     "metadata": {},
     "output_type": "execute_result"
    },
    {
     "data": {
      "text/plain": [
       "422.12772568411\t\n"
      ]
     },
     "execution_count": 100,
     "metadata": {},
     "output_type": "execute_result"
    },
    {
     "data": {
      "text/plain": [
       "451.48607111325\t\n"
      ]
     },
     "execution_count": 100,
     "metadata": {},
     "output_type": "execute_result"
    },
    {
     "data": {
      "text/plain": [
       "460.41577675115\t\n"
      ]
     },
     "execution_count": 100,
     "metadata": {},
     "output_type": "execute_result"
    },
    {
     "data": {
      "text/plain": [
       "441.42476565803\t\n"
      ]
     },
     "execution_count": 100,
     "metadata": {},
     "output_type": "execute_result"
    },
    {
     "data": {
      "text/plain": [
       "426.30179033207\t\n"
      ]
     },
     "execution_count": 100,
     "metadata": {},
     "output_type": "execute_result"
    },
    {
     "data": {
      "text/plain": [
       "464.29091134945\t\n"
      ]
     },
     "execution_count": 100,
     "metadata": {},
     "output_type": "execute_result"
    },
    {
     "data": {
      "text/plain": [
       "451.83406845591\t\n"
      ]
     },
     "execution_count": 100,
     "metadata": {},
     "output_type": "execute_result"
    },
    {
     "data": {
      "text/plain": [
       "458.83928785686\t\n"
      ]
     },
     "execution_count": 100,
     "metadata": {},
     "output_type": "execute_result"
    },
    {
     "data": {
      "text/plain": [
       "438.68532901388\t\n"
      ]
     },
     "execution_count": 100,
     "metadata": {},
     "output_type": "execute_result"
    },
    {
     "data": {
      "text/plain": [
       "437.40038239656\t\n"
      ]
     },
     "execution_count": 100,
     "metadata": {},
     "output_type": "execute_result"
    },
    {
     "data": {
      "text/plain": [
       "428.58409881638\t\n"
      ]
     },
     "execution_count": 100,
     "metadata": {},
     "output_type": "execute_result"
    },
    {
     "data": {
      "text/plain": [
       "419.20194281927\t\n"
      ]
     },
     "execution_count": 100,
     "metadata": {},
     "output_type": "execute_result"
    },
    {
     "data": {
      "text/plain": [
       "435.64679567873\t\n"
      ]
     },
     "execution_count": 100,
     "metadata": {},
     "output_type": "execute_result"
    },
    {
     "data": {
      "text/plain": [
       "437.00217692305\t\n"
      ]
     },
     "execution_count": 100,
     "metadata": {},
     "output_type": "execute_result"
    },
    {
     "data": {
      "text/plain": [
       "435.61673193766\t\n"
      ]
     },
     "execution_count": 100,
     "metadata": {},
     "output_type": "execute_result"
    },
    {
     "data": {
      "text/plain": [
       "420.36103395047\t\n"
      ]
     },
     "execution_count": 100,
     "metadata": {},
     "output_type": "execute_result"
    },
    {
     "data": {
      "text/plain": [
       "420.33829728753\t\n"
      ]
     },
     "execution_count": 100,
     "metadata": {},
     "output_type": "execute_result"
    },
    {
     "data": {
      "text/plain": [
       "427.4257874607\t\n"
      ]
     },
     "execution_count": 100,
     "metadata": {},
     "output_type": "execute_result"
    },
    {
     "data": {
      "text/plain": [
       "451.12987353235\t\n"
      ]
     },
     "execution_count": 100,
     "metadata": {},
     "output_type": "execute_result"
    },
    {
     "data": {
      "text/plain": [
       "472.39151708603\t\n"
      ]
     },
     "execution_count": 100,
     "metadata": {},
     "output_type": "execute_result"
    },
    {
     "data": {
      "text/plain": [
       "410.44733607804\t\n"
      ]
     },
     "execution_count": 100,
     "metadata": {},
     "output_type": "execute_result"
    },
    {
     "data": {
      "text/plain": [
       "431.57801906949\t\n"
      ]
     },
     "execution_count": 100,
     "metadata": {},
     "output_type": "execute_result"
    },
    {
     "data": {
      "text/plain": [
       "429.48309912501\t\n"
      ]
     },
     "execution_count": 100,
     "metadata": {},
     "output_type": "execute_result"
    },
    {
     "data": {
      "text/plain": [
       "440.64816089003\t\n"
      ]
     },
     "execution_count": 100,
     "metadata": {},
     "output_type": "execute_result"
    },
    {
     "data": {
      "text/plain": [
       "441.15895614907\t\n"
      ]
     },
     "execution_count": 100,
     "metadata": {},
     "output_type": "execute_result"
    },
    {
     "data": {
      "text/plain": [
       "439.18973290049\t\n"
      ]
     },
     "execution_count": 100,
     "metadata": {},
     "output_type": "execute_result"
    },
    {
     "data": {
      "text/plain": [
       "460.70816011598\t\n"
      ]
     },
     "execution_count": 100,
     "metadata": {},
     "output_type": "execute_result"
    },
    {
     "data": {
      "text/plain": [
       "441.78394845096\t\n"
      ]
     },
     "execution_count": 100,
     "metadata": {},
     "output_type": "execute_result"
    },
    {
     "data": {
      "text/plain": [
       "427.48283694377\t\n"
      ]
     },
     "execution_count": 100,
     "metadata": {},
     "output_type": "execute_result"
    },
    {
     "data": {
      "text/plain": [
       "434.33418835261\t\n"
      ]
     },
     "execution_count": 100,
     "metadata": {},
     "output_type": "execute_result"
    },
    {
     "data": {
      "text/plain": [
       "445.77536325553\t\n"
      ]
     },
     "execution_count": 100,
     "metadata": {},
     "output_type": "execute_result"
    },
    {
     "data": {
      "text/plain": [
       "426.3848394024\t\n"
      ]
     },
     "execution_count": 100,
     "metadata": {},
     "output_type": "execute_result"
    },
    {
     "data": {
      "text/plain": [
       "438.13444133273\t\n"
      ]
     },
     "execution_count": 100,
     "metadata": {},
     "output_type": "execute_result"
    },
    {
     "data": {
      "text/plain": [
       "436.06017187614\t\n"
      ]
     },
     "execution_count": 100,
     "metadata": {},
     "output_type": "execute_result"
    },
    {
     "data": {
      "text/plain": [
       "431.21034025116\t\n"
      ]
     },
     "execution_count": 100,
     "metadata": {},
     "output_type": "execute_result"
    },
    {
     "data": {
      "text/plain": [
       "449.21542047801\t\n"
      ]
     },
     "execution_count": 100,
     "metadata": {},
     "output_type": "execute_result"
    },
    {
     "data": {
      "text/plain": [
       "422.92486005714\t\n"
      ]
     },
     "execution_count": 100,
     "metadata": {},
     "output_type": "execute_result"
    },
    {
     "data": {
      "text/plain": [
       "439.22632660758\t\n"
      ]
     },
     "execution_count": 100,
     "metadata": {},
     "output_type": "execute_result"
    },
    {
     "data": {
      "text/plain": [
       " 497.7925\n",
       " 470.8257\n",
       " 470.2142\n",
       " 466.6099\n",
       " 443.5915\n",
       " 481.0706\n",
       " 474.8786\n",
       " 474.0774\n",
       " 475.8599\n",
       " 459.1197\n",
       " 454.7768\n",
       " 464.8685\n",
       " 422.1277\n",
       " 451.4861\n",
       " 460.4158\n",
       " 441.4248\n",
       " 426.3018\n",
       " 464.2909\n",
       " 451.8341\n",
       " 458.8393\n",
       " 438.6853\n",
       " 437.4004\n",
       " 428.5841\n",
       " 419.2019\n",
       " 435.6468\n",
       " 437.0022\n",
       " 435.6167\n",
       " 420.3610\n",
       " 420.3383\n",
       " 427.4258\n",
       " 451.1299\n",
       " 472.3915\n",
       " 410.4473\n",
       " 431.5780\n",
       " 429.4831\n",
       " 440.6482\n",
       " 441.1590\n",
       " 439.1897\n",
       " 460.7082\n",
       " 441.7839\n",
       " 427.4828\n",
       " 434.3342\n",
       " 445.7754\n",
       " 426.3848\n",
       " 438.1344\n",
       " 436.0602\n",
       " 431.2103\n",
       " 449.2154\n",
       " 422.9249\n",
       " 439.2263\n",
       "[torch.DoubleTensor of size 50]\n",
       "\n"
      ]
     },
     "execution_count": 100,
     "metadata": {},
     "output_type": "execute_result"
    }
   ],
   "source": [
    "--p0 = torch.cat(W0,b0,2)\n",
    "local state = {maxIter = 1, learningRate = .001, evalCounter = 1}\n",
    "d = torch.Tensor(50)\n",
    "for i = 1,d:size(1) do\n",
    "    p0, m = optim.adam(obj_final,p0, state)\n",
    "    d[i] = m[1]\n",
    "end\n",
    "print(d)"
   ]
  },
  {
   "cell_type": "code",
   "execution_count": 101,
   "metadata": {
    "collapsed": false
   },
   "outputs": [],
   "source": [
    "\n",
    " --intercept\n",
    "b = p0:sub(1, p0:size(1), p0:size(2), p0:size(2))\n",
    "\n",
    "--coefficients\n",
    "W = p0:sub(1, p0:size(1), 1, p0:size(2)-1)\n",
    "\n",
    "function predict(X, W, b)\n",
    "    local b = b:t()\n",
    "    return (X*W:t()):add(b:expand(b, X:size(1), b:size(2)))\n",
    "end\n",
    "function predict_score(ypred, ytrue)\n",
    "    local c = 0\n",
    "    for i=1,ypred:size(1) do\n",
    "        if ypred[i][1] == ytrue[i] then\n",
    "            c = c + 1       \n",
    "        end\n",
    "    end\n",
    "    return c/ypred:size(1)\n",
    "end\n"
   ]
  },
  {
   "cell_type": "code",
   "execution_count": null,
   "metadata": {
    "collapsed": false
   },
   "outputs": [],
   "source": []
  },
  {
   "cell_type": "code",
   "execution_count": 102,
   "metadata": {
    "collapsed": false
   },
   "outputs": [
    {
     "data": {
      "text/plain": [
       "0.79816513761468\t\n"
      ]
     },
     "execution_count": 102,
     "metadata": {},
     "output_type": "execute_result"
    }
   ],
   "source": [
    "Y_pred = predict(X_valid, W, b)\n",
    "_, score = torch.max(Y_pred, 2)\n",
    "--_,Y_true = torch.max(Y_valid, 2)\n",
    "acc_score = predict_score(score, Y_valid)\n",
    "print(acc_score)"
   ]
  },
  {
   "cell_type": "code",
   "execution_count": null,
   "metadata": {
    "collapsed": false
   },
   "outputs": [],
   "source": [
    "score"
   ]
  },
  {
   "cell_type": "code",
   "execution_count": null,
   "metadata": {
    "collapsed": false
   },
   "outputs": [],
   "source": [
    "print(W:sub(1,5,1,10))"
   ]
  },
  {
   "cell_type": "code",
   "execution_count": null,
   "metadata": {
    "collapsed": true
   },
   "outputs": [],
   "source": []
  },
  {
   "cell_type": "code",
   "execution_count": null,
   "metadata": {
    "collapsed": false
   },
   "outputs": [],
   "source": [
    "f,f_old = 1,2"
   ]
  },
  {
   "cell_type": "code",
   "execution_count": null,
   "metadata": {
    "collapsed": false
   },
   "outputs": [],
   "source": [
    "z = torch.sort(Y_train)"
   ]
  },
  {
   "cell_type": "code",
   "execution_count": null,
   "metadata": {
    "collapsed": false
   },
   "outputs": [],
   "source": [
    "z[40000]"
   ]
  },
  {
   "cell_type": "code",
   "execution_count": null,
   "metadata": {
    "collapsed": false
   },
   "outputs": [],
   "source": [
    "930-660"
   ]
  },
  {
   "cell_type": "code",
   "execution_count": null,
   "metadata": {
    "collapsed": false
   },
   "outputs": [],
   "source": [
    "z:size()"
   ]
  },
  {
   "cell_type": "code",
   "execution_count": null,
   "metadata": {
    "collapsed": false
   },
   "outputs": [],
   "source": [
    "70/156"
   ]
  },
  {
   "cell_type": "code",
   "execution_count": null,
   "metadata": {
    "collapsed": true
   },
   "outputs": [],
   "source": []
  }
 ],
 "metadata": {
  "kernelspec": {
   "display_name": "iTorch",
   "language": "lua",
   "name": "itorch"
  },
  "language_info": {
   "name": "lua",
   "version": "20100"
  }
 },
 "nbformat": 4,
 "nbformat_minor": 0
}
