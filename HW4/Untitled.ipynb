{
 "cells": [
  {
   "cell_type": "code",
   "execution_count": 97,
   "metadata": {
    "collapsed": false
   },
   "outputs": [],
   "source": [
    "dic = {\"the\": .25,\"cat\": .12, \"a\": 0.28, \"comb\": 0.16, \"catacomb\": 0.00000000001,\"is\":0.4,\"here\":0.1}\n",
    "s = \"thecatacombishere\"\n"
   ]
  },
  {
   "cell_type": "code",
   "execution_count": 107,
   "metadata": {
    "collapsed": false
   },
   "outputs": [],
   "source": [
    "n = len(s)\n",
    "p = [0]*(n+1)\n",
    "q = [\"\"]*(n+1)\n",
    "p[n] = 1\n",
    "for i in xrange(n):\n",
    "    idx = len(s)-i-1\n",
    "    p[idx] = 0\n",
    "    for j in xrange(n-idx):\n",
    "        idx2 = j+idx\n",
    "        w = s[idx:idx2+1]\n",
    "        if w in dic:\n",
    "            if dic[w]*p[idx+len(w)] > p[idx]:\n",
    "                p[idx] = dic[w]*p[idx+len(w)]\n",
    "                q[idx] = w"
   ]
  },
  {
   "cell_type": "code",
   "execution_count": 130,
   "metadata": {
    "collapsed": false
   },
   "outputs": [],
   "source": [
    "a = \"thecatacombishere\"\n",
    "l = 0\n",
    "spaces = -1\n",
    "for w in q:\n",
    "    if w != \"\":\n",
    "        if a[l:len(w)+l] == w:\n",
    "            spaces += 1\n",
    "            l += len(w)\n",
    "        "
   ]
  },
  {
   "cell_type": "code",
   "execution_count": 131,
   "metadata": {
    "collapsed": false
   },
   "outputs": [
    {
     "data": {
      "text/plain": [
       "5"
      ]
     },
     "execution_count": 131,
     "metadata": {},
     "output_type": "execute_result"
    }
   ],
   "source": [
    "spaces"
   ]
  },
  {
   "cell_type": "code",
   "execution_count": 108,
   "metadata": {
    "collapsed": false
   },
   "outputs": [
    {
     "data": {
      "text/plain": [
       "['the',\n",
       " '',\n",
       " '',\n",
       " 'cat',\n",
       " '',\n",
       " '',\n",
       " 'a',\n",
       " 'comb',\n",
       " '',\n",
       " '',\n",
       " '',\n",
       " 'is',\n",
       " '',\n",
       " 'here',\n",
       " '',\n",
       " '',\n",
       " '',\n",
       " '']"
      ]
     },
     "execution_count": 108,
     "metadata": {},
     "output_type": "execute_result"
    }
   ],
   "source": [
    "q"
   ]
  },
  {
   "cell_type": "code",
   "execution_count": null,
   "metadata": {
    "collapsed": true
   },
   "outputs": [],
   "source": []
  }
 ],
 "metadata": {
  "kernelspec": {
   "display_name": "Python 2",
   "language": "python",
   "name": "python2"
  },
  "language_info": {
   "codemirror_mode": {
    "name": "ipython",
    "version": 2
   },
   "file_extension": ".py",
   "mimetype": "text/x-python",
   "name": "python",
   "nbconvert_exporter": "python",
   "pygments_lexer": "ipython2",
   "version": "2.7.11"
  }
 },
 "nbformat": 4,
 "nbformat_minor": 0
}
