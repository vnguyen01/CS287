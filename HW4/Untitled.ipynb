{
 "cells": [
  {
   "cell_type": "code",
   "execution_count": 80,
   "metadata": {
    "collapsed": false
   },
   "outputs": [],
   "source": [
    "dic = {\"the\": .25,\"cat\": .12, \"a\": 0.28, \"comb\": 0.16, \"catacomb\": 0.1,\"is\":0.4,\"here\":0.1,\"race\":100000,\"car\":0.2, \"racecar\":0.1}\n",
    "s = \"theracecarcatacomb\"\n"
   ]
  },
  {
   "cell_type": "code",
   "execution_count": 58,
   "metadata": {
    "collapsed": false
   },
   "outputs": [
    {
     "name": "stdout",
     "output_type": "stream",
     "text": [
      "('comb', 0.16, 1, 0)\n",
      "('a', 0.28, 0.16, 0)\n",
      "('a', 0.28, 0, 0)\n",
      "('cat', 0.12, 0.044800000000000006, 0)\n",
      "('catacomb', 0.01, 1, 0.005376000000000001)\n",
      "('a', 0.28, 0, 0)\n",
      "('car', 0.2, 0.01, 0)\n",
      "('a', 0.28, 0, 0)\n",
      "('race', 0.2, 0.002, 0)\n",
      "('racecar', 0.1, 0.01, 0.0004)\n",
      "('the', 0.25, 0.001, 0)\n",
      "[0.00025, 0, 0, 0.001, 0, 0, 0, 0.002, 0, 0, 0.01, 0, 0, 0.044800000000000006, 0.16, 0, 0, 0, 1]\n"
     ]
    }
   ],
   "source": [
    "n = len(s)\n",
    "p = [0]*(n+1)\n",
    "q = [\"\"]*(n+1)\n",
    "p[n] = 1\n",
    "for i in xrange(n+1):\n",
    "    idx = len(s)-i-1\n",
    "    for j in xrange(n-idx):\n",
    "        idx2 = j+idx\n",
    "        w = s[idx:idx2+1]\n",
    "        if w in dic:\n",
    "            print(w,dic[w],p[idx+len(w)], p[idx])\n",
    "            if dic[w]*p[idx+len(w)] > p[idx]:\n",
    "                p[idx] = dic[w]*p[idx+len(w)]\n",
    "                q[idx] = w\n",
    "print p"
   ]
  },
  {
   "cell_type": "code",
   "execution_count": 81,
   "metadata": {
    "collapsed": false
   },
   "outputs": [
    {
     "name": "stdout",
     "output_type": "stream",
     "text": [
      "('the', 3, 3, 0.25, 1, 0.25, 0)\n",
      "('race', 7, 4, 100000, 0.25, 25000.0, 0)\n",
      "('racecar', 10, 7, 0.1, 0.25, 0.025, 0)\n",
      "('a', 5, 1, 0.28, 0, 0.0, 0)\n",
      "('car', 10, 3, 0.2, 25000.0, 5000.0, 0.025)\n",
      "('a', 9, 1, 0.28, 0, 0.0, 0)\n",
      "('cat', 13, 3, 0.12, 5000.0, 600.0, 0)\n",
      "('catacomb', 18, 8, 0.1, 5000.0, 500.0, 0)\n",
      "('a', 12, 1, 0.28, 0, 0.0, 0)\n",
      "('a', 14, 1, 0.28, 600.0, 168.00000000000003, 0)\n",
      "('comb', 18, 4, 0.16, 168.00000000000003, 26.880000000000006, 500.0)\n"
     ]
    }
   ],
   "source": [
    "p = [0]*(n+1)\n",
    "p[0] = 1\n",
    "q = [\"\"]*(n+1)\n",
    "for i in xrange(n):\n",
    "    for j in xrange(n):\n",
    "        w = s[i:j+1]\n",
    "        if w in dic:\n",
    "            print(w, j+1,len(w),dic[w], p[j+1-len(w)],dic[w]*p[j+1-len(w)], p[j+1])\n",
    "            if dic[w]*p[j+1-len(w)] > p[j+1]:\n",
    "                p[j+1] = dic[w]*p[j+1-len(w)]\n",
    "                q[j] = w"
   ]
  },
  {
   "cell_type": "code",
   "execution_count": 83,
   "metadata": {
    "collapsed": false
   },
   "outputs": [],
   "source": [
    "a = \"thecatacombishere\"\n",
    "l = 0\n",
    "spaces = -1\n",
    "for w in q:\n",
    "    if w != \"\":\n",
    "        if a[l:len(w)+l] == w:\n",
    "            spaces += 1\n",
    "            l += len(w)\n",
    "        "
   ]
  },
  {
   "cell_type": "code",
   "execution_count": 84,
   "metadata": {
    "collapsed": false
   },
   "outputs": [
    {
     "data": {
      "text/plain": [
       "2"
      ]
     },
     "execution_count": 84,
     "metadata": {},
     "output_type": "execute_result"
    }
   ],
   "source": [
    "spaces"
   ]
  },
  {
   "cell_type": "code",
   "execution_count": 82,
   "metadata": {
    "collapsed": false
   },
   "outputs": [
    {
     "data": {
      "text/plain": [
       "['',\n",
       " '',\n",
       " 'the',\n",
       " '',\n",
       " '',\n",
       " '',\n",
       " 'race',\n",
       " '',\n",
       " '',\n",
       " 'car',\n",
       " '',\n",
       " '',\n",
       " 'cat',\n",
       " 'a',\n",
       " '',\n",
       " '',\n",
       " '',\n",
       " 'catacomb',\n",
       " '']"
      ]
     },
     "execution_count": 82,
     "metadata": {},
     "output_type": "execute_result"
    }
   ],
   "source": [
    "q"
   ]
  },
  {
   "cell_type": "code",
   "execution_count": null,
   "metadata": {
    "collapsed": true
   },
   "outputs": [],
   "source": []
  }
 ],
 "metadata": {
  "kernelspec": {
   "display_name": "Python 2",
   "language": "python",
   "name": "python2"
  },
  "language_info": {
   "codemirror_mode": {
    "name": "ipython",
    "version": 2
   },
   "file_extension": ".py",
   "mimetype": "text/x-python",
   "name": "python",
   "nbconvert_exporter": "python",
   "pygments_lexer": "ipython2",
   "version": "2.7.11"
  }
 },
 "nbformat": 4,
 "nbformat_minor": 0
}
