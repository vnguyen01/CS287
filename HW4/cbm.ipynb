{
 "cells": [
  {
   "cell_type": "code",
   "execution_count": 1,
   "metadata": {
    "collapsed": false
   },
   "outputs": [],
   "source": [
    "require 'hdf5'\n",
    "require 'math'\n",
    "\n",
    "f = hdf5.open(\"data.hdf5\", \"r\")\n",
    "\n",
    "X_train = f:read(\"windows_train\"):all()\n",
    "Y_train = f:read(\"train_Y\"):all()\n",
    "X_valid = f:read(\"windows_valid\"):all()\n",
    "Y_valid = f:read(\"valid_reduced_Y\"):all()\n",
    "\n",
    "nclasses = f:read('nclasses'):all():long()[1]\n",
    "nfeatures = f:read('nfeatures'):all():long()[1]\n",
    "\n",
    "f:close()"
   ]
  },
  {
   "cell_type": "code",
   "execution_count": 15,
   "metadata": {
    "collapsed": false
   },
   "outputs": [],
   "source": [
    "--Returns converted LongTensor to Str split by space\n",
    "function createHash(longTensor) \n",
    "    s = \"\"\n",
    "    for i=1,longTensor:size(1) do\n",
    "        s = s .. tostring(longTensor[i]) .. \" \"\n",
    "    end\n",
    "    return s\n",
    "end\n",
    "\n",
    "--Return added padding when necessary at </s>\n",
    "function add_padding(r, n, win) \n",
    "    if r < n then\n",
    "        for i=1,n-r do\n",
    "            win[i] = 30\n",
    "        end\n",
    "        r = r + 1\n",
    "    end\n",
    "    if win[n] == 30 then\n",
    "        r = 1\n",
    "    end\n",
    "    return r, win\n",
    "end\n",
    "\n",
    "--Returns table of space and total counts\n",
    "function count_train(windows_train, space_train, n_gram)\n",
    "    local count_table = {}\n",
    "    local space_table = {}\n",
    "    local restart = 1\n",
    "    for i=1,windows_train:size(1) do\n",
    "        --Checks if a </s> is necessary (only for CBM!)\n",
    "        restart, padded = add_padding(restart, n_gram, windows_train[i])\n",
    "        local key = createHash(padded)\n",
    "        if count_table[key] then\n",
    "            count_table[key] = count_table[key] + 1\n",
    "        else\n",
    "            count_table[key] = 1\n",
    "            space_table[key] = 0\n",
    "        end\n",
    "        if space_train[i] == 2 then\n",
    "            space_table[key] = space_table[key] + 1\n",
    "        end\n",
    "    end\n",
    "    return space_table, count_table\n",
    "end  \n",
    "\n",
    "--Returns normalized probability for two scores\n",
    "function normalize(num, den) \n",
    "    return num/(num+den)\n",
    "end\n",
    "\n",
    "--Returns smoothed counts\n",
    "function laplace_smooth(count, total, alpha, vocab_size)\n",
    "    return (count+alpha)/(total+alpha*vocab_size)\n",
    "end\n",
    "\n",
    "--Returns perplexity for CBM\n",
    "function count_perp(space_table, total_table, windows_valid, space_valid, n_gram, alpha, vocab_size)\n",
    "    local restart = 1\n",
    "    local perp = 0\n",
    "    for i=1,windows_valid:size(1) do\n",
    "        --Checks if a </s> is necessary (only for CBM!)\n",
    "        restart, padded = add_padding(restart, n_gram, windows_valid[i])\n",
    "        local key = createHash(padded)\n",
    "        if total_table[key] then\n",
    "            local p_space = laplace_smooth(space_table[key], total_table[key], alpha, vocab_size)\n",
    "            local p_nospace = laplace_smooth(total_table[key] - space_table[key], total_table[key], alpha, vocab_size)\n",
    "            \n",
    "            --Next char is NOT space\n",
    "            if space_valid[i] == 1 then\n",
    "                perp = perp + math.log(normalize(p_nospace, p_space))\n",
    "            --Next char IS space\n",
    "            else\n",
    "                perp = perp + math.log(normalize(p_space, p_nospace))\n",
    "            end\n",
    "        else\n",
    "            --Probability for unseen counts\n",
    "            perp = perp + math.log(alpha/vocab_size)\n",
    "        end\n",
    "    end\n",
    "    return math.exp(-perp/windows_valid:size(1))\n",
    "end"
   ]
  },
  {
   "cell_type": "code",
   "execution_count": 19,
   "metadata": {
    "collapsed": false
   },
   "outputs": [
    {
     "data": {
      "text/plain": [
       "COUNT BASED MODEL\t\n",
       "================================\t\n",
       "Window size: 1\t\n",
       "Laplace smoothing parameter: 1\t\n",
       "Perplexity: 1.4000625156381\t\n"
      ]
     },
     "execution_count": 19,
     "metadata": {},
     "output_type": "execute_result"
    }
   ],
   "source": [
    "win_size = X_train:size(2)\n",
    "ngram_space, ngram_total = count_train(X_train, Y_train, win_size)\n",
    "\n",
    "additive = 1\n",
    "perplexity = count_perp(ngram_space, ngram_total, X_valid, Y_valid, win_size, additive, nfeatures)\n",
    "\n",
    "print(\"COUNT BASED MODEL\")\n",
    "print(\"================================\")\n",
    "print(\"Window size: \" .. tostring(win_size))\n",
    "print(\"Laplace smoothing parameter: \" .. tostring(additive))\n",
    "print(\"Perplexity: \" .. tostring(perplexity))"
   ]
  },
  {
   "cell_type": "code",
   "execution_count": 29,
   "metadata": {
    "collapsed": false
   },
   "outputs": [],
   "source": [
    "sum = 0\n",
    "for i=1,X_valid:size(1) do\n",
    "    sum = sum + math.log(0.7)\n",
    "end"
   ]
  },
  {
   "cell_type": "code",
   "execution_count": 30,
   "metadata": {
    "collapsed": false
   },
   "outputs": [
    {
     "data": {
      "text/plain": [
       "1.4285714285715\t\n"
      ]
     },
     "execution_count": 30,
     "metadata": {},
     "output_type": "execute_result"
    }
   ],
   "source": [
    "math.exp(-sum/X_valid:size(1))"
   ]
  },
  {
   "cell_type": "code",
   "execution_count": null,
   "metadata": {
    "collapsed": true
   },
   "outputs": [],
   "source": []
  }
 ],
 "metadata": {
  "kernelspec": {
   "display_name": "iTorch",
   "language": "lua",
   "name": "itorch"
  },
  "language_info": {
   "name": "lua",
   "version": "20100"
  }
 },
 "nbformat": 4,
 "nbformat_minor": 0
}
