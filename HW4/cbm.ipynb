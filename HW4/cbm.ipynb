{
 "cells": [
  {
   "cell_type": "code",
   "execution_count": 1,
   "metadata": {
    "collapsed": false
   },
   "outputs": [],
   "source": [
    "require 'hdf5'\n",
    "\n",
    "f = hdf5.open(\"data.hdf5\", \"r\")\n",
    "\n",
    "X_train = f:read(\"train_X_sequence\"):all()\n",
    "Y_train = f:read(\"train_Y\"):all()\n",
    "X_valid = f:read(\"valid_reduced_X\"):all()\n",
    "Y_valid = f:read(\"valid_reduced_Y\"):all()\n",
    "\n",
    "nclasses = f:read('nclasses'):all():long()[1]\n",
    "nfeatures = f:read('nfeatures'):all():long()[1]\n",
    "\n",
    "f:close()"
   ]
  },
  {
   "cell_type": "code",
   "execution_count": 7,
   "metadata": {
    "collapsed": false
   },
   "outputs": [],
   "source": [
    "--Converts LongTensor into String for table hashing\n",
    "function createHash(longTensor)\n",
    "    s = \"\"\n",
    "    for i=1,longTensor:size(1) do\n",
    "        s = s .. tostring(longTensor[i]) .. \" \"\n",
    "    end\n",
    "    return s\n",
    "end\n",
    "\n",
    "--Returns table of space probabilities\n",
    "function count(char_stream, space_stream, n_gram)\n",
    "    local space_dic = {}\n",
    "    local count_dic = {}\n",
    "    for i=1,char_stream:size(1)-n_gram+1 do\n",
    "        local pre = createHash(char_stream:sub(i,i+n_gram-1))\n",
    "        local nex = space_stream:sub(i+n_gram-1,i+n_gram-1)[1]\n",
    "\n",
    "        if count_dic[pre] then\n",
    "            count_dic[pre] = count_dic[pre] + 1\n",
    "        else\n",
    "            count_dic[pre] = 1\n",
    "        end\n",
    "\n",
    "        if nex == 2 then\n",
    "            if space_dic[pre] then\n",
    "                space_dic[pre] = space_dic[pre] + 1\n",
    "            else\n",
    "                space_dic[pre] = 1\n",
    "            end\n",
    "        end\n",
    "    end\n",
    "    for k,_ in pairs(space_dic) do\n",
    "        space_dic[k] = space_dic[k]/count_dic[k]\n",
    "    end\n",
    "    return space_dic\n",
    "end"
   ]
  },
  {
   "cell_type": "code",
   "execution_count": 22,
   "metadata": {
    "collapsed": false
   },
   "outputs": [],
   "source": [
    "dic = count(X_train, Y_train, 5)"
   ]
  },
  {
   "cell_type": "code",
   "execution_count": 24,
   "metadata": {
    "collapsed": false
   },
   "outputs": [
    {
     "data": {
      "text/plain": [
       "2 14 15 18 20 \t0\t\n",
       "14 15 18 20 12 \t0\t\n",
       "15 18 20 12 4 \t0\t\n",
       "18 20 12 4 19 \t0.64864864864865\t\n",
       "20 12 4 19 18 \t0.91666666666667\t\n",
       "12 4 19 18 28 \t0\t\n",
       "4 19 18 28 12 \t0\t\n",
       "19 18 28 12 1 \t0\t\n",
       "18 28 12 1 24 \t0.9047619047619\t\n",
       "28 12 1 24 28 \t0\t\n",
       "12 1 24 28 22 \t0\t\n",
       "1 24 28 22 1 \t0\t\n",
       "24 28 22 1 15 \t0\t\n",
       "28 22 1 15 21 \t0.52857142857143\t\n",
       "22 1 15 21 28 \t0\t\n"
      ]
     },
     "execution_count": 24,
     "metadata": {},
     "output_type": "execute_result"
    }
   ],
   "source": [
    "for i=1, 15 do\n",
    "    local pre = createHash(X_valid:sub(i,i+5-1))\n",
    "    if dic[pre] then\n",
    "        print(pre, dic[pre])\n",
    "    else\n",
    "        print(pre, 0)\n",
    "    end\n",
    "end"
   ]
  },
  {
   "cell_type": "code",
   "execution_count": 25,
   "metadata": {
    "collapsed": false
   },
   "outputs": [
    {
     "data": {
      "text/plain": [
       "  2\n",
       " 14\n",
       " 15\n",
       " 18\n",
       " 20\n",
       " 12\n",
       "  4\n",
       " 19\n",
       " 18\n",
       " 28\n",
       " 12\n",
       "  1\n",
       " 24\n",
       " 28\n",
       " 22\n",
       "  1\n",
       " 15\n",
       " 21\n",
       " 28\n",
       "[torch.LongTensor of size 19]\n",
       "\n"
      ]
     },
     "execution_count": 25,
     "metadata": {},
     "output_type": "execute_result"
    }
   ],
   "source": [
    "X_valid:sub(1,19)"
   ]
  },
  {
   "cell_type": "code",
   "execution_count": null,
   "metadata": {
    "collapsed": true
   },
   "outputs": [],
   "source": []
  }
 ],
 "metadata": {
  "kernelspec": {
   "display_name": "iTorch",
   "language": "lua",
   "name": "itorch"
  },
  "language_info": {
   "name": "lua",
   "version": "20100"
  }
 },
 "nbformat": 4,
 "nbformat_minor": 0
}
