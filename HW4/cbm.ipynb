{
 "cells": [
  {
   "cell_type": "code",
   "execution_count": 104,
   "metadata": {
    "collapsed": false
   },
   "outputs": [],
   "source": [
    "require 'hdf5'\n",
    "\n",
    "f = hdf5.open(\"data.hdf5\", \"r\")\n",
    "\n",
    "X_train = f:read(\"windows_train\"):all()\n",
    "Y_train = f:read(\"train_Y\"):all()\n",
    "X_valid = f:read(\"windows_valid\"):all()\n",
    "Y_valid = f:read(\"valid_reduced_Y\"):all()\n",
    "\n",
    "nclasses = f:read('nclasses'):all():long()[1]\n",
    "nfeatures = f:read('nfeatures'):all():long()[1]\n",
    "\n",
    "f:close()"
   ]
  },
  {
   "cell_type": "code",
   "execution_count": 114,
   "metadata": {
    "collapsed": false
   },
   "outputs": [],
   "source": [
    "function createHash(longTensor) \n",
    "    local s = \"\"\n",
    "    for i=1,longTensor:size(1) do\n",
    "        s = s .. tostring(longTensor[i]) .. \" \"\n",
    "    end\n",
    "    return s\n",
    "end\n",
    "    \n",
    "function count_train(windows_train, space_train, n_gram)\n",
    "    local count_table = {}\n",
    "    local space_table = {}\n",
    "    local restart = 1\n",
    "    local windows_train\n",
    "    local space_train\n",
    "    for i=1,windows_train:size(1) do\n",
    "        if restart < n_gram then\n",
    "            for j=1,n_gram-restart do\n",
    "                windows_train[i][j] = 30\n",
    "            end\n",
    "            restart = restart + 1\n",
    "        end\n",
    "        if windows_train[i][n_gram] == 30 then\n",
    "            restart = 1\n",
    "        end\n",
    "        local key = createHash(windows_train[i])\n",
    "        if count_table[key] then\n",
    "            count_table[key] = count_table[key] + 1\n",
    "        else\n",
    "            count_table[key] = 1\n",
    "            space_table[key] = 0\n",
    "        end\n",
    "        if space_train[i] == 2 then\n",
    "            space_table[key] = space_table[key] + 1\n",
    "        end\n",
    "    end\n",
    "    for k,_ in pairs(space_table) do\n",
    "        space_table[k] = space_table[k]/count_table[k]\n",
    "    end\n",
    "    return space_table\n",
    "end  \n",
    "\n",
    "function count_predict(lookup_table, windows_valid, space_valid, n_gram)\n",
    "    local restart = 1\n",
    "    for i=1, 20 do\n",
    "        if restart < n_gram then\n",
    "            for j=1,n_gram-restart do\n",
    "                windows_valid[i][j] = 30\n",
    "            end\n",
    "            restart = restart + 1\n",
    "        end\n",
    "        if windows_valid[i][n_gram] == 30 then\n",
    "            restart = 1\n",
    "        end\n",
    "        local key = createHash(windows_valid[i])\n",
    "        local prob = lookup_table[key]\n",
    "        print(key, prob, Y_valid[i])\n",
    "    end\n",
    "end"
   ]
  },
  {
   "cell_type": "code",
   "execution_count": 115,
   "metadata": {
    "collapsed": false
   },
   "outputs": [],
   "source": [
    "win_size = 5\n",
    "ngram_table = count(X_train, Y_train, win_size)"
   ]
  },
  {
   "cell_type": "code",
   "execution_count": 116,
   "metadata": {
    "collapsed": false
   },
   "outputs": [
    {
     "data": {
      "text/plain": [
       "30 30 30 30 2 \t0\t1\t\n",
       "30 30 30 2 14 \t0\t1\t\n",
       "30 30 2 14 15 \t0\t1\t\n",
       "30 2 14 15 18 \t0\t1\t\n",
       "2 14 15 18 20 \t0\t1\t\n",
       "14 15 18 20 12 \t0\t1\t\n",
       "15 18 20 12 4 \t0\t1\t\n",
       "18 20 12 4 19 \t0.64864864864865\t1\t\n",
       "20 12 4 19 18 \t0.91666666666667\t2\t\n",
       "12 4 19 18 28 \t0\t1\t\n",
       "4 19 18 28 12 \t0\t1\t\n",
       "19 18 28 12 1 \t0\t1\t\n",
       "18 28 12 1 24 \t0.9047619047619\t2\t\n",
       "28 12 1 24 28 \t0\t1\t\n",
       "12 1 24 28 22 \t0\t1\t\n",
       "1 24 28 22 1 \t0\t1\t\n",
       "24 28 22 1 15 \t0\t1\t\n",
       "28 22 1 15 21 \t0.52857142857143\t2\t\n"
      ]
     },
     "execution_count": 116,
     "metadata": {},
     "output_type": "execute_result"
    },
    {
     "data": {
      "text/plain": [
       "22 1 15 21 28 \t0\t1\t\n",
       "1 15 21 28 21 \t0\t1\t\n",
       "\n"
      ]
     },
     "execution_count": 116,
     "metadata": {},
     "output_type": "execute_result"
    }
   ],
   "source": [
    "count_predict(ngram_table, X_valid, Y_valid, win_size)"
   ]
  },
  {
   "cell_type": "code",
   "execution_count": null,
   "metadata": {
    "collapsed": true
   },
   "outputs": [],
   "source": []
  }
 ],
 "metadata": {
  "kernelspec": {
   "display_name": "iTorch",
   "language": "lua",
   "name": "itorch"
  },
  "language_info": {
   "name": "lua",
   "version": "20100"
  }
 },
 "nbformat": 4,
 "nbformat_minor": 0
}
