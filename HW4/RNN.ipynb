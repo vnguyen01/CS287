{
 "cells": [
  {
   "cell_type": "code",
   "execution_count": 84,
   "metadata": {
    "collapsed": false
   },
   "outputs": [],
   "source": [
    "require('rnn')\n",
    "require('hdf5')\n",
    "require('optim')\n",
    "\n",
    "\n",
    "f = hdf5.open(\"data.hdf5\", \"r\")\n",
    "\n",
    "\n",
    "\n",
    "train_rnn_X = f:read('train_rnn_X'):all()\n",
    "train_rnn_Y = f:read('train_rnn_Y'):all()\n",
    "train_X_sequence =  f:read('train_X_sequence'):all()\n",
    "train_Y  = f:read('train_Y'):all()\n",
    "valid_reduced_X = f:read('valid_reduced_X'):all()\n",
    "valid_reduced_Y = f:read('valid_reduced_Y'):all()\n",
    "windows_train = f:read('windows_train'):all()\n",
    "windows_valid = f:read('windows_valid'):all()\n",
    "test = f:read('test'):all()\n",
    "valid_kaggle_with_spaces = f:read('valid_kaggle_with_spaces'):all()\n",
    "valid_kaggle_without_spaces = f:read('valid_kaggle_without_spaces'):all()\n",
    "valid_answers = f:read('valid_answers'):all()\n",
    "nfeatures = (f:read('nfeatures'):all())[1]\n",
    "nclasses = (f:read('nclasses'):all())[1]\n",
    "\n",
    "\n",
    "\n",
    "\n",
    "f:close()\n",
    "\n",
    "window_size = windows_train:size(2)\n",
    "n_actual = nclasses"
   ]
  },
  {
   "cell_type": "code",
   "execution_count": null,
   "metadata": {
    "collapsed": false
   },
   "outputs": [],
   "source": [
    "\n",
    "\n"
   ]
  },
  {
   "cell_type": "code",
   "execution_count": 2,
   "metadata": {
    "collapsed": false
   },
   "outputs": [],
   "source": [
    "x_d = train_rnn_X[1]:t()\n",
    "y_d = train_rnn_Y[1]:t()\n"
   ]
  },
  {
   "cell_type": "code",
   "execution_count": 181,
   "metadata": {
    "collapsed": false
   },
   "outputs": [],
   "source": [
    "vocab_size = nfeatures\n",
    "embed_dim = 50\n",
    "LT = nn.LookupTable(vocab_size, embed_dim)\n",
    "\n",
    "lstm = nn.Sequential()\n",
    "lstm:add(LT)\n",
    "lstm:add(nn.SplitTable(1, 3))\n",
    "lstm:add(nn.Sequencer(nn.LSTM(embed_dim, embed_dim):remember('both')))\n",
    "lstm:add(nn.Sequencer(nn.Linear(embed_dim, 2)))\n",
    "crit = nn.SequencerCriterion(nn.CrossEntropyCriterion())\n",
    "\n",
    "params, grad_params = lstm:getParameters()\n",
    "params = params --* .05"
   ]
  },
  {
   "cell_type": "code",
   "execution_count": null,
   "metadata": {
    "collapsed": false
   },
   "outputs": [],
   "source": []
  },
  {
   "cell_type": "code",
   "execution_count": 191,
   "metadata": {
    "collapsed": false
   },
   "outputs": [
    {
     "data": {
      "text/plain": [
       "loss for iteration 10 is 0.47285289584863\t\n"
      ]
     },
     "execution_count": 191,
     "metadata": {},
     "output_type": "execute_result"
    },
    {
     "data": {
      "text/plain": [
       "loss for iteration 20 is 0.47365283189032\t\n"
      ]
     },
     "execution_count": 191,
     "metadata": {},
     "output_type": "execute_result"
    },
    {
     "data": {
      "text/plain": [
       "loss for iteration 30 is 0.47387569845207\t\n"
      ]
     },
     "execution_count": 191,
     "metadata": {},
     "output_type": "execute_result"
    },
    {
     "data": {
      "text/plain": [
       "loss for iteration 40 is 0.47335671811718\t\n"
      ]
     },
     "execution_count": 191,
     "metadata": {},
     "output_type": "execute_result"
    },
    {
     "data": {
      "text/plain": [
       "loss for iteration 50 is 0.47293244589479\t\n"
      ]
     },
     "execution_count": 191,
     "metadata": {},
     "output_type": "execute_result"
    },
    {
     "data": {
      "text/plain": [
       "loss for iteration 60 is 0.47248339952404\t\n"
      ]
     },
     "execution_count": 191,
     "metadata": {},
     "output_type": "execute_result"
    },
    {
     "data": {
      "text/plain": [
       "loss for iteration 70 is 0.47162433238764\t\n"
      ]
     },
     "execution_count": 191,
     "metadata": {},
     "output_type": "execute_result"
    },
    {
     "data": {
      "text/plain": [
       "loss for iteration 80 is 0.47117154480228\t\n"
      ]
     },
     "execution_count": 191,
     "metadata": {},
     "output_type": "execute_result"
    },
    {
     "data": {
      "text/plain": [
       "loss for iteration 90 is 0.47080411977432\t\n"
      ]
     },
     "execution_count": 191,
     "metadata": {},
     "output_type": "execute_result"
    },
    {
     "data": {
      "text/plain": [
       "loss for iteration 100 is 0.47045672667836\t\n"
      ]
     },
     "execution_count": 191,
     "metadata": {},
     "output_type": "execute_result"
    },
    {
     "data": {
      "text/plain": [
       "loss for iteration 110 is 0.4708272770509\t\n"
      ]
     },
     "execution_count": 191,
     "metadata": {},
     "output_type": "execute_result"
    },
    {
     "data": {
      "text/plain": [
       "loss for iteration 120 is 0.47184261310365\t\n"
      ]
     },
     "execution_count": 191,
     "metadata": {},
     "output_type": "execute_result"
    },
    {
     "data": {
      "text/plain": [
       "loss for iteration 130 is 0.47299301731432\t\n"
      ]
     },
     "execution_count": 191,
     "metadata": {},
     "output_type": "execute_result"
    },
    {
     "data": {
      "text/plain": [
       "loss for iteration 140 is 0.47421609659662\t\n"
      ]
     },
     "execution_count": 191,
     "metadata": {},
     "output_type": "execute_result"
    },
    {
     "data": {
      "text/plain": [
       "loss for iteration 150 is 0.47504197747502\t\n"
      ]
     },
     "execution_count": 191,
     "metadata": {},
     "output_type": "execute_result"
    },
    {
     "data": {
      "text/plain": [
       "loss for iteration 160 is 0.47501012109844\t\n"
      ]
     },
     "execution_count": 191,
     "metadata": {},
     "output_type": "execute_result"
    },
    {
     "data": {
      "text/plain": [
       "loss for iteration 170 is 0.47512126737809\t\n"
      ]
     },
     "execution_count": 191,
     "metadata": {},
     "output_type": "execute_result"
    },
    {
     "data": {
      "text/plain": [
       "loss for iteration 180 is 0.47479718945892\t\n"
      ]
     },
     "execution_count": 191,
     "metadata": {},
     "output_type": "execute_result"
    },
    {
     "data": {
      "text/plain": [
       "loss for iteration 190 is 0.47354695628726\t\n"
      ]
     },
     "execution_count": 191,
     "metadata": {},
     "output_type": "execute_result"
    },
    {
     "data": {
      "text/plain": [
       "loss for iteration 200 is 0.47322822528373\t\n"
      ]
     },
     "execution_count": 191,
     "metadata": {},
     "output_type": "execute_result"
    },
    {
     "data": {
      "text/plain": [
       "loss for iteration 210 is 0.47221570412859\t\n"
      ]
     },
     "execution_count": 191,
     "metadata": {},
     "output_type": "execute_result"
    },
    {
     "data": {
      "text/plain": [
       "loss for iteration 220 is 0.47144478506568\t\n"
      ]
     },
     "execution_count": 191,
     "metadata": {},
     "output_type": "execute_result"
    },
    {
     "data": {
      "text/plain": [
       "loss for iteration 230 is 0.4710189960689\t\n"
      ]
     },
     "execution_count": 191,
     "metadata": {},
     "output_type": "execute_result"
    },
    {
     "data": {
      "text/plain": [
       "loss for iteration 240 is 0.47054092690627\t\n"
      ]
     },
     "execution_count": 191,
     "metadata": {},
     "output_type": "execute_result"
    },
    {
     "data": {
      "text/plain": [
       "loss for iteration 250 is 0.47166663395712\t\n"
      ]
     },
     "execution_count": 191,
     "metadata": {},
     "output_type": "execute_result"
    },
    {
     "data": {
      "text/plain": [
       "loss for iteration 260 is 0.47196716419055\t\n"
      ]
     },
     "execution_count": 191,
     "metadata": {},
     "output_type": "execute_result"
    },
    {
     "data": {
      "text/plain": [
       "loss for iteration 270 is 0.47233114002747\t\n"
      ]
     },
     "execution_count": 191,
     "metadata": {},
     "output_type": "execute_result"
    },
    {
     "data": {
      "text/plain": [
       "loss for iteration 280 is 0.47348483408935\t\n"
      ]
     },
     "execution_count": 191,
     "metadata": {},
     "output_type": "execute_result"
    },
    {
     "data": {
      "text/plain": [
       "loss for iteration 290 is 0.4746393706085\t\n"
      ]
     },
     "execution_count": 191,
     "metadata": {},
     "output_type": "execute_result"
    },
    {
     "data": {
      "text/plain": [
       "loss for iteration 300 is 0.47630445525782\t\n"
      ]
     },
     "execution_count": 191,
     "metadata": {},
     "output_type": "execute_result"
    },
    {
     "data": {
      "text/plain": [
       "loss for iteration 310 is 0.47772767411243\t\n"
      ]
     },
     "execution_count": 191,
     "metadata": {},
     "output_type": "execute_result"
    },
    {
     "data": {
      "text/plain": [
       "loss for iteration 320 is 0.47892261223506\t\n"
      ]
     },
     "execution_count": 191,
     "metadata": {},
     "output_type": "execute_result"
    },
    {
     "data": {
      "text/plain": [
       "loss for iteration 330 is 0.48071073366344\t\n"
      ]
     },
     "execution_count": 191,
     "metadata": {},
     "output_type": "execute_result"
    },
    {
     "data": {
      "text/plain": [
       "loss for iteration 340 is 0.48056101611828\t\n"
      ]
     },
     "execution_count": 191,
     "metadata": {},
     "output_type": "execute_result"
    },
    {
     "data": {
      "text/plain": [
       "loss for iteration 350 is 0.48017809016173\t\n"
      ]
     },
     "execution_count": 191,
     "metadata": {},
     "output_type": "execute_result"
    },
    {
     "data": {
      "text/plain": [
       "loss for iteration 360 is 0.47893024248298\t\n"
      ]
     },
     "execution_count": 191,
     "metadata": {},
     "output_type": "execute_result"
    },
    {
     "data": {
      "text/plain": [
       "loss for iteration 370 is 0.47807044421563\t\n"
      ]
     },
     "execution_count": 191,
     "metadata": {},
     "output_type": "execute_result"
    },
    {
     "data": {
      "text/plain": [
       "loss for iteration 380 is 0.47700935597804\t\n"
      ]
     },
     "execution_count": 191,
     "metadata": {},
     "output_type": "execute_result"
    },
    {
     "data": {
      "text/plain": [
       "loss for iteration 390 is 0.47527726925103\t\n"
      ]
     },
     "execution_count": 191,
     "metadata": {},
     "output_type": "execute_result"
    },
    {
     "data": {
      "text/plain": [
       "loss for iteration 400 is 0.47380835504952\t\n"
      ]
     },
     "execution_count": 191,
     "metadata": {},
     "output_type": "execute_result"
    },
    {
     "data": {
      "text/plain": [
       "loss for iteration 410 is 0.4724649207028\t\n"
      ]
     },
     "execution_count": 191,
     "metadata": {},
     "output_type": "execute_result"
    },
    {
     "data": {
      "text/plain": [
       "loss for iteration 420 is 0.47228696229573\t\n"
      ]
     },
     "execution_count": 191,
     "metadata": {},
     "output_type": "execute_result"
    },
    {
     "data": {
      "text/plain": [
       "loss for iteration 430 is 0.47200308165492\t\n"
      ]
     },
     "execution_count": 191,
     "metadata": {},
     "output_type": "execute_result"
    },
    {
     "data": {
      "text/plain": [
       "loss for iteration 440 is 0.47063066291086\t\n"
      ]
     },
     "execution_count": 191,
     "metadata": {},
     "output_type": "execute_result"
    },
    {
     "data": {
      "text/plain": [
       "loss for iteration 450 is 0.47134994223651\t\n"
      ]
     },
     "execution_count": 191,
     "metadata": {},
     "output_type": "execute_result"
    },
    {
     "data": {
      "text/plain": [
       "loss for iteration 460 is 0.46953616322158\t\n"
      ]
     },
     "execution_count": 191,
     "metadata": {},
     "output_type": "execute_result"
    },
    {
     "data": {
      "text/plain": [
       "loss for iteration 470 is 0.46681180620086\t\n"
      ]
     },
     "execution_count": 191,
     "metadata": {},
     "output_type": "execute_result"
    },
    {
     "data": {
      "text/plain": [
       "loss for iteration 480 is 0.46874232993633\t\n"
      ]
     },
     "execution_count": 191,
     "metadata": {},
     "output_type": "execute_result"
    },
    {
     "data": {
      "text/plain": [
       "loss for iteration 490 is 0.4645637667414\t\n"
      ]
     },
     "execution_count": 191,
     "metadata": {},
     "output_type": "execute_result"
    },
    {
     "data": {
      "text/plain": [
       "loss for iteration 500 is 0.46387930385332\t\n"
      ]
     },
     "execution_count": 191,
     "metadata": {},
     "output_type": "execute_result"
    },
    {
     "data": {
      "text/plain": [
       "loss for iteration 510 is 0.46531291723474\t\n"
      ]
     },
     "execution_count": 191,
     "metadata": {},
     "output_type": "execute_result"
    },
    {
     "data": {
      "text/plain": [
       "loss for iteration 520 is 0.45990218683597\t\n"
      ]
     },
     "execution_count": 191,
     "metadata": {},
     "output_type": "execute_result"
    },
    {
     "data": {
      "text/plain": [
       "loss for iteration 530 is 0.45907932477733\t\n"
      ]
     },
     "execution_count": 191,
     "metadata": {},
     "output_type": "execute_result"
    },
    {
     "data": {
      "text/plain": [
       "loss for iteration 540 is 0.45986339611713\t\n"
      ]
     },
     "execution_count": 191,
     "metadata": {},
     "output_type": "execute_result"
    },
    {
     "data": {
      "text/plain": [
       "loss for iteration 550 is 0.45440403697703\t\n"
      ]
     },
     "execution_count": 191,
     "metadata": {},
     "output_type": "execute_result"
    },
    {
     "data": {
      "text/plain": [
       "loss for iteration 560 is 0.45442537530328\t\n"
      ]
     },
     "execution_count": 191,
     "metadata": {},
     "output_type": "execute_result"
    },
    {
     "data": {
      "text/plain": [
       "loss for iteration 570 is 0.4568091006367\t\n"
      ]
     },
     "execution_count": 191,
     "metadata": {},
     "output_type": "execute_result"
    },
    {
     "data": {
      "text/plain": [
       "loss for iteration 580 is 0.45203909412006\t\n"
      ]
     },
     "execution_count": 191,
     "metadata": {},
     "output_type": "execute_result"
    },
    {
     "data": {
      "text/plain": [
       "loss for iteration 590 is 0.45228012161092\t\n"
      ]
     },
     "execution_count": 191,
     "metadata": {},
     "output_type": "execute_result"
    },
    {
     "data": {
      "text/plain": [
       "loss for iteration 600 is 0.45305981911284\t\n"
      ]
     },
     "execution_count": 191,
     "metadata": {},
     "output_type": "execute_result"
    },
    {
     "data": {
      "text/plain": [
       "loss for iteration 610 is 0.45264585611703\t\n"
      ]
     },
     "execution_count": 191,
     "metadata": {},
     "output_type": "execute_result"
    },
    {
     "data": {
      "text/plain": [
       "loss for iteration 620 is 0.4507715186951\t\n"
      ]
     },
     "execution_count": 191,
     "metadata": {},
     "output_type": "execute_result"
    },
    {
     "data": {
      "text/plain": [
       "loss for iteration 630 is 0.45138230884117\t\n"
      ]
     },
     "execution_count": 191,
     "metadata": {},
     "output_type": "execute_result"
    },
    {
     "data": {
      "text/plain": [
       "loss for iteration 640 is 0.45109528927488\t\n"
      ]
     },
     "execution_count": 191,
     "metadata": {},
     "output_type": "execute_result"
    },
    {
     "data": {
      "text/plain": [
       "loss for iteration 650 is 0.45038953127491\t\n"
      ]
     },
     "execution_count": 191,
     "metadata": {},
     "output_type": "execute_result"
    },
    {
     "data": {
      "text/plain": [
       "loss for iteration 660 is 0.44964539426668\t\n"
      ]
     },
     "execution_count": 191,
     "metadata": {},
     "output_type": "execute_result"
    },
    {
     "data": {
      "text/plain": [
       "loss for iteration 670 is 0.4488744767854\t\n"
      ]
     },
     "execution_count": 191,
     "metadata": {},
     "output_type": "execute_result"
    },
    {
     "data": {
      "text/plain": [
       "loss for iteration 680 is 0.44771609740304\t\n"
      ]
     },
     "execution_count": 191,
     "metadata": {},
     "output_type": "execute_result"
    },
    {
     "data": {
      "text/plain": [
       "loss for iteration 690 is 0.44715699691886\t\n"
      ]
     },
     "execution_count": 191,
     "metadata": {},
     "output_type": "execute_result"
    },
    {
     "data": {
      "text/plain": [
       "loss for iteration 700 is 0.44617594199412\t\n"
      ]
     },
     "execution_count": 191,
     "metadata": {},
     "output_type": "execute_result"
    },
    {
     "data": {
      "text/plain": [
       "loss for iteration 710 is 0.44489728103512\t\n"
      ]
     },
     "execution_count": 191,
     "metadata": {},
     "output_type": "execute_result"
    },
    {
     "data": {
      "text/plain": [
       "loss for iteration 720 is 0.44340367525539\t\n"
      ]
     },
     "execution_count": 191,
     "metadata": {},
     "output_type": "execute_result"
    },
    {
     "data": {
      "text/plain": [
       "loss for iteration 730 is 0.44260802753286\t\n"
      ]
     },
     "execution_count": 191,
     "metadata": {},
     "output_type": "execute_result"
    },
    {
     "data": {
      "text/plain": [
       "loss for iteration 740 is 0.44071100834654\t\n"
      ]
     },
     "execution_count": 191,
     "metadata": {},
     "output_type": "execute_result"
    },
    {
     "data": {
      "text/plain": [
       "loss for iteration 750 is 0.4392748669127\t\n"
      ]
     },
     "execution_count": 191,
     "metadata": {},
     "output_type": "execute_result"
    },
    {
     "data": {
      "text/plain": [
       "loss for iteration 760 is 0.43758141468499\t\n"
      ]
     },
     "execution_count": 191,
     "metadata": {},
     "output_type": "execute_result"
    },
    {
     "data": {
      "text/plain": [
       "loss for iteration 770 is 0.43648299384135\t\n"
      ]
     },
     "execution_count": 191,
     "metadata": {},
     "output_type": "execute_result"
    },
    {
     "data": {
      "text/plain": [
       "loss for iteration 780 is 0.4352769235548\t\n"
      ]
     },
     "execution_count": 191,
     "metadata": {},
     "output_type": "execute_result"
    },
    {
     "data": {
      "text/plain": [
       "loss for iteration 790 is 0.43435973114208\t\n"
      ]
     },
     "execution_count": 191,
     "metadata": {},
     "output_type": "execute_result"
    },
    {
     "data": {
      "text/plain": [
       "loss for iteration 800 is 0.43401320540162\t\n"
      ]
     },
     "execution_count": 191,
     "metadata": {},
     "output_type": "execute_result"
    },
    {
     "data": {
      "text/plain": [
       "loss for iteration 810 is 0.43383887737664\t\n"
      ]
     },
     "execution_count": 191,
     "metadata": {},
     "output_type": "execute_result"
    },
    {
     "data": {
      "text/plain": [
       "loss for iteration 820 is 0.43386176367145\t\n"
      ]
     },
     "execution_count": 191,
     "metadata": {},
     "output_type": "execute_result"
    },
    {
     "data": {
      "text/plain": [
       "loss for iteration 830 is 0.43414327814037\t\n"
      ]
     },
     "execution_count": 191,
     "metadata": {},
     "output_type": "execute_result"
    },
    {
     "data": {
      "text/plain": [
       "loss for iteration 840 is 0.43437552308567\t\n"
      ]
     },
     "execution_count": 191,
     "metadata": {},
     "output_type": "execute_result"
    },
    {
     "data": {
      "text/plain": [
       "loss for iteration 850 is 0.43447230571581\t\n"
      ]
     },
     "execution_count": 191,
     "metadata": {},
     "output_type": "execute_result"
    },
    {
     "data": {
      "text/plain": [
       "loss for iteration 860 is 0.43428835292241\t\n"
      ]
     },
     "execution_count": 191,
     "metadata": {},
     "output_type": "execute_result"
    },
    {
     "data": {
      "text/plain": [
       "loss for iteration 870 is 0.4343791724842\t\n"
      ]
     },
     "execution_count": 191,
     "metadata": {},
     "output_type": "execute_result"
    },
    {
     "data": {
      "text/plain": [
       "loss for iteration 880 is 0.43503286431323\t\n"
      ]
     },
     "execution_count": 191,
     "metadata": {},
     "output_type": "execute_result"
    },
    {
     "data": {
      "text/plain": [
       "loss for iteration 890 is 0.43410050699902\t\n"
      ]
     },
     "execution_count": 191,
     "metadata": {},
     "output_type": "execute_result"
    },
    {
     "data": {
      "text/plain": [
       "loss for iteration 900 is 0.43423381600315\t\n"
      ]
     },
     "execution_count": 191,
     "metadata": {},
     "output_type": "execute_result"
    },
    {
     "data": {
      "text/plain": [
       "loss for iteration 910 is 0.43311854159756\t\n"
      ]
     },
     "execution_count": 191,
     "metadata": {},
     "output_type": "execute_result"
    },
    {
     "data": {
      "text/plain": [
       "loss for iteration 920 is 0.43293264333867\t\n"
      ]
     },
     "execution_count": 191,
     "metadata": {},
     "output_type": "execute_result"
    },
    {
     "data": {
      "text/plain": [
       "loss for iteration 930 is 0.43215630845006\t\n"
      ]
     },
     "execution_count": 191,
     "metadata": {},
     "output_type": "execute_result"
    },
    {
     "data": {
      "text/plain": [
       "loss for iteration 940 is 0.43231539044588\t\n"
      ]
     },
     "execution_count": 191,
     "metadata": {},
     "output_type": "execute_result"
    },
    {
     "data": {
      "text/plain": [
       "loss for iteration 950 is 0.43174382282191\t\n"
      ]
     },
     "execution_count": 191,
     "metadata": {},
     "output_type": "execute_result"
    },
    {
     "data": {
      "text/plain": [
       "loss for iteration 960 is 0.43187660679101\t\n"
      ]
     },
     "execution_count": 191,
     "metadata": {},
     "output_type": "execute_result"
    },
    {
     "data": {
      "text/plain": [
       "loss for iteration 970 is 0.43152426663056\t\n"
      ]
     },
     "execution_count": 191,
     "metadata": {},
     "output_type": "execute_result"
    },
    {
     "data": {
      "text/plain": [
       "loss for iteration 980 is 0.43208367882294\t\n"
      ]
     },
     "execution_count": 191,
     "metadata": {},
     "output_type": "execute_result"
    },
    {
     "data": {
      "text/plain": [
       "loss for iteration 990 is 0.431680863194\t\n"
      ]
     },
     "execution_count": 191,
     "metadata": {},
     "output_type": "execute_result"
    },
    {
     "data": {
      "text/plain": [
       "loss for iteration 1000 is 0.431331525267\t\n"
      ]
     },
     "execution_count": 191,
     "metadata": {},
     "output_type": "execute_result"
    }
   ],
   "source": [
    "count = -1\n",
    "function feval(w_new)\n",
    "    count = math.fmod(count+1, y_d:size(1))+1\n",
    "    x_d = train_rnn_X[count]\n",
    "    y_d = train_rnn_Y[count]\n",
    "    \n",
    "    grad_params:zero()\n",
    "    preds = lstm:forward(x_d)\n",
    "    loss = crit:forward(preds, y_d)\n",
    "    grad_out = crit:backward(preds, y_d)\n",
    "    lstm:backward(x_d, grad_out)\n",
    "    \n",
    "    nn.Normalize(2):forward(grad_params)\n",
    "\n",
    "    \n",
    "    return loss, grad_params\n",
    "end\n",
    "\n",
    "for i = 1,1000 do\n",
    "    -- train a mini_batch of batchSize in parallel\n",
    "    _, fs = optim.adam(feval,params)\n",
    "\n",
    "    if i % 10 == 0 then\n",
    "        print('loss for iteration ' .. i  .. ' is ' .. fs[1] )\n",
    "        -- print(sgd_params)\n",
    "    end\n",
    "end"
   ]
  },
  {
   "cell_type": "code",
   "execution_count": 106,
   "metadata": {
    "collapsed": false
   },
   "outputs": [],
   "source": [
    "function perplexity(input_set, output_set)\n",
    "    sum = 0\n",
    "    lstm:forget()\n",
    "    distributions = torch.Tensor(input_set:size(1),2)\n",
    "    for i = 1,input_set:size(1) do\n",
    "        a = (lstm:forward(input_set:sub(1,1)))\n",
    "        distribution = (nn.LogSoftMax():forward(a[1]))\n",
    "        distributions[i] = torch.exp(distribution)\n",
    "        answer = distribution[output_set[i]]\n",
    "        sum = sum + answer\n",
    "        \n",
    "    end\n",
    "    return torch.exp(-sum/input_set:size(1)), distributions\n",
    "end"
   ]
  },
  {
   "cell_type": "code",
   "execution_count": 202,
   "metadata": {
    "collapsed": false
   },
   "outputs": [],
   "source": [
    "a,b = perplexity(train_X_sequence:sub(1,1000), train_Y)"
   ]
  },
  {
   "cell_type": "code",
   "execution_count": 203,
   "metadata": {
    "collapsed": false
   },
   "outputs": [
    {
     "data": {
      "text/plain": [
       "1.5518217836576\t\n"
      ]
     },
     "execution_count": 203,
     "metadata": {},
     "output_type": "execute_result"
    }
   ],
   "source": [
    "a"
   ]
  },
  {
   "cell_type": "code",
   "execution_count": 50,
   "metadata": {
    "collapsed": false
   },
   "outputs": [
    {
     "ename": "...rs/austinshin/torch/install/share/lua/5.1/nn/Sigmoid.lua:4: attempt to index field 'THNN' (a nil value)\nstack traceback:\n\t...rs/austinshin/torch/install/share/lua/5.1/nn/Sigmoid.lua:4: in function 'forward'\n\t[string \"a = nn.Sigmoid()...\"]:2: in main chunk\n\t[C]: in function 'xpcall'\n\t...s/austinshin/torch/install/share/lua/5.1/itorch/main.lua:209: in function <...s/austinshin/torch/install/share/lua/5.1/itorch/main.lua:173>\n\t...s/austinshin/torch/install/share/lua/5.1/lzmq/poller.lua:75: in function 'poll'\n\t...ustinshin/torch/install/share/lua/5.1/lzmq/impl/loop.lua:307: in function 'poll'\n\t...ustinshin/torch/install/share/lua/5.1/lzmq/impl/loop.lua:325: in function 'sleep_ex'\n\t...ustinshin/torch/install/share/lua/5.1/lzmq/impl/loop.lua:370: in function 'start'\n\t...s/austinshin/torch/install/share/lua/5.1/itorch/main.lua:381: in main chunk\n\t[C]: in function 'require'\n\t(command line):1: in main chunk\n\t[C]: at 0x0105e63bc0",
     "evalue": "",
     "output_type": "error",
     "traceback": [
      "...rs/austinshin/torch/install/share/lua/5.1/nn/Sigmoid.lua:4: attempt to index field 'THNN' (a nil value)\nstack traceback:\n\t...rs/austinshin/torch/install/share/lua/5.1/nn/Sigmoid.lua:4: in function 'forward'\n\t[string \"a = nn.Sigmoid()...\"]:2: in main chunk\n\t[C]: in function 'xpcall'\n\t...s/austinshin/torch/install/share/lua/5.1/itorch/main.lua:209: in function <...s/austinshin/torch/install/share/lua/5.1/itorch/main.lua:173>\n\t...s/austinshin/torch/install/share/lua/5.1/lzmq/poller.lua:75: in function 'poll'\n\t...ustinshin/torch/install/share/lua/5.1/lzmq/impl/loop.lua:307: in function 'poll'\n\t...ustinshin/torch/install/share/lua/5.1/lzmq/impl/loop.lua:325: in function 'sleep_ex'\n\t...ustinshin/torch/install/share/lua/5.1/lzmq/impl/loop.lua:370: in function 'start'\n\t...s/austinshin/torch/install/share/lua/5.1/itorch/main.lua:381: in main chunk\n\t[C]: in function 'require'\n\t(command line):1: in main chunk\n\t[C]: at 0x0105e63bc0"
     ]
    }
   ],
   "source": [
    "a = nn.Sigmoid()\n",
    "print(a:forward(lstm:forward(train_X_sequence:sub(1,100))))"
   ]
  },
  {
   "cell_type": "code",
   "execution_count": 81,
   "metadata": {
    "collapsed": false
   },
   "outputs": [
    {
     "ename": "...austinshin/torch/install/share/lua/5.1/nn/LogSoftMax.lua:4: attempt to index field 'THNN' (a nil value)\nstack traceback:\n\t...austinshin/torch/install/share/lua/5.1/nn/LogSoftMax.lua:4: in function 'forward'\n\t[string \"soft = nn.LogSoftMax()...\"]:2: in main chunk\n\t[C]: in function 'xpcall'\n\t...s/austinshin/torch/install/share/lua/5.1/itorch/main.lua:209: in function <...s/austinshin/torch/install/share/lua/5.1/itorch/main.lua:173>\n\t...s/austinshin/torch/install/share/lua/5.1/lzmq/poller.lua:75: in function 'poll'\n\t...ustinshin/torch/install/share/lua/5.1/lzmq/impl/loop.lua:307: in function 'poll'\n\t...ustinshin/torch/install/share/lua/5.1/lzmq/impl/loop.lua:325: in function 'sleep_ex'\n\t...ustinshin/torch/install/share/lua/5.1/lzmq/impl/loop.lua:370: in function 'start'\n\t...s/austinshin/torch/install/share/lua/5.1/itorch/main.lua:381: in main chunk\n\t[C]: in function 'require'\n\t(command line):1: in main chunk\n\t[C]: at 0x0105e63bc0",
     "evalue": "",
     "output_type": "error",
     "traceback": [
      "...austinshin/torch/install/share/lua/5.1/nn/LogSoftMax.lua:4: attempt to index field 'THNN' (a nil value)\nstack traceback:\n\t...austinshin/torch/install/share/lua/5.1/nn/LogSoftMax.lua:4: in function 'forward'\n\t[string \"soft = nn.LogSoftMax()...\"]:2: in main chunk\n\t[C]: in function 'xpcall'\n\t...s/austinshin/torch/install/share/lua/5.1/itorch/main.lua:209: in function <...s/austinshin/torch/install/share/lua/5.1/itorch/main.lua:173>\n\t...s/austinshin/torch/install/share/lua/5.1/lzmq/poller.lua:75: in function 'poll'\n\t...ustinshin/torch/install/share/lua/5.1/lzmq/impl/loop.lua:307: in function 'poll'\n\t...ustinshin/torch/install/share/lua/5.1/lzmq/impl/loop.lua:325: in function 'sleep_ex'\n\t...ustinshin/torch/install/share/lua/5.1/lzmq/impl/loop.lua:370: in function 'start'\n\t...s/austinshin/torch/install/share/lua/5.1/itorch/main.lua:381: in main chunk\n\t[C]: in function 'require'\n\t(command line):1: in main chunk\n\t[C]: at 0x0105e63bc0"
     ]
    }
   ],
   "source": [
    "soft = nn.LogSoftMax()\n",
    "soft:forward(b)"
   ]
  },
  {
   "cell_type": "code",
   "execution_count": 80,
   "metadata": {
    "collapsed": false
   },
   "outputs": [
    {
     "data": {
      "text/plain": [
       " 1\n",
       " 4\n",
       "[torch.LongTensor of size 2]\n",
       "\n"
      ]
     },
     "execution_count": 80,
     "metadata": {},
     "output_type": "execute_result"
    }
   ],
   "source": [
    "b = train_X_sequence:sub(1,2)\n",
    "print(b)"
   ]
  },
  {
   "cell_type": "code",
   "execution_count": 178,
   "metadata": {
    "collapsed": false
   },
   "outputs": [
    {
     "data": {
      "text/plain": [
       " 0.0330\n",
       " 0.0030\n",
       " 0.0940\n",
       "-0.0104\n",
       "-0.0012\n",
       "-0.0393\n",
       " 0.0151\n",
       "-0.1157\n",
       "-0.0965\n",
       "-0.0451\n",
       "-0.1257\n",
       "-0.0687\n",
       " 0.0243\n",
       "-0.0237\n",
       "-0.0365\n",
       " 0.0188\n",
       " 0.0179\n",
       "-0.0910\n",
       "-0.0424\n",
       " 0.0572\n",
       "-0.0665\n",
       "-0.0400\n",
       "-0.0951\n",
       " 0.0468\n",
       " 0.0460\n",
       " 0.1116\n",
       " 0.0615\n",
       "-0.0401\n",
       "-0.0943\n",
       "-0.0673\n",
       "-0.0181\n",
       " 0.0652\n",
       " 0.0428\n",
       " 0.1363\n",
       " 0.0681\n",
       " 0.0293\n",
       "-0.0314\n",
       " 0.0027\n",
       "-0.0384\n",
       " 0.0479\n",
       " 0.0152\n",
       "-0.0323\n",
       " 0.0672\n",
       "-0.0330\n",
       " 0.0392\n",
       " 0.0299\n",
       "-0.0448\n",
       "-0.0252\n",
       " 0.0696\n",
       "-0.0790\n",
       " 0.1295\n",
       " 0.0615\n",
       " 0.1644\n",
       " 0.1180\n",
       " 0.0749\n",
       "-0.1207\n",
       "-0.0694\n",
       "-0.1764\n",
       "-0.0933\n",
       "-0.0240\n",
       "-0.1600\n",
       " 0.0278\n",
       "-0.0739\n",
       "-0.0236\n",
       "-0.1300\n",
       "-0.1484\n",
       "-0.1058\n",
       "-0.0836\n",
       "-0.0372\n",
       " 0.0619\n",
       "-0.0588\n",
       "-0.1460\n",
       "-0.2556\n",
       " 0.0630\n",
       " 0.1138\n",
       " 0.0959\n",
       " 0.0776\n",
       "-0.0583\n",
       "-0.3199\n",
       "-0.0889\n",
       "-0.1439\n",
       " 0.0836\n",
       " 0.0959\n",
       " 0.1831\n",
       " 0.1712\n",
       " 0.0506\n",
       "-0.0898\n",
       "-0.0425\n",
       " 0.0380\n",
       " 0.0841\n",
       "-0.1100\n",
       "-0.2881\n",
       " 0.0338\n",
       "-0.1774\n",
       " 0.0526\n",
       "-0.0574\n",
       "-0.1092\n",
       " 0.2240\n",
       " 0.0908\n",
       "-0.1878\n",
       "[torch.DoubleTensor of size 100]\n",
       "\n"
      ]
     },
     "execution_count": 178,
     "metadata": {},
     "output_type": "execute_result"
    }
   ],
   "source": [
    "nn.Normalize(2):forward(grad_params:sub(1,100))"
   ]
  },
  {
   "cell_type": "code",
   "execution_count": null,
   "metadata": {
    "collapsed": true
   },
   "outputs": [],
   "source": []
  }
 ],
 "metadata": {
  "kernelspec": {
   "display_name": "iTorch",
   "language": "lua",
   "name": "itorch"
  },
  "language_info": {
   "name": "lua",
   "version": "5.1"
  }
 },
 "nbformat": 4,
 "nbformat_minor": 0
}
