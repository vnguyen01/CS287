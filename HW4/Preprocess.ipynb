{
 "cells": [
  {
   "cell_type": "code",
   "execution_count": 1,
   "metadata": {
    "collapsed": true
   },
   "outputs": [],
   "source": [
    "import csv\n",
    "from collections import Counter\n",
    "import collections\n",
    "import numpy as np\n",
    "import operator\n",
    "import h5py\n",
    "import argparse\n",
    "import sys\n",
    "import re\n",
    "import codecs\n",
    "import string\n",
    "import itertools\n",
    "import gc"
   ]
  },
  {
   "cell_type": "code",
   "execution_count": 2,
   "metadata": {
    "collapsed": true
   },
   "outputs": [],
   "source": [
    "FILE_PATHS = {\"full\": (\"data/train_chars.txt\",\n",
    "                      \"data/valid_chars.txt\",\n",
    "                      \"data/valid_chars_kaggle_answer.txt\",\n",
    "                      \"data/valid_chars_kaggle.txt\",\n",
    "                      \"data/test_chars.txt\",)}\n",
    "\n",
    "train_path, valid_path, valid_kaggle_answer_path, valid_kaggle_path, test_path = FILE_PATHS[\"full\"]"
   ]
  },
  {
   "cell_type": "code",
   "execution_count": 3,
   "metadata": {
    "collapsed": false
   },
   "outputs": [],
   "source": [
    "train_X = (list(csv.reader(open(train_path, 'rb'), delimiter=' ')))[0]\n",
    "valid_reduced_X = list(csv.reader(open(valid_path, 'rb'), delimiter=' '))[0]\n",
    "valid_kaggle  = list(csv.reader(open(valid_kaggle_path, 'rb'), delimiter=' '))\n",
    "valid_answers = (list(csv.reader(open(valid_kaggle_answer_path, 'rb'), delimiter=',')))[1:]\n",
    "test = list(csv.reader(open(test_path, 'rb'), delimiter=' '))\n",
    "\n",
    "char_dict = dict.fromkeys(string.ascii_lowercase, 0)\n",
    "count = 1\n",
    "for key in char_dict.keys():\n",
    "    char_dict[key] = count\n",
    "    count = count + 1\n",
    "char_dict['<s>'] = count\n",
    "count = count + 1"
   ]
  },
  {
   "cell_type": "code",
   "execution_count": 4,
   "metadata": {
    "collapsed": false
   },
   "outputs": [],
   "source": [
    "def gen_windows(xdata, window_size):\n",
    "    windows = np.zeros((len(xdata), window_size))\n",
    "    fluffed = ([char_dict['<s>']] * (window_size-1)) + xdata\n",
    "    for i in range(0,len(fluffed)-window_size+1):\n",
    "        window = fluffed[i:i+window_size]\n",
    "        if window != [char_dict['<s>']]*window_size:\n",
    "            windows[i]= window\n",
    "    return windows\n",
    "\n",
    "def get_outputs(X):\n",
    "    #space = 2, non-space = 1\n",
    "    outputs = np.zeros(len(X))\n",
    "    for i in range(0, len(X)-1):\n",
    "        if X[i+1] == char_dict['<space>']:\n",
    "            outputs[i] = 2\n",
    "        else:\n",
    "            outputs[i] = 1\n",
    "    outputs[-1] = 1\n",
    "    return outputs\n"
   ]
  },
  {
   "cell_type": "code",
   "execution_count": 5,
   "metadata": {
    "collapsed": true
   },
   "outputs": [],
   "source": [
    "for i in range(0,len(train_X)):\n",
    "    char = train_X[i]\n",
    "    if char not in char_dict.keys():\n",
    "        char_dict[char] = count\n",
    "        count = count + 1\n",
    "    train_X[i] = char_dict[train_X[i]]\n",
    "    \n",
    "for i in range(0,len(valid_reduced_X)):\n",
    "    char = valid_reduced_X[i]\n",
    "    if char not in char_dict.keys():\n",
    "        char_dict[char] = count\n",
    "        count = count + 1\n",
    "    valid_reduced_X[i] = char_dict[valid_reduced_X[i]]\n",
    "    \n",
    "for i in range(0,len(valid_kaggle)):\n",
    "    for j in range(0,len(valid_kaggle[i])):\n",
    "        char = valid_kaggle[i][j]\n",
    "        if char not in char_dict.keys():\n",
    "            char_dict[char] = count\n",
    "            count = count + 1\n",
    "        valid_kaggle[i][j] = char_dict[valid_kaggle[i][j]]\n",
    "        \n",
    "for i in range(0,len(test)):\n",
    "    for j in range(0,len(test[i])):\n",
    "        char = test[i][j]\n",
    "        if char not in char_dict.keys():\n",
    "            char_dict[char] = count\n",
    "            count = count + 1\n",
    "        test[i][j] = char_dict[test[i][j]]"
   ]
  },
  {
   "cell_type": "code",
   "execution_count": 6,
   "metadata": {
    "collapsed": false
   },
   "outputs": [],
   "source": [
    "#backprop length and batch sizes\n",
    "l = 32 #backprop length\n",
    "b = 5  #batch size\n",
    "\n",
    "n = len(train_X)\n",
    "padding = np.ones((l*b - (n % (l*b)))%(l*b))\n",
    "padded_train_X = np.append(train_X,padding)\n",
    "padded_train_Y = get_outputs(padded_train_X)\n",
    "padded_n = len(padded_train_X)\n",
    "train_rnn_X = np.zeros((padded_n/(b*l), b, l))\n",
    "train_rnn_Y = np.zeros((padded_n/(b*l), b, l))\n",
    "for j in range(0,len(train_rnn_X[0])):\n",
    "    for i in range(0,len(train_rnn_X)):\n",
    "        segment_X = padded_train_X[l*len(train_rnn_X)*j + l*i:l*len(train_rnn_X)*j + l*i + l]\n",
    "        segment_Y = padded_train_Y[l*len(train_rnn_X)*j + l*i:l*len(train_rnn_X)*j + l*i + l]\n",
    "        train_rnn_X[i][j] = segment_X\n",
    "        train_rnn_Y[i][j] = segment_Y\n",
    "        \n",
    "valid_reduced_Y = get_outputs(valid_reduced_X)\n",
    "train_Y = get_outputs(train_X)\n",
    "\n",
    "length = len(sorted(test,key=len, reverse=True)[0])\n",
    "length = max(len(sorted(valid_kaggle ,key=len, reverse=True)[0]), length)\n",
    "test = np.array([xi+[char_dict['</s>']]*(length-len(xi)) for xi in test])\n",
    "valid_kaggle = np.array([xi+[char_dict['</s>']]*(length-len(xi)) for xi in valid_kaggle])\n",
    "\n",
    "\n",
    "\n",
    "w_size = 5\n",
    "\n",
    "windows_train = gen_windows(train_X, w_size)\n",
    "windows_valid = gen_windows(valid_reduced_X, w_size)"
   ]
  },
  {
   "cell_type": "code",
   "execution_count": null,
   "metadata": {
    "collapsed": false
   },
   "outputs": [],
   "source": [
    "filename = 'data' + '.hdf5'\n",
    "with h5py.File(filename, \"w\") as f:\n",
    "    f['train_rnn_X'] = train_rnn_X\n",
    "    f['train_rnn_Y'] = train_rnn_Y\n",
    "    f['train_X_sequence'] = train_X\n",
    "    f['train_Y'] = train_Y\n",
    "    f['valid_reduced_X'] = valid_reduced_X\n",
    "    f['valid_reduced_Y'] = valid_reduced_Y\n",
    "    f['windows_train'] = windows_train\n",
    "    f['windows_valid'] = windows_valid\n",
    "    f['test'] = test\n",
    "    f['valid_kaggle'] = valid_kaggle\n",
    "    f['valid_answers'] = (np.array(valid_answers).astype(int))[:,1]\n"
   ]
  },
  {
   "cell_type": "code",
   "execution_count": null,
   "metadata": {
    "collapsed": false
   },
   "outputs": [],
   "source": []
  },
  {
   "cell_type": "code",
   "execution_count": 8,
   "metadata": {
    "collapsed": false
   },
   "outputs": [
    {
     "data": {
      "text/plain": [
       "{'#': 48,\n",
       " '$': 41,\n",
       " '&': 40,\n",
       " \"'\": 35,\n",
       " '*': 51,\n",
       " '-': 29,\n",
       " '.': 34,\n",
       " '/': 50,\n",
       " '0': 39,\n",
       " '1': 36,\n",
       " '2': 43,\n",
       " '3': 42,\n",
       " '4': 44,\n",
       " '5': 38,\n",
       " '6': 46,\n",
       " '7': 47,\n",
       " '8': 45,\n",
       " '9': 37,\n",
       " '<': 31,\n",
       " '</s>': 30,\n",
       " '<s>': 27,\n",
       " '<space>': 28,\n",
       " '>': 32,\n",
       " 'N': 33,\n",
       " '\\\\': 49,\n",
       " 'a': 1,\n",
       " 'b': 3,\n",
       " 'c': 2,\n",
       " 'd': 5,\n",
       " 'e': 4,\n",
       " 'f': 7,\n",
       " 'g': 6,\n",
       " 'h': 9,\n",
       " 'i': 8,\n",
       " 'j': 11,\n",
       " 'k': 10,\n",
       " 'l': 13,\n",
       " 'm': 12,\n",
       " 'n': 15,\n",
       " 'o': 14,\n",
       " 'p': 17,\n",
       " 'q': 16,\n",
       " 'r': 19,\n",
       " 's': 18,\n",
       " 't': 21,\n",
       " 'u': 20,\n",
       " 'v': 23,\n",
       " 'w': 22,\n",
       " 'x': 25,\n",
       " 'y': 24,\n",
       " 'z': 26}"
      ]
     },
     "execution_count": 8,
     "metadata": {},
     "output_type": "execute_result"
    }
   ],
   "source": [
    "char_dict"
   ]
  },
  {
   "cell_type": "code",
   "execution_count": null,
   "metadata": {
    "collapsed": false
   },
   "outputs": [],
   "source": []
  },
  {
   "cell_type": "code",
   "execution_count": null,
   "metadata": {
    "collapsed": false
   },
   "outputs": [],
   "source": []
  },
  {
   "cell_type": "code",
   "execution_count": null,
   "metadata": {
    "collapsed": false
   },
   "outputs": [],
   "source": []
  },
  {
   "cell_type": "code",
   "execution_count": null,
   "metadata": {
    "collapsed": true
   },
   "outputs": [],
   "source": []
  }
 ],
 "metadata": {
  "kernelspec": {
   "display_name": "Python 2",
   "language": "python",
   "name": "python2"
  },
  "language_info": {
   "codemirror_mode": {
    "name": "ipython",
    "version": 2
   },
   "file_extension": ".py",
   "mimetype": "text/x-python",
   "name": "python",
   "nbconvert_exporter": "python",
   "pygments_lexer": "ipython2",
   "version": "2.7.11"
  }
 },
 "nbformat": 4,
 "nbformat_minor": 0
}
