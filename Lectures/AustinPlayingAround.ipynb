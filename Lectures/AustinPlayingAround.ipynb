{
 "cells": [
  {
   "cell_type": "code",
   "execution_count": 9,
   "metadata": {
    "collapsed": true
   },
   "outputs": [],
   "source": [
    "a,b = 10, \"happy\""
   ]
  },
  {
   "cell_type": "code",
   "execution_count": 24,
   "metadata": {
    "collapsed": false
   },
   "outputs": [],
   "source": [
    "a = nil"
   ]
  },
  {
   "cell_type": "code",
   "execution_count": 25,
   "metadata": {
    "collapsed": false
   },
   "outputs": [
    {
     "data": {
      "text/plain": [
       "2\t\n",
       "\t\n"
      ]
     },
     "execution_count": 25,
     "metadata": {},
     "output_type": "execute_result"
    }
   ],
   "source": [
    "val2 = a and 1 or 2 -- a is falsey, so we get 2\n",
    "print(val2, \"\\n\")"
   ]
  },
  {
   "cell_type": "code",
   "execution_count": 17,
   "metadata": {
    "collapsed": false
   },
   "outputs": [],
   "source": [
    "var = 10\n",
    "function f1(var)\n",
    "    local var = 50\n",
    "    return var + 1\n",
    "end\n",
    "\n",
    "function f2(var)\n",
    "    return var+1\n",
    "end\n"
   ]
  },
  {
   "cell_type": "code",
   "execution_count": 23,
   "metadata": {
    "collapsed": false
   },
   "outputs": [
    {
     "ename": "[string \"var = 10...\"]:8: attempt to perform arithmetic on local 'var' (a nil value)\nstack traceback:\n\t[string \"var = 10...\"]:8: in function 'f'\n\t[string \"local f = function() return f2() end; local r...\"]:1: in main chunk\n\t[C]: in function 'xpcall'\n\t...s/austinshin/torch/install/share/lua/5.1/itorch/main.lua:179: in function <...s/austinshin/torch/install/share/lua/5.1/itorch/main.lua:143>\n\t...s/austinshin/torch/install/share/lua/5.1/lzmq/poller.lua:75: in function 'poll'\n\t...ustinshin/torch/install/share/lua/5.1/lzmq/impl/loop.lua:307: in function 'poll'\n\t...ustinshin/torch/install/share/lua/5.1/lzmq/impl/loop.lua:325: in function 'sleep_ex'\n\t...ustinshin/torch/install/share/lua/5.1/lzmq/impl/loop.lua:370: in function 'start'\n\t...s/austinshin/torch/install/share/lua/5.1/itorch/main.lua:350: in main chunk\n\t[C]: in function 'require'\n\t(command line):1: in main chunk\n\t[C]: at 0x010d5e8bc0",
     "evalue": "",
     "output_type": "error",
     "traceback": [
      "[string \"var = 10...\"]:8: attempt to perform arithmetic on local 'var' (a nil value)\nstack traceback:\n\t[string \"var = 10...\"]:8: in function 'f'\n\t[string \"local f = function() return f2() end; local r...\"]:1: in main chunk\n\t[C]: in function 'xpcall'\n\t...s/austinshin/torch/install/share/lua/5.1/itorch/main.lua:179: in function <...s/austinshin/torch/install/share/lua/5.1/itorch/main.lua:143>\n\t...s/austinshin/torch/install/share/lua/5.1/lzmq/poller.lua:75: in function 'poll'\n\t...ustinshin/torch/install/share/lua/5.1/lzmq/impl/loop.lua:307: in function 'poll'\n\t...ustinshin/torch/install/share/lua/5.1/lzmq/impl/loop.lua:325: in function 'sleep_ex'\n\t...ustinshin/torch/install/share/lua/5.1/lzmq/impl/loop.lua:370: in function 'start'\n\t...s/austinshin/torch/install/share/lua/5.1/itorch/main.lua:350: in main chunk\n\t[C]: in function 'require'\n\t(command line):1: in main chunk\n\t[C]: at 0x010d5e8bc0"
     ]
    }
   ],
   "source": [
    "f2()"
   ]
  },
  {
   "cell_type": "code",
   "execution_count": null,
   "metadata": {
    "collapsed": true
   },
   "outputs": [],
   "source": []
  }
 ],
 "metadata": {
  "kernelspec": {
   "display_name": "iTorch",
   "language": "lua",
   "name": "itorch"
  },
  "language_info": {
   "name": "lua",
   "version": "20100"
  }
 },
 "nbformat": 4,
 "nbformat_minor": 0
}
