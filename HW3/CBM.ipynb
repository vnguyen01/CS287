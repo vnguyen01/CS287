{
 "cells": [
  {
   "cell_type": "code",
   "execution_count": 1,
   "metadata": {
    "collapsed": true
   },
   "outputs": [],
   "source": [
    "require('nn')\n",
    "require('hdf5')\n",
    "require('optim')"
   ]
  },
  {
   "cell_type": "code",
   "execution_count": 2,
   "metadata": {
    "collapsed": false
   },
   "outputs": [],
   "source": [
    "f = hdf5.open(\"data.hdf5\", \"r\")\n",
    "X_train = f:read(\"train_input\"):all()\n",
    "Y_train = f:read(\"train_output\"):all()\n",
    "X_valid = f:read(\"valid_input\"):all()\n",
    "q_valid = f:read(\"valid_q\"):all()\n",
    "X_test = f:read(\"test_input\"):all()\n",
    "q_test = f:read(\"test_q\"):all()\n",
    "kaggle_valid = f:read(\"valid_kaggle\"):all()\n",
    "nclasses = f:read('nclasses'):all():long()[1]\n",
    "nfeatures = f:read('nfeatures'):all():long()[1]\n",
    "f:close()\n",
    "\n",
    "window_size = X_train:size(2)\n",
    "n_actual = nfeatures"
   ]
  },
  {
   "cell_type": "code",
   "execution_count": 3,
   "metadata": {
    "collapsed": true
   },
   "outputs": [],
   "source": [
    "--changes index to account for window size\n",
    "function changeIndex(X, window_size, nfeatures)\n",
    "    for i=1,X:size(2) do\n",
    "        X:select(2,i):add((i-1)*(nfeatures))\n",
    "    end\n",
    "    return X\n",
    "end\n",
    "\n",
    "function lookup(X, Y, win_size, C, K)\n",
    "    W = torch.zeros(C, win_size*(K))\n",
    "    for i=1,X:size(1) do\n",
    "        for j=1,X:size(2) do\n",
    "            local row = Y[i]\n",
    "            local col = X[i][j]\n",
    "            W[row][col] = W[row][col] + 1\n",
    "        end\n",
    "    end\n",
    "    return W\n",
    "end"
   ]
  },
  {
   "cell_type": "code",
   "execution_count": 7,
   "metadata": {
    "collapsed": true
   },
   "outputs": [],
   "source": [
    "function CBM(fc, Y, alpha, V)\n",
    "    --calculate log posterior\n",
    "    --local cc = torch.zeros(1, V)\n",
    "    --local clp = torch.zeros(1, V)\n",
    "\n",
    "    --collapse column wise so Nx1\n",
    "    --local hist = torch.histc(Y:double(), 10001)\n",
    "    --cc:add(torch.reshape(hist, 1, 10001))\n",
    "    --THIS IS ALPHA\n",
    "    --smoothing\n",
    "    --cc:add(alpha)\n",
    "    fc:add(alpha)\n",
    "    local scc = fc:sum(2)\n",
    "    \n",
    "    fc:log()\n",
    "    scc:log()\n",
    "    \n",
    "    scc:expand(scc, scc:size(1), fc:size(2))\n",
    "    \n",
    "    --calculate log prior\n",
    "    --collapse down so 1x1\n",
    "    --local total = cc:sum(2)\n",
    "    --cc:div(total[1][1])\n",
    "    --cc:log()\n",
    "    --clp:csub(math.log(Y:size(2)))\n",
    "    \n",
    "    return fc:csub(scc)--, cc\n",
    "end"
   ]
  },
  {
   "cell_type": "code",
   "execution_count": 10,
   "metadata": {
    "collapsed": true
   },
   "outputs": [],
   "source": [
    "function predict(X, W, b)\n",
    "  local jll = torch.zeros(X:size(1), W:size(1))\n",
    "  for i = 1, X:size(1) do\n",
    "    jll[i] = W:index(2, X[i]):sum(2)\n",
    "    --jll[i]:add(b)\n",
    "  end\n",
    "  return jll\n",
    "end"
   ]
  },
  {
   "cell_type": "code",
   "execution_count": 15,
   "metadata": {
    "collapsed": false
   },
   "outputs": [],
   "source": [
    "function kaggle_perplexity(jll, Y)\n",
    "    local matrix = torch.zeros(Y:size(1), Y:size(2))\n",
    "    for i=1, Y:size(1) do\n",
    "        for j=1, Y:size(2) do\n",
    "            idx = Y[i][j]\n",
    "            matrix[i][j] = (jll[i][idx] * -1)\n",
    "        end\n",
    "    end\n",
    "    return matrix:cdiv(torch.expand((torch.sum(matrix, 2)), Y:size(1), matrix:size(2)))\n",
    "end\n",
    "\n",
    "function valid_perplexity(jll, Y_correct, Y)\n",
    "    jll:cdiv(torch.expand((torch.sum(jll, 2)), Y:size(1), jll:size(2)))\n",
    "    perp = 0\n",
    "    for i=1, Y_correct:size(1) do\n",
    "        idx = Y[i][Y_correct[i]]\n",
    "        perp = (torch.log(jll[i][idx])) + perp\n",
    "    end\n",
    "    print(torch.exp(perp/Y:size(1) * -1))\n",
    "end\n",
    "\n",
    "function write2file(scores, fname)\n",
    "    f = io.open(fname, \"w\")\n",
    "    f:write(\"ID,Class1,CLass2,Class3,Class4,Class5,Class6,Class7,Class8,Class9,Class10,Class11,Class12,CLass13,Class14,Class15,Class16,Class17,Class18,Class19,Class20,Class21,Class22,Class23,CLass24,Class25,Class26,Class27,Class28,Class29,Class30,Class31,Class32,Class33,Class34,CLass35,Class36,Class37,Class38,Class39,Class40,Class41,Class42,Class43,Class44,Class45,CLass46,Class47,Class48,Class49,Class50\\n\")\n",
    "    for i=1,scores:size(1) do\n",
    "        s = tostring(i)\n",
    "        for j=1, scores:size(2) do\n",
    "            s = s .. \",\" .. tostring(scores[i][j])\n",
    "        end\n",
    "        f:write(s .. \"\\n\")\n",
    "    end\n",
    "    f:close()\n",
    "end"
   ]
  },
  {
   "cell_type": "code",
   "execution_count": 4,
   "metadata": {
    "collapsed": false
   },
   "outputs": [],
   "source": [
    "X_train = changeIndex(X_train, 5, nfeatures)\n",
    "X_valid = changeIndex(X_valid, 5, nfeatures)\n",
    "X_test = changeIndex(X_test, 5, nfeatures)"
   ]
  },
  {
   "cell_type": "code",
   "execution_count": 5,
   "metadata": {
    "collapsed": false
   },
   "outputs": [],
   "source": [
    "W = lookup(X_train, Y_train, window_size, 10001, nfeatures)"
   ]
  },
  {
   "cell_type": "code",
   "execution_count": 8,
   "metadata": {
    "collapsed": false
   },
   "outputs": [],
   "source": [
    "W_ = CBM(W, Y_train, 1, 10001)"
   ]
  },
  {
   "cell_type": "code",
   "execution_count": 11,
   "metadata": {
    "collapsed": false
   },
   "outputs": [],
   "source": [
    "jll = predict(X_test, W_, b)"
   ]
  },
  {
   "cell_type": "code",
   "execution_count": 5,
   "metadata": {
    "collapsed": false
   },
   "outputs": [
    {
     "data": {
      "text/plain": [
       " 9987\n",
       "[torch.LongTensor of size 1]\n",
       "\n"
      ]
     },
     "execution_count": 5,
     "metadata": {},
     "output_type": "execute_result"
    }
   ],
   "source": [
    "valid_perplexity(jll, q_valid, )"
   ]
  },
  {
   "cell_type": "code",
   "execution_count": 9,
   "metadata": {
    "collapsed": false
   },
   "outputs": [
    {
     "data": {
      "text/plain": [
       " 10001\n",
       " 50010\n",
       "[torch.LongStorage of size 2]\n",
       "\n"
      ]
     },
     "execution_count": 9,
     "metadata": {},
     "output_type": "execute_result"
    }
   ],
   "source": [
    "W:size()"
   ]
  },
  {
   "cell_type": "code",
   "execution_count": 12,
   "metadata": {
    "collapsed": false
   },
   "outputs": [],
   "source": [
    "W_ = W_:cdiv(torch.expand(W_:sum(2), W_:size(1), W_:size(2)))"
   ]
  },
  {
   "cell_type": "code",
   "execution_count": null,
   "metadata": {
    "collapsed": true
   },
   "outputs": [],
   "source": []
  }
 ],
 "metadata": {
  "kernelspec": {
   "display_name": "iTorch",
   "language": "lua",
   "name": "itorch"
  },
  "language_info": {
   "name": "lua",
   "version": "20100"
  }
 },
 "nbformat": 4,
 "nbformat_minor": 0
}
