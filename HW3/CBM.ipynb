{
 "cells": [
  {
   "cell_type": "code",
   "execution_count": 32,
   "metadata": {
    "collapsed": true
   },
   "outputs": [],
   "source": [
    "require('nn')\n",
    "require('hdf5')\n",
    "require('optim')"
   ]
  },
  {
   "cell_type": "code",
   "execution_count": 33,
   "metadata": {
    "collapsed": true
   },
   "outputs": [],
   "source": [
    "f = hdf5.open(\"data.hdf5\", \"r\")\n",
    "X_train = f:read(\"train_input\"):all()\n",
    "Y_train = f:read(\"train_output\"):all()\n",
    "X_valid = f:read(\"valid_input\"):all()\n",
    "q_valid = f:read(\"valid_q\"):all()\n",
    "X_test = f:read(\"test_input\"):all()\n",
    "q_test = f:read(\"test_q\"):all()\n",
    "kaggle_valid = f:read(\"valid_kaggle\"):all()\n",
    "nclasses = f:read('nclasses'):all():long()[1]\n",
    "nfeatures = f:read('nfeatures'):all():long()[1]\n",
    "n_reduced = 1001\n",
    "f:close()\n",
    "\n",
    "window_size = X_train:size(2)\n",
    "n_actual = nfeatures"
   ]
  },
  {
   "cell_type": "code",
   "execution_count": 34,
   "metadata": {
    "collapsed": false
   },
   "outputs": [],
   "source": [
    "function changeIndex(X, window_size, nfeatures)\n",
    "    for i=1,X:size(2) do\n",
    "        X:select(2,i):add((i-1)*nfeatures)\n",
    "    end\n",
    "    return X\n",
    "end\n",
    "\n",
    "function lookup(X, Y, win_size, C, K)\n",
    "    W = torch.zeros(C, win_size*(K))\n",
    "    for i=1,X:size(1) do\n",
    "        for j=1,X:size(2) do\n",
    "            local row = Y[i]\n",
    "            local col = X[i][j]\n",
    "            W[row][col] = W[row][col] + 1\n",
    "        end\n",
    "    end\n",
    "    return W\n",
    "end"
   ]
  },
  {
   "cell_type": "code",
   "execution_count": 45,
   "metadata": {
    "collapsed": true
   },
   "outputs": [],
   "source": [
    "function CBM(fc, Y, alpha, V)\n",
    "    --calculate log posterior\n",
    "    local cc = torch.zeros(1, V)\n",
    "    local clp = torch.zeros(1, V)\n",
    "\n",
    "    --collapse column wise so Nx1\n",
    "    local hist = torch.histc(Y:double(), 10000)\n",
    "    cc:add(torch.reshape(hist, 1, 10000))\n",
    "    --THIS IS ALPHA\n",
    "    --smoothing\n",
    "    fc:add(alpha)\n",
    "    local scc = fc:sum(2)\n",
    "    \n",
    "    fc:log()\n",
    "    scc:log()\n",
    "    \n",
    "    scc:expand(scc, scc:size(1), fc:size(2))\n",
    "    \n",
    "    --calculate log prior\n",
    "    --collapse down so 1x1\n",
    "    local total = cc:sum(2)\n",
    "    cc:div(total[1][1])\n",
    "    cc:log()\n",
    "    --clp:csub(math.log(Y:size(2)))\n",
    "    \n",
    "    return fc:csub(scc), cc\n",
    "end\n",
    "\n",
    "function predict(X, W, b)\n",
    "  local jll = torch.zeros(X:size(1), W:size(1))\n",
    "  for i = 1, X:size(1) do\n",
    "    jll[i] = W:index(2, X[i]):sum(2)\n",
    "    --right now prior is messed up\n",
    "    jll[i]:add(b)\n",
    "  end\n",
    "  return jll\n",
    "end"
   ]
  },
  {
   "cell_type": "code",
   "execution_count": 86,
   "metadata": {
    "collapsed": false
   },
   "outputs": [],
   "source": [
    "function perp(pred, tolookup)\n",
    "    local temp = torch.zeros(tolookup:size(1), 50)\n",
    "    for i=1, tolookup:size(1) do\n",
    "        local total=0\n",
    "        for j=1,tolookup:size(2) do\n",
    "            idx = tolookup[i][j]\n",
    "            temp[i][j] = pred[i][j] * -1\n",
    "            total = -1 * pred[i][idx] + total\n",
    "        end\n",
    "\n",
    "    end\n",
    "    return temp\n",
    "end"
   ]
  },
  {
   "cell_type": "code",
   "execution_count": 37,
   "metadata": {
    "collapsed": false
   },
   "outputs": [],
   "source": [
    "X_train = changeIndex(X_train, 5, nfeatures)\n",
    "X_valid = changeIndex(X_valid, 5, nfeatures)"
   ]
  },
  {
   "cell_type": "code",
   "execution_count": 38,
   "metadata": {
    "collapsed": false
   },
   "outputs": [],
   "source": [
    "W = lookup(X_train, Y_train, window_size, 10000, nfeatures)"
   ]
  },
  {
   "cell_type": "code",
   "execution_count": 46,
   "metadata": {
    "collapsed": false
   },
   "outputs": [],
   "source": [
    "W_, b = CBM(W, Y_train, 1, 10000)"
   ]
  },
  {
   "cell_type": "code",
   "execution_count": 48,
   "metadata": {
    "collapsed": false
   },
   "outputs": [],
   "source": [
    "jll = predict(X_valid, W_, b)"
   ]
  },
  {
   "cell_type": "code",
   "execution_count": 87,
   "metadata": {
    "collapsed": false
   },
   "outputs": [
    {
     "data": {
      "text/plain": [
       "Columns 1 to 6\n",
       "  4.5307e+01   3.8242e+01          inf   4.6229e+01   4.1575e+01   4.9654e+01\n",
       "\n",
       "Columns 7 to 12\n",
       "  4.9626e+01   4.7587e+01   4.9427e+01   4.9471e+01   5.0504e+01   5.0029e+01\n",
       "\n",
       "Columns 13 to 18\n",
       "  4.8976e+01   4.5258e+01   5.2606e+01   5.0530e+01   5.2213e+01   4.9544e+01\n",
       "\n",
       "Columns 19 to 24\n",
       "  5.1646e+01   5.0465e+01   5.1395e+01   4.9982e+01   5.0912e+01   5.0924e+01\n",
       "\n",
       "Columns 25 to 30\n",
       "  5.0114e+01   5.3840e+01   5.6259e+01   5.5232e+01   5.0256e+01   5.2792e+01\n",
       "\n",
       "Columns 31 to 36\n",
       "  5.2654e+01   5.4149e+01   5.1882e+01   5.7145e+01   5.2582e+01   5.4567e+01\n",
       "\n",
       "Columns 37 to 42\n",
       "  4.5403e+01   5.2059e+01   4.4539e+01   5.3477e+01   5.2909e+01   4.9190e+01\n",
       "\n",
       "Columns 43 to 48\n",
       "  5.3973e+01   5.3762e+01   5.1295e+01   5.2707e+01   4.7738e+01   5.5473e+01\n",
       "\n",
       "Columns 49 to 50\n",
       "  4.6137e+01   5.2143e+01\n",
       "[torch.DoubleTensor of size 1x50]\n",
       "\n"
      ]
     },
     "execution_count": 87,
     "metadata": {},
     "output_type": "execute_result"
    }
   ],
   "source": [
    "perp(jll, q_valid:sub(1,1))"
   ]
  },
  {
   "cell_type": "code",
   "execution_count": 23,
   "metadata": {
    "collapsed": false
   },
   "outputs": [],
   "source": [
    "asdf = torch.Tensor{{1},{2},{2},{3},{2},{1}}"
   ]
  },
  {
   "cell_type": "code",
   "execution_count": 43,
   "metadata": {
    "collapsed": false
   },
   "outputs": [
    {
     "ename": "[string \"a = torch.histc(Y_train, 10000)...\"]:1: torch.LongTensor does not implement the torch.histc() function\nstack traceback:\n\t[C]: in function 'histc'\n\t[string \"a = torch.histc(Y_train, 10000)...\"]:1: in main chunk\n\t[C]: in function 'xpcall'\n\t/Users/Vincent/torch/install/share/lua/5.1/itorch/main.lua:179: in function </Users/Vincent/torch/install/share/lua/5.1/itorch/main.lua:143>\n\t/Users/Vincent/torch/install/share/lua/5.1/lzmq/poller.lua:75: in function 'poll'\n\t...s/Vincent/torch/install/share/lua/5.1/lzmq/impl/loop.lua:307: in function 'poll'\n\t...s/Vincent/torch/install/share/lua/5.1/lzmq/impl/loop.lua:325: in function 'sleep_ex'\n\t...s/Vincent/torch/install/share/lua/5.1/lzmq/impl/loop.lua:370: in function 'start'\n\t/Users/Vincent/torch/install/share/lua/5.1/itorch/main.lua:350: in main chunk\n\t[C]: in function 'require'\n\t(command line):1: in main chunk\n\t[C]: at 0x0102f12bd0",
     "evalue": "",
     "output_type": "error",
     "traceback": [
      "[string \"a = torch.histc(Y_train, 10000)...\"]:1: torch.LongTensor does not implement the torch.histc() function\nstack traceback:\n\t[C]: in function 'histc'\n\t[string \"a = torch.histc(Y_train, 10000)...\"]:1: in main chunk\n\t[C]: in function 'xpcall'\n\t/Users/Vincent/torch/install/share/lua/5.1/itorch/main.lua:179: in function </Users/Vincent/torch/install/share/lua/5.1/itorch/main.lua:143>\n\t/Users/Vincent/torch/install/share/lua/5.1/lzmq/poller.lua:75: in function 'poll'\n\t...s/Vincent/torch/install/share/lua/5.1/lzmq/impl/loop.lua:307: in function 'poll'\n\t...s/Vincent/torch/install/share/lua/5.1/lzmq/impl/loop.lua:325: in function 'sleep_ex'\n\t...s/Vincent/torch/install/share/lua/5.1/lzmq/impl/loop.lua:370: in function 'start'\n\t/Users/Vincent/torch/install/share/lua/5.1/itorch/main.lua:350: in main chunk\n\t[C]: in function 'require'\n\t(command line):1: in main chunk\n\t[C]: at 0x0102f12bd0"
     ]
    }
   ],
   "source": [
    "a = torch.histc(Y_train, 10000)"
   ]
  },
  {
   "cell_type": "code",
   "execution_count": 44,
   "metadata": {
    "collapsed": false
   },
   "outputs": [
    {
     "data": {
      "text/plain": [
       " 845453\n",
       "[torch.LongStorage of size 1]\n",
       "\n"
      ]
     },
     "execution_count": 44,
     "metadata": {},
     "output_type": "execute_result"
    }
   ],
   "source": [
    "Y_train:size()"
   ]
  },
  {
   "cell_type": "code",
   "execution_count": null,
   "metadata": {
    "collapsed": true
   },
   "outputs": [],
   "source": []
  }
 ],
 "metadata": {
  "kernelspec": {
   "display_name": "iTorch",
   "language": "lua",
   "name": "itorch"
  },
  "language_info": {
   "name": "lua",
   "version": "20100"
  }
 },
 "nbformat": 4,
 "nbformat_minor": 0
}
