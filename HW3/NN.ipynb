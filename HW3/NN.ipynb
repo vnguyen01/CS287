{
 "cells": [
  {
   "cell_type": "code",
   "execution_count": 48,
   "metadata": {
    "collapsed": false
   },
   "outputs": [],
   "source": [
    "require('nn')\n",
    "require('hdf5')\n",
    "require('optim')\n",
    "\n",
    "f = hdf5.open(\"data.hdf5\", \"r\")\n",
    "X_train = f:read(\"train_input\"):all()\n",
    "Y_train = f:read(\"train_output\"):all()\n",
    "X_valid = f:read(\"valid_input\"):all()\n",
    "q_valid = f:read(\"valid_q\"):all()\n",
    "X_test = f:read(\"test_input\"):all()\n",
    "q_test = f:read(\"test_q\"):all()\n",
    "kaggle_valid = f:read(\"valid_kaggle\"):all()\n",
    "nclasses = f:read('nclasses'):all():long()[1]\n",
    "nfeatures = f:read('nfeatures'):all():long()[1]\n",
    "n_reduced = 1001\n",
    "f:close()\n",
    "\n",
    "window_size = X_train:size(2)\n",
    "n_actual = nfeatures"
   ]
  },
  {
   "cell_type": "code",
   "execution_count": 49,
   "metadata": {
    "collapsed": false
   },
   "outputs": [
    {
     "data": {
      "text/plain": [
       "10002\t\n"
      ]
     },
     "execution_count": 49,
     "metadata": {},
     "output_type": "execute_result"
    }
   ],
   "source": [
    "n_actual\n"
   ]
  },
  {
   "cell_type": "code",
   "execution_count": null,
   "metadata": {
    "collapsed": false
   },
   "outputs": [],
   "source": []
  },
  {
   "cell_type": "code",
   "execution_count": 50,
   "metadata": {
    "collapsed": false
   },
   "outputs": [],
   "source": [
    "\n",
    "embedded_size = 30\n",
    "D_h = 100\n",
    "\n",
    "lookup1 = nn.LookupTable(nfeatures,embedded_size)\n",
    "linear1 = nn.Linear(window_size*embedded_size, D_h)\n",
    "tanh = nn.HardTanh()\n",
    "linear2 = nn.Linear(D_h, n_actual)\n",
    "h = nn.Sequential()\n",
    "h:add(lookup1)\n",
    "h:add(nn.Reshape(window_size*embedded_size, True))\n",
    "h:add(linear1)\n",
    "h:add(tanh)\n",
    "h:add(linear2)\n",
    "\n",
    "mse = nn.CrossEntropyCriterion()"
   ]
  },
  {
   "cell_type": "code",
   "execution_count": null,
   "metadata": {
    "collapsed": false
   },
   "outputs": [],
   "source": []
  },
  {
   "cell_type": "code",
   "execution_count": null,
   "metadata": {
    "collapsed": false
   },
   "outputs": [
    {
     "data": {
      "text/plain": [
       "loss for iteration 10 is 4.3968732573569\t\n"
      ]
     },
     "execution_count": 109,
     "metadata": {},
     "output_type": "execute_result"
    },
    {
     "data": {
      "text/plain": [
       "loss for iteration 20 is 5.2851650503275\t\n"
      ]
     },
     "execution_count": 109,
     "metadata": {},
     "output_type": "execute_result"
    },
    {
     "data": {
      "text/plain": [
       "loss for iteration 30 is 5.0630694911214\t\n"
      ]
     },
     "execution_count": 109,
     "metadata": {},
     "output_type": "execute_result"
    },
    {
     "data": {
      "text/plain": [
       "loss for iteration 40 is 4.6755060549749\t\n"
      ]
     },
     "execution_count": 109,
     "metadata": {},
     "output_type": "execute_result"
    },
    {
     "data": {
      "text/plain": [
       "loss for iteration 50 is 4.574541745319\t\n"
      ]
     },
     "execution_count": 109,
     "metadata": {},
     "output_type": "execute_result"
    },
    {
     "data": {
      "text/plain": [
       "loss for iteration 60 is 5.125486380378\t\n"
      ]
     },
     "execution_count": 109,
     "metadata": {},
     "output_type": "execute_result"
    },
    {
     "data": {
      "text/plain": [
       "loss for iteration 70 is 4.296519385269\t\n"
      ]
     },
     "execution_count": 109,
     "metadata": {},
     "output_type": "execute_result"
    },
    {
     "data": {
      "text/plain": [
       "loss for iteration 80 is 5.0151547094954\t\n"
      ]
     },
     "execution_count": 109,
     "metadata": {},
     "output_type": "execute_result"
    },
    {
     "data": {
      "text/plain": [
       "loss for iteration 90 is 5.021308834142\t\n"
      ]
     },
     "execution_count": 109,
     "metadata": {},
     "output_type": "execute_result"
    },
    {
     "data": {
      "text/plain": [
       "loss for iteration 100 is 5.2620019171117\t\n"
      ]
     },
     "execution_count": 109,
     "metadata": {},
     "output_type": "execute_result"
    },
    {
     "data": {
      "text/plain": [
       "loss for iteration 110 is 4.5474264811146\t\n"
      ]
     },
     "execution_count": 109,
     "metadata": {},
     "output_type": "execute_result"
    },
    {
     "data": {
      "text/plain": [
       "loss for iteration 120 is 4.949424977887\t\n"
      ]
     },
     "execution_count": 109,
     "metadata": {},
     "output_type": "execute_result"
    },
    {
     "data": {
      "text/plain": [
       "loss for iteration 130 is 5.753570208605\t\n"
      ]
     },
     "execution_count": 109,
     "metadata": {},
     "output_type": "execute_result"
    },
    {
     "data": {
      "text/plain": [
       "loss for iteration 140 is 5.2957665684232\t\n"
      ]
     },
     "execution_count": 109,
     "metadata": {},
     "output_type": "execute_result"
    },
    {
     "data": {
      "text/plain": [
       "loss for iteration 150 is 4.6015025764399\t\n"
      ]
     },
     "execution_count": 109,
     "metadata": {},
     "output_type": "execute_result"
    },
    {
     "data": {
      "text/plain": [
       "loss for iteration 160 is 4.5535154566219\t\n"
      ]
     },
     "execution_count": 109,
     "metadata": {},
     "output_type": "execute_result"
    },
    {
     "data": {
      "text/plain": [
       "loss for iteration 170 is 5.4523903601831\t\n"
      ]
     },
     "execution_count": 109,
     "metadata": {},
     "output_type": "execute_result"
    },
    {
     "data": {
      "text/plain": [
       "loss for iteration 180 is 4.6599287467713\t\n"
      ]
     },
     "execution_count": 109,
     "metadata": {},
     "output_type": "execute_result"
    },
    {
     "data": {
      "text/plain": [
       "loss for iteration 190 is 5.4713249564167\t\n"
      ]
     },
     "execution_count": 109,
     "metadata": {},
     "output_type": "execute_result"
    },
    {
     "data": {
      "text/plain": [
       "loss for iteration 200 is 6.34291878168\t\n"
      ]
     },
     "execution_count": 109,
     "metadata": {},
     "output_type": "execute_result"
    },
    {
     "data": {
      "text/plain": [
       "loss for iteration 210 is 4.6739351380862\t\n"
      ]
     },
     "execution_count": 109,
     "metadata": {},
     "output_type": "execute_result"
    },
    {
     "data": {
      "text/plain": [
       "loss for iteration 220 is 4.9757074279671\t\n"
      ]
     },
     "execution_count": 109,
     "metadata": {},
     "output_type": "execute_result"
    },
    {
     "data": {
      "text/plain": [
       "loss for iteration 230 is 4.7205208810349\t\n"
      ]
     },
     "execution_count": 109,
     "metadata": {},
     "output_type": "execute_result"
    },
    {
     "data": {
      "text/plain": [
       "loss for iteration 240 is 4.1348408492831\t\n"
      ]
     },
     "execution_count": 109,
     "metadata": {},
     "output_type": "execute_result"
    },
    {
     "data": {
      "text/plain": [
       "loss for iteration 250 is 5.0310679510545\t\n"
      ]
     },
     "execution_count": 109,
     "metadata": {},
     "output_type": "execute_result"
    },
    {
     "data": {
      "text/plain": [
       "loss for iteration 260 is 5.4126491739487\t\n"
      ]
     },
     "execution_count": 109,
     "metadata": {},
     "output_type": "execute_result"
    },
    {
     "data": {
      "text/plain": [
       "loss for iteration 270 is 5.5975666421937\t\n"
      ]
     },
     "execution_count": 109,
     "metadata": {},
     "output_type": "execute_result"
    }
   ],
   "source": [
    "w, dl_dw = h:getParameters()\n",
    "\n",
    "\n",
    "feval = function(w_new)\n",
    "   \n",
    "    bsize= batch\n",
    "    local idx = torch.randperm(X_train:size(1)):sub(1,bsize)\n",
    "\n",
    "    x = torch.Tensor(bsize, X_train:size(2))\n",
    "\n",
    "    \n",
    "    --y = y:reshape(Y_train:size(1), 1)\n",
    "    \n",
    "    y_ = torch.Tensor(bsize, 1)\n",
    "\n",
    "    for i=1,bsize do\n",
    "        x[i] = X_train[idx[i]]\n",
    "        y_[i] = Y_train[idx[i]]\n",
    "    end\n",
    "    \n",
    "    y_ = y_:squeeze()\n",
    "    \n",
    "    local inputs = x\n",
    "    local targets = y_\n",
    "    -- reset gradients (gradients are always accumulated, to accommodate\n",
    "    -- batch methods)\n",
    "    dl_dw:zero()\n",
    "\n",
    "    -- evaluate the loss function and its derivative with respect to x, given a mini batch\n",
    "    local prediction = h:forward(inputs)\n",
    "    local loss_w = mse:forward(prediction, targets)\n",
    "    h:backward(inputs, mse:backward(prediction, targets))\n",
    "    return loss_w, dl_dw\n",
    "            \n",
    "end\n",
    "\n",
    "batch = 32\n",
    "\n",
    "-- cycle on data\n",
    "for i = 1,1000 do\n",
    "    -- train a mini_batch of batchSize in parallel\n",
    "    _, fs = optim.adamax(feval,w)\n",
    "\n",
    "    if i % 10 == 0 then\n",
    "        print('loss for iteration ' .. i  .. ' is ' .. fs[1] )\n",
    "        -- print(sgd_params)\n",
    "    end\n",
    "end"
   ]
  },
  {
   "cell_type": "code",
   "execution_count": 107,
   "metadata": {
    "collapsed": false
   },
   "outputs": [],
   "source": [
    "sum = 0\n",
    "for i = 1,X_valid:size(1) do\n",
    "    a = h:forward(X_valid[i])\n",
    "    b = nn.Index(1):forward{a,q_valid[i]}\n",
    "    distribution = nn.LogSoftMax():forward(b)\n",
    "    answer = distribution[kaggle_valid[i]]\n",
    "    sum = sum + answer\n",
    "end\n",
    "\n",
    "sum = torch.exp(-sum/X_valid:size(1))"
   ]
  },
  {
   "cell_type": "code",
   "execution_count": 108,
   "metadata": {
    "collapsed": false
   },
   "outputs": [
    {
     "data": {
      "text/plain": [
       "6.8822395054492\t\n"
      ]
     },
     "execution_count": 108,
     "metadata": {},
     "output_type": "execute_result"
    }
   ],
   "source": [
    "sum"
   ]
  },
  {
   "cell_type": "code",
   "execution_count": 59,
   "metadata": {
    "collapsed": false
   },
   "outputs": [
    {
     "data": {
      "text/plain": [
       "-5.1122\n",
       "-5.5452\n",
       "-5.7715\n",
       "-5.7438\n",
       "-5.5565\n",
       "-5.7470\n",
       "-5.5318\n",
       "-6.0734\n",
       "-5.5848\n",
       "-5.4496\n",
       "-5.2689\n",
       "-6.0985\n",
       "-5.5387\n",
       "-5.6593\n",
       "-5.8593\n",
       "-5.7449\n",
       "-5.7572\n",
       "-5.9486\n",
       "-5.9687\n",
       "-5.1567\n",
       "-6.1176\n",
       "-5.6929\n",
       "-5.8220\n",
       "-5.9375\n",
       "-5.3624\n",
       "-5.9788\n",
       "-5.6616\n",
       "-5.3910\n",
       "-5.5089\n",
       "-5.7142\n",
       "-5.4658\n",
       "-5.4007\n",
       "-5.6064\n",
       "-6.2314\n",
       "-5.5416\n",
       "-5.6517\n",
       "-5.4876\n",
       "-5.8214\n",
       "-5.7023\n",
       "-5.7191\n",
       "-3.0215\n",
       "-2.8163\n",
       "-5.2906\n",
       "-6.1233\n",
       "-5.4841\n",
       "-5.2421\n",
       "-6.0447\n",
       "-5.7865\n",
       "-5.3768\n",
       "-5.6497\n",
       "[torch.DoubleTensor of size 50]\n",
       "\n"
      ]
     },
     "execution_count": 59,
     "metadata": {},
     "output_type": "execute_result"
    }
   ],
   "source": [
    "nn.Index(1):forward{a,q_valid[1]}"
   ]
  },
  {
   "cell_type": "code",
   "execution_count": 57,
   "metadata": {
    "collapsed": false
   },
   "outputs": [
    {
     "data": {
      "text/plain": [
       "  407\n",
       " 6937\n",
       " 1655\n",
       "  224\n",
       " 1573\n",
       " 6613\n",
       " 8345\n",
       " 8618\n",
       "  297\n",
       " 9494\n",
       " 9085\n",
       " 2261\n",
       " 7107\n",
       " 5195\n",
       " 8009\n",
       " 5554\n",
       " 6273\n",
       "  922\n",
       " 7771\n",
       " 5130\n",
       " 2408\n",
       " 9824\n",
       "  660\n",
       " 8177\n",
       " 5070\n",
       " 9016\n",
       " 5779\n",
       " 1460\n",
       " 4601\n",
       " 1555\n",
       " 4583\n",
       " 8021\n",
       " 5839\n",
       " 5433\n",
       " 2645\n",
       " 5701\n",
       " 5699\n",
       " 8434\n",
       " 4013\n",
       " 7236\n",
       "    5\n",
       "    6\n",
       " 7391\n",
       " 3700\n",
       " 8474\n",
       " 2839\n",
       " 7576\n",
       "  844\n",
       " 6710\n",
       " 4194\n",
       "[torch.LongTensor of size 50]\n",
       "\n"
      ]
     },
     "execution_count": 57,
     "metadata": {},
     "output_type": "execute_result"
    }
   ],
   "source": [
    "torch.LongTensor(q_valid[1])"
   ]
  },
  {
   "cell_type": "code",
   "execution_count": null,
   "metadata": {
    "collapsed": true
   },
   "outputs": [],
   "source": [
    "q_valid"
   ]
  }
 ],
 "metadata": {
  "kernelspec": {
   "display_name": "iTorch",
   "language": "lua",
   "name": "itorch"
  },
  "language_info": {
   "name": "lua",
   "version": "20100"
  }
 },
 "nbformat": 4,
 "nbformat_minor": 0
}
