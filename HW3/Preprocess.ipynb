{
 "cells": [
  {
   "cell_type": "code",
   "execution_count": 1,
   "metadata": {
    "collapsed": true
   },
   "outputs": [],
   "source": [
    "import csv\n",
    "from collections import Counter\n",
    "import collections\n",
    "import numpy as np\n",
    "import operator\n",
    "import h5py\n",
    "import argparse\n",
    "import sys\n",
    "import re\n",
    "import codecs"
   ]
  },
  {
   "cell_type": "code",
   "execution_count": 2,
   "metadata": {
    "collapsed": false
   },
   "outputs": [],
   "source": [
    "FILE_PATHS = {\"full\": (\"data/train.txt\",\n",
    "                      \"data/valid_blanks.txt\",\n",
    "                      \"data/test_blanks.txt\",\n",
    "                      \"data/valid_kaggle.txt\",\n",
    "                      \"data/valid.txt\",\n",
    "                      \"data/words.dict\"),\n",
    "              \n",
    "              \"1000\": (\"data/train.1000.txt\",\n",
    "                      \"data/valid_blanks.txt\",\n",
    "                      \"data/test_blanks.txt\",\n",
    "                      \"data/valid_kaggle.txt\",\n",
    "                      \"data/valid.1000.txt\",\n",
    "                      \"data/words.dict\")}\n",
    "train_path, valid_blanks_path, test_blanks_path, valid_kaggle_path, valid_path, words_path = FILE_PATHS[\"full\"]"
   ]
  },
  {
   "cell_type": "code",
   "execution_count": 3,
   "metadata": {
    "collapsed": false
   },
   "outputs": [],
   "source": [
    "train = list(csv.reader(open(train_path, 'rb'), delimiter=' '))\n",
    "valid = list(csv.reader(open(valid_path, 'rb'), delimiter=' '))\n",
    "valid_blanks = list(csv.reader(open(valid_blanks_path, 'rb'), delimiter=' '))\n",
    "valid_kaggle = np.array((list(csv.reader(open(valid_kaggle_path, 'rb'), delimiter=',')))[1:]).astype(int)\n",
    "valid_kaggle = (valid_kaggle[:,1:]).tolist()\n",
    "valid_kaggle = np.array([(valid_kaggle[i].index(1)+1) for i in range(0,len(valid_kaggle))])\n",
    "test_blanks = list(csv.reader(open(test_blanks_path, 'rb'), delimiter=' '))\n",
    "word_list = list(csv.reader(open(words_path, 'rb'), delimiter='\\t'))\n",
    "V = len(word_list)+1\n",
    "word_dict = {}\n",
    "\n",
    "\n",
    "\n",
    "\n",
    "\n",
    "#input window length here!\n",
    "window_length = 5\n",
    "\n",
    "\n",
    "\n",
    "\n",
    "\n",
    "\n",
    "\n",
    "\n",
    "for word in word_list:\n",
    "    word_dict[word[1]]=int(word[0])\n",
    "for i in range(0,len(valid)):\n",
    "    valid[i] = (['<s>']*(window_length-1)) + valid[i][1:-1] + ['</s>']\n",
    "for i in range(0,len(train)):\n",
    "    train[i] = (['<s>']*(window_length-1)) + train[i][1:-1] + ['</s>']"
   ]
  },
  {
   "cell_type": "code",
   "execution_count": 4,
   "metadata": {
    "collapsed": false
   },
   "outputs": [],
   "source": [
    "def gen_windows(sentences, win_len):\n",
    "    windows = []\n",
    "    outputs = []\n",
    "    for sentence in sentences:\n",
    "       \n",
    "        for i in range(win_len, len(sentence)-1):\n",
    "            window = np.zeros(win_len)\n",
    "\n",
    "            for j in range(0,win_len):          \n",
    "                window[j] = word_dict[sentence[i-win_len+j+1]]\n",
    "            \n",
    "            windows.append(window)\n",
    "            outputs.append(word_dict[sentence[i+1]])\n",
    "    windows = np.array(windows).astype(int)\n",
    "    outputs = np.array(outputs).astype(int)\n",
    "    \n",
    "    return windows, outputs\n",
    "\n",
    "\n",
    "def q_converter(bag):\n",
    "    bag_int = np.zeros(len(bag))\n",
    "    for i in range(0,len(bag_int)):\n",
    "        bag_int[i] = word_dict[bag[i]]\n",
    "    return bag_int.astype(int)\n",
    "\n",
    "def get_last_window(context, win_len):\n",
    "    context = ['<s>']*(win_len)+context\n",
    "    window = np.zeros(win_len)\n",
    "    for i in range(0,win_len):\n",
    "        window[i] = word_dict[context[0-win_len+i]]\n",
    "    return window\n",
    "\n",
    "def prediction_window(blanks, win_len, is_test):\n",
    "    v_input = []\n",
    "    v_q = []\n",
    "    for element in blanks:\n",
    "        if element[0] == 'Q':\n",
    "            v_q.append(q_converter(element[1:]))\n",
    "        elif is_test == 0:\n",
    "            v_input.append(get_last_window(element[1:], win_len))\n",
    "        else:\n",
    "            v_input.append(get_last_window(element[1:-1], win_len))\n",
    "    v_input = np.array(v_input).astype(int)\n",
    "    v_q = np.array(v_q).astype(int)\n",
    "    return v_input, v_q"
   ]
  },
  {
   "cell_type": "code",
   "execution_count": 7,
   "metadata": {
    "collapsed": false
   },
   "outputs": [],
   "source": [
    "valid_input,valid_q = prediction_window(valid_blanks, window_length, 1)\n",
    "test_input,test_q = prediction_window(test_blanks, window_length, 1)\n",
    "train_input, train_output = gen_windows(train, window_length)"
   ]
  },
  {
   "cell_type": "code",
   "execution_count": 6,
   "metadata": {
    "collapsed": false
   },
   "outputs": [],
   "source": [
    "filename = 'data' + '.hdf5'\n",
    "with h5py.File(filename, \"w\") as f:\n",
    "    f['train_input'] = train_input\n",
    "    f['train_output'] = train_output\n",
    "    f['valid_input'] = valid_input\n",
    "    f['valid_q'] = valid_q\n",
    "    f['valid_kaggle'] = valid_kaggle\n",
    "    f['test_input'] = test_input\n",
    "    f['test_q'] = test_q\n",
    "    f['nfeatures'] = np.array([V], dtype=np.int32)\n",
    "    f['nclasses'] = np.array([50], dtype=np.int32)"
   ]
  },
  {
   "cell_type": "code",
   "execution_count": 12,
   "metadata": {
    "collapsed": false
   },
   "outputs": [
    {
     "data": {
      "text/plain": [
       "array([   8,  328, 2517,    7,    1])"
      ]
     },
     "execution_count": 12,
     "metadata": {},
     "output_type": "execute_result"
    }
   ],
   "source": [
    "filename = 'ngram' + '.hdf5'\n",
    "with h5py.File(filename, \"w\") as f:\n",
    "    f['train_input'] = train_input\n",
    "    f['train_output'] = train_output\n",
    "    f['valid_input'] = valid_input\n",
    "    f['valid_q'] = valid_q\n",
    "    f['valid_kaggle'] = valid_kaggle\n",
    "    f['test_input'] = test_input\n",
    "    f['test_q'] = test_q\n",
    "    f['nfeatures'] = np.array([V], dtype=np.int32)\n",
    "    f['nclasses'] = np.array([50], dtype=np.int32)"
   ]
  },
  {
   "cell_type": "code",
   "execution_count": 8,
   "metadata": {
    "collapsed": false
   },
   "outputs": [
    {
     "data": {
      "text/plain": [
       "array([9987, 9978, 9991, ...,   25,    2,    4])"
      ]
     },
     "execution_count": 8,
     "metadata": {},
     "output_type": "execute_result"
    }
   ],
   "source": []
  },
  {
   "cell_type": "code",
   "execution_count": null,
   "metadata": {
    "collapsed": true
   },
   "outputs": [],
   "source": []
  }
 ],
 "metadata": {
  "kernelspec": {
   "display_name": "Python 2",
   "language": "python",
   "name": "python2"
  },
  "language_info": {
   "codemirror_mode": {
    "name": "ipython",
    "version": 2
   },
   "file_extension": ".py",
   "mimetype": "text/x-python",
   "name": "python",
   "nbconvert_exporter": "python",
   "pygments_lexer": "ipython2",
   "version": "2.7.11"
  }
 },
 "nbformat": 4,
 "nbformat_minor": 0
}
