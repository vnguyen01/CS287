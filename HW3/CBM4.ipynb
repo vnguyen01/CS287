{
 "cells": [
  {
   "cell_type": "code",
   "execution_count": 11,
   "metadata": {
    "collapsed": true
   },
   "outputs": [],
   "source": [
    "require('nn')\n",
    "require('hdf5')\n",
    "require('optim')"
   ]
  },
  {
   "cell_type": "code",
   "execution_count": 12,
   "metadata": {
    "collapsed": true
   },
   "outputs": [],
   "source": [
    "f = hdf5.open(\"data.hdf5\", \"r\")\n",
    "X_train = f:read(\"train_input\"):all()\n",
    "Y_train = f:read(\"train_output\"):all()\n",
    "X_valid = f:read(\"valid_input\"):all()\n",
    "q_valid = f:read(\"valid_q\"):all()\n",
    "X_test = f:read(\"test_input\"):all()\n",
    "q_test = f:read(\"test_q\"):all()\n",
    "kaggle_valid = f:read(\"valid_kaggle\"):all()\n",
    "nclasses = f:read('nclasses'):all():long()[1]\n",
    "nfeatures = f:read('nfeatures'):all():long()[1]\n",
    "f:close()\n",
    "\n",
    "nSen = 41931\n",
    "lenSen = 85\n",
    "\n",
    "window_size = X_train:size(2)\n",
    "n_actual = nfeatures"
   ]
  },
  {
   "cell_type": "code",
   "execution_count": 13,
   "metadata": {
    "collapsed": true
   },
   "outputs": [],
   "source": [
    "function idxSen(X, n)\n",
    "    local sen_count = 0\n",
    "    local new_sen_idx = torch.zeros(1, n)\n",
    "    for i=1,X:size(1) do\n",
    "        local row = X[i]\n",
    "        if (row[1] ==row[2] and row[2]==row[3] and row[1]==3) then\n",
    "            sen_count = sen_count + 1\n",
    "            new_sen_idx[1][sen_count] = i \n",
    "        end\n",
    "    end\n",
    "    return new_sen_idx\n",
    "end\n",
    "\n",
    "function senMatrix(X, new_sen_idx, sen_len)\n",
    "    local sen_counter = 2\n",
    "    local i = 1\n",
    "    local c = 0\n",
    "    local sen_matrix = torch.zeros(sen_count, sen_len)\n",
    "    while i < X:size(1) do\n",
    "        if i < new_sen_idx[1][sen_counter] then\n",
    "            for j=1,5 do\n",
    "                c = c + 1\n",
    "                sen_matrix[sen_counter-1][c]= X[i][j]\n",
    "            end\n",
    "            i = i + 5\n",
    "        else\n",
    "            local last_win = new_sen_idx[1][sen_counter]-1\n",
    "            local mid_sen = (2+5-(new_sen_idx[1][sen_counter]-(i-5)))\n",
    "            for j=mid_sen,5 do\n",
    "                c = c + 1\n",
    "                sen_matrix[sen_counter-1][c] = X[last_win][j]\n",
    "            end\n",
    "            c = 0\n",
    "            i = new_sen_idx[1][sen_counter]\n",
    "            sen_counter = sen_counter + 1\n",
    "            if sen_counter > new_sen_idx:size(2) then\n",
    "                break\n",
    "            end\n",
    "        end\n",
    "    end\n",
    "    return sen_matrix\n",
    "end"
   ]
  },
  {
   "cell_type": "code",
   "execution_count": 14,
   "metadata": {
    "collapsed": false
   },
   "outputs": [],
   "source": [
    "sen_idx = idxSen(X_train, nSen)\n",
    "sen_matrix = senMatrix(X_train, sen_idx, lenSen)"
   ]
  },
  {
   "cell_type": "code",
   "execution_count": 15,
   "metadata": {
    "collapsed": false
   },
   "outputs": [
    {
     "data": {
      "text/plain": [
       "Columns 1 to 13\n",
       "    3     3     3    66   279  1924    45    74   197   159  1454  2379     6\n",
       "\n",
       "Columns 14 to 26\n",
       " 3222   717   108  5839  1299     0     0     0     0     0     0     0     0\n",
       "\n",
       "Columns 27 to 39\n",
       "    0     0     0     0     0     0     0     0     0     0     0     0     0\n",
       "\n",
       "Columns 40 to 52\n",
       "    0     0     0     0     0     0     0     0     0     0     0     0     0\n",
       "\n",
       "Columns 53 to 65\n",
       "    0     0     0     0     0     0     0     0     0     0     0     0     0\n",
       "\n",
       "Columns 66 to 78\n",
       "    0     0     0     0     0     0     0     0     0     0     0     0     0\n",
       "\n",
       "Columns 79 to 85\n",
       "    0     0     0     0     0     0     0\n",
       "[torch.DoubleTensor of size 1x85]\n",
       "\n"
      ]
     },
     "execution_count": 15,
     "metadata": {},
     "output_type": "execute_result"
    }
   ],
   "source": [
    "sen_matrix:sub(10,10)"
   ]
  },
  {
   "cell_type": "code",
   "execution_count": null,
   "metadata": {
    "collapsed": true
   },
   "outputs": [],
   "source": []
  }
 ],
 "metadata": {
  "kernelspec": {
   "display_name": "iTorch",
   "language": "lua",
   "name": "itorch"
  },
  "language_info": {
   "name": "lua",
   "version": "20100"
  }
 },
 "nbformat": 4,
 "nbformat_minor": 0
}
