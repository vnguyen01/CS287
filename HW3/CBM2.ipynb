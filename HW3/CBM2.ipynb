{
 "cells": [
  {
   "cell_type": "code",
   "execution_count": 1,
   "metadata": {
    "collapsed": true
   },
   "outputs": [],
   "source": [
    "require('nn')\n",
    "require('hdf5')\n",
    "require('optim')"
   ]
  },
  {
   "cell_type": "code",
   "execution_count": 2,
   "metadata": {
    "collapsed": true
   },
   "outputs": [],
   "source": [
    "f = hdf5.open(\"data.hdf5\", \"r\")\n",
    "X_train = f:read(\"train_input\"):all()\n",
    "Y_train = f:read(\"train_output\"):all()\n",
    "X_valid = f:read(\"valid_input\"):all()\n",
    "q_valid = f:read(\"valid_q\"):all()\n",
    "X_test = f:read(\"test_input\"):all()\n",
    "q_test = f:read(\"test_q\"):all()\n",
    "kaggle_valid = f:read(\"valid_kaggle\"):all()\n",
    "nclasses = f:read('nclasses'):all():long()[1]\n",
    "nfeatures = f:read('nfeatures'):all():long()[1]\n",
    "f:close()\n",
    "\n",
    "window_size = X_train:size(2)\n",
    "n_actual = nfeatures"
   ]
  },
  {
   "cell_type": "code",
   "execution_count": 8,
   "metadata": {
    "collapsed": true
   },
   "outputs": [],
   "source": [
    "function countMatrix(X, Y, C, K)\n",
    "    CM = torch.zeros(C, K)\n",
    "    for i=1,X:size(1) do\n",
    "        for j=1, X:size(2) do\n",
    "            local row = Y[i]\n",
    "            local col = X[i][j]\n",
    "            CM[row][col] = CM[row][col] + 1\n",
    "        end\n",
    "    end\n",
    "    return CM\n",
    "end\n",
    "\n",
    "function smooth(matrix, alpha)\n",
    "    return matrix:add(alpha)\n",
    "end\n",
    "\n",
    "function normalize(matrix)\n",
    "    return matrix:cdiv(torch.expand(matrix:sum(2), matrix:size(1), matrix:size(2)))\n",
    "end\n",
    "\n",
    "function predictDistribution(matrix, X)\n",
    "    jll = torch.ones(X:size(1), matrix:size(2))\n",
    "    for i=1,X:size(1) do\n",
    "        temp = torch.ones(matrix:size(2))\n",
    "        for j=1,X:size(2) do\n",
    "            temp:cmul(matrix:select(2, X[i][j]))\n",
    "        end\n",
    "        jll:sub(i,i):cmul(torch.reshape(temp, 1, temp:size(1)))\n",
    "    end\n",
    "    return jll\n",
    "end"
   ]
  },
  {
   "cell_type": "code",
   "execution_count": 3,
   "metadata": {
    "collapsed": false
   },
   "outputs": [],
   "source": [
    "function valid_perplexity(jll, Y_correct, Y)\n",
    "    jll:cdiv(torch.expand((torch.sum(jll, 2)), Y:size(1), jll:size(2)))\n",
    "    perp = 0\n",
    "    for i=1, Y_correct:size(1) do\n",
    "        idx = Y[i][Y_correct[i]]\n",
    "        perp = (torch.log(jll[i][idx])) + perp\n",
    "    end\n",
    "    \n",
    "    print(torch.exp(perp/Y:size(1) * -1))\n",
    "end\n",
    "\n",
    "function kaggle_perplexity(jll, Y)\n",
    "    local matrix = torch.zeros(Y:size(1), Y:size(2))\n",
    "    for i=1, Y:size(1) do\n",
    "        for j=1, Y:size(2) do\n",
    "            idx = Y[i][j]\n",
    "            matrix[i][j] = (jll[i][idx] * -1)\n",
    "        end\n",
    "    end\n",
    "    return matrix:cdiv(torch.expand((torch.sum(matrix, 2)), Y:size(1), matrix:size(2)))\n",
    "end\n",
    "\n",
    "function write2file(scores, fname)\n",
    "    f = io.open(fname, \"w\")\n",
    "    f:write(\"ID,Class1,CLass2,Class3,Class4,Class5,Class6,Class7,Class8,Class9,Class10,Class11,Class12,CLass13,Class14,Class15,Class16,Class17,Class18,Class19,Class20,Class21,Class22,Class23,CLass24,Class25,Class26,Class27,Class28,Class29,Class30,Class31,Class32,Class33,Class34,CLass35,Class36,Class37,Class38,Class39,Class40,Class41,Class42,Class43,Class44,Class45,CLass46,Class47,Class48,Class49,Class50\\n\")\n",
    "    for i=1,scores:size(1) do\n",
    "        s = tostring(i)\n",
    "        for j=1, scores:size(2) do\n",
    "            s = s .. \",\" .. tostring(scores[i][j])\n",
    "        end\n",
    "        f:write(s .. \"\\n\")\n",
    "    end\n",
    "    f:close()\n",
    "end"
   ]
  },
  {
   "cell_type": "code",
   "execution_count": 4,
   "metadata": {
    "collapsed": true
   },
   "outputs": [],
   "source": [
    "CM = countMatrix(X_train, Y_train, nfeatures, nfeatures)"
   ]
  },
  {
   "cell_type": "code",
   "execution_count": 5,
   "metadata": {
    "collapsed": false
   },
   "outputs": [],
   "source": [
    "CM = smooth(CM, 1)"
   ]
  },
  {
   "cell_type": "code",
   "execution_count": 6,
   "metadata": {
    "collapsed": false
   },
   "outputs": [],
   "source": [
    "CM = normalize(CM)"
   ]
  },
  {
   "cell_type": "code",
   "execution_count": 10,
   "metadata": {
    "collapsed": false
   },
   "outputs": [],
   "source": [
    "jll = predictDistribution(CM, X_valid)"
   ]
  },
  {
   "cell_type": "code",
   "execution_count": 12,
   "metadata": {
    "collapsed": false
   },
   "outputs": [
    {
     "data": {
      "text/plain": [
       "2304.994812898\t\n",
       "\n"
      ]
     },
     "execution_count": 12,
     "metadata": {},
     "output_type": "execute_result"
    }
   ],
   "source": [
    "valid_perplexity(jll, kaggle_valid, q_valid)"
   ]
  },
  {
   "cell_type": "code",
   "execution_count": 77,
   "metadata": {
    "collapsed": true
   },
   "outputs": [],
   "source": [
    "scores = kaggle_perplexity(jll, q_test)\n",
    "write2file(scores, \"pred_4.csv\")"
   ]
  },
  {
   "cell_type": "code",
   "execution_count": 15,
   "metadata": {
    "collapsed": false
   },
   "outputs": [],
   "source": [
    "norm_jll = jll:cdiv(torch.expand((torch.sum(jll, 2)), jll:size(1), jll:size(2)))"
   ]
  },
  {
   "cell_type": "code",
   "execution_count": 17,
   "metadata": {
    "collapsed": false
   },
   "outputs": [
    {
     "data": {
      "text/plain": [
       "1\t\n"
      ]
     },
     "execution_count": 17,
     "metadata": {},
     "output_type": "execute_result"
    }
   ],
   "source": []
  },
  {
   "cell_type": "code",
   "execution_count": null,
   "metadata": {
    "collapsed": true
   },
   "outputs": [],
   "source": []
  }
 ],
 "metadata": {
  "kernelspec": {
   "display_name": "iTorch",
   "language": "lua",
   "name": "itorch"
  },
  "language_info": {
   "name": "lua",
   "version": "20100"
  }
 },
 "nbformat": 4,
 "nbformat_minor": 0
}
