{
 "cells": [
  {
   "cell_type": "code",
   "execution_count": 46,
   "metadata": {
    "collapsed": true
   },
   "outputs": [],
   "source": [
    "require('nn')\n",
    "require('hdf5')\n",
    "require('optim')"
   ]
  },
  {
   "cell_type": "code",
   "execution_count": 47,
   "metadata": {
    "collapsed": true
   },
   "outputs": [],
   "source": [
    "f = hdf5.open(\"data.hdf5\", \"r\")\n",
    "X_train = f:read(\"train_input\"):all()\n",
    "Y_train = f:read(\"train_output\"):all()\n",
    "X_valid = f:read(\"valid_input\"):all()\n",
    "q_valid = f:read(\"valid_q\"):all()\n",
    "X_test = f:read(\"test_input\"):all()\n",
    "q_test = f:read(\"test_q\"):all()\n",
    "kaggle_valid = f:read(\"valid_kaggle\"):all()\n",
    "nclasses = f:read('nclasses'):all():long()[1]\n",
    "nfeatures = f:read('nfeatures'):all():long()[1]\n",
    "f:close()\n",
    "\n",
    "window_size = X_train:size(2)\n",
    "n_actual = nfeatures"
   ]
  },
  {
   "cell_type": "code",
   "execution_count": 50,
   "metadata": {
    "collapsed": true
   },
   "outputs": [],
   "source": [
    "function bigramCount(X, K)\n",
    "    local countMatrix = torch.zeros(K, K)\n",
    "    for i=1,X:size(1) do\n",
    "        for j=2,X:size(2) do\n",
    "            local prev_word = X[i][j-1]\n",
    "            local curr_word = X[i][j]\n",
    "            countMatrix[prev_word][curr_word] = countMatrix[prev_word][curr_word] + 1\n",
    "        end\n",
    "    end\n",
    "    return CM\n",
    "end\n",
    "\n",
    "function unigramCount(X, Y, K)\n",
    "    local countVector = torch.zeros(1, K)\n",
    "    for i=1,X:size(1) do\n",
    "        for j=2,X:size(2) do\n",
    "            local idx = X[i][j]\n",
    "            countVector[1][idx] = countVector[1][idx] + 1\n",
    "        end\n",
    "    end\n",
    "    return countVector\n",
    "end"
   ]
  },
  {
   "cell_type": "code",
   "execution_count": 40,
   "metadata": {
    "collapsed": false
   },
   "outputs": [],
   "source": [
    "function additive(matrix, alpha)\n",
    "    return matrix:add(alpha)\n",
    "end\n",
    "\n",
    "function normalize(CV, CM)\n",
    "    return CM:cdiv(torch.expand(CV:t(), CM:size(1), CM:size(2)))\n",
    "end\n",
    "\n",
    "function test(bcm, valid, kaggle, q)\n",
    "    p = 0\n",
    "    for i=1,valid:size(1) do\n",
    "        idx = q[i][kaggle[i]]\n",
    "        prev = valid[i][5]\n",
    "        p = torch.log(bcm[prev][idx]) + p\n",
    "    end\n",
    "    return torch.exp(-p/X_valid:size(1))\n",
    "end\n",
    "\n",
    "function kaggle(bcm, test, q)\n",
    "    scores = torch.zeros(q:size(1), 50)\n",
    "    for i=1,test:size(1) do\n",
    "        prev = test[i][5]\n",
    "        for j=1,50 do\n",
    "            w = q[i][j]\n",
    "            scores[i][j] = bcm[prev][w]\n",
    "        end\n",
    "    end\n",
    "    return scores:cdiv(torch.expand((torch.sum(scores, 2)), scores:size(1), scores:size(2)))\n",
    "end\n",
    "\n",
    "function write2file(scores, fname)\n",
    "    f = io.open(fname, \"w\")\n",
    "    f:write(\"ID,Class1,CLass2,Class3,Class4,Class5,Class6,Class7,Class8,Class9,Class10,Class11,Class12,CLass13,Class14,Class15,Class16,Class17,Class18,Class19,Class20,Class21,Class22,Class23,CLass24,Class25,Class26,Class27,Class28,Class29,Class30,Class31,Class32,Class33,Class34,CLass35,Class36,Class37,Class38,Class39,Class40,Class41,Class42,Class43,Class44,Class45,CLass46,Class47,Class48,Class49,Class50\\n\")\n",
    "    for i=1,scores:size(1) do\n",
    "        s = tostring(i)\n",
    "        for j=1, scores:size(2) do\n",
    "            s = s .. \",\" .. tostring(scores[i][j])\n",
    "        end\n",
    "        f:write(s .. \"\\n\")\n",
    "    end\n",
    "    f:close()\n",
    "end"
   ]
  },
  {
   "cell_type": "code",
   "execution_count": 51,
   "metadata": {
    "collapsed": false
   },
   "outputs": [],
   "source": [
    "CM = bigramCount(X_train, nfeatures)\n",
    "CM = additive(CM, 1)"
   ]
  },
  {
   "cell_type": "code",
   "execution_count": null,
   "metadata": {
    "collapsed": false
   },
   "outputs": [],
   "source": [
    "CV = unigramCount(X_train, Y_train, nfeatures)\n",
    "CV = additive(CV, 1)"
   ]
  },
  {
   "cell_type": "code",
   "execution_count": null,
   "metadata": {
    "collapsed": false
   },
   "outputs": [],
   "source": [
    "BCM = normalize(CV, CM)"
   ]
  },
  {
   "cell_type": "code",
   "execution_count": null,
   "metadata": {
    "collapsed": false
   },
   "outputs": [],
   "source": [
    "JLL = distribution(BCM, X_valid)"
   ]
  },
  {
   "cell_type": "code",
   "execution_count": 55,
   "metadata": {
    "collapsed": false
   },
   "outputs": [
    {
     "data": {
      "text/plain": [
       "-33413.805373877\t\n",
       "20233.112593302\t\n",
       "\n"
      ]
     },
     "execution_count": 55,
     "metadata": {},
     "output_type": "execute_result"
    }
   ],
   "source": [
    "valid_perplexity(JLL, kaggle_valid, q_valid)"
   ]
  },
  {
   "cell_type": "code",
   "execution_count": 41,
   "metadata": {
    "collapsed": false
   },
   "outputs": [],
   "source": [
    "scores = kaggle(BCM, X_test, q_test)"
   ]
  },
  {
   "cell_type": "code",
   "execution_count": 42,
   "metadata": {
    "collapsed": false
   },
   "outputs": [
    {
     "data": {
      "text/plain": [
       "\n"
      ]
     },
     "execution_count": 42,
     "metadata": {},
     "output_type": "execute_result"
    }
   ],
   "source": [
    "write2file(scores, \"asdf.csv\")"
   ]
  },
  {
   "cell_type": "code",
   "execution_count": 37,
   "metadata": {
    "collapsed": false
   },
   "outputs": [
    {
     "data": {
      "text/plain": [
       "133.14713426227\t\n"
      ]
     },
     "execution_count": 37,
     "metadata": {},
     "output_type": "execute_result"
    }
   ],
   "source": [
    "test(BCM, X_valid, kaggle_valid, q_valid)"
   ]
  },
  {
   "cell_type": "code",
   "execution_count": null,
   "metadata": {
    "collapsed": true
   },
   "outputs": [],
   "source": []
  }
 ],
 "metadata": {
  "kernelspec": {
   "display_name": "iTorch",
   "language": "lua",
   "name": "itorch"
  },
  "language_info": {
   "name": "lua",
   "version": "20100"
  }
 },
 "nbformat": 4,
 "nbformat_minor": 0
}
