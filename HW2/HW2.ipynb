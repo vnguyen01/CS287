{
 "cells": [
  {
   "cell_type": "code",
   "execution_count": 97,
   "metadata": {
    "collapsed": true
   },
   "outputs": [],
   "source": [
    "require \"hdf5\"\n",
    "require \"optim\"\n",
    "require \"nn\""
   ]
  },
  {
   "cell_type": "code",
   "execution_count": null,
   "metadata": {
    "collapsed": true
   },
   "outputs": [],
   "source": [
    "--read in files\n",
    "f = hdf5.open(\"data.hdf5\", \"r\")\n",
    "nclasses = f:read(\"nclasses\"):all():long()[1]\n",
    "nfeatures = f:read(\"nfeatures\"):all():long()[1]\n",
    "\n",
    "X_train = f:read(\"train_input\"):all()\n",
    "Y_train = f:read(\"train_output\"):all()\n",
    "X_valid = f:read(\"valid_input\"):all()\n",
    "Y_valid = f:read(\"valid_output\"):all()\n",
    "X_test = f:read(\"test_input\"):all()"
   ]
  },
  {
   "cell_type": "code",
   "execution_count": 101,
   "metadata": {
    "collapsed": false
   },
   "outputs": [],
   "source": [
    "X_train = X_train:sub(1, X_train:size(1), 1, 5)\n",
    "X_valid = X_valid:sub(1,X_valid:size(1), 1, 5)\n",
    "\n",
    "--X_train = torch.cat(X_train, X_valid, 1)\n",
    "Y_train = torch.cat(Y_train, Y_valid, 1)\n",
    "\n",
    "X_test = X_test:sub(1, X_test:size(1), 1, 5)\n",
    "\n",
    "function changeIndex(X)\n",
    "    for i=1,5 do\n",
    "        X:select(2,i):add(1+(i-1)*(37889+2))\n",
    "    end\n",
    "    return X\n",
    "end\n",
    "\n",
    "X_test = changeIndex(X_test)"
   ]
  },
  {
   "cell_type": "code",
   "execution_count": 102,
   "metadata": {
    "collapsed": true
   },
   "outputs": [],
   "source": [
    "function onehotencode(classes, target)\n",
    "    onehot = torch.zeros(target:size(1), classes)\n",
    "    for i=1,target:size(1) do\n",
    "        onehot[i][target[i]] = 1\n",
    "    end\n",
    "    return onehot\n",
    "end"
   ]
  },
  {
   "cell_type": "code",
   "execution_count": 103,
   "metadata": {
    "collapsed": false
   },
   "outputs": [],
   "source": [
    "--for now let us disregard additional capitalization features\n",
    "Y_train_hot = onehotencode(nclasses, Y_train)\n",
    "--Y_valid_hot = onehotencode(nclasses, Y_valid)"
   ]
  },
  {
   "cell_type": "code",
   "execution_count": 104,
   "metadata": {
    "collapsed": true
   },
   "outputs": [],
   "source": [
    "function NB(Y,fc, alpha)\n",
    "    --calculate log posterior\n",
    "    local cc = torch.zeros(1, Y:size(2))\n",
    "    --local fc = torch.zeros(Y:size(2), X:size(2))\n",
    "    local clp = torch.zeros(1, Y:size(2))\n",
    "\n",
    "    --collapse column wise so Nx1\n",
    "    cc:add(Y:sum(1))\n",
    "    \n",
    "    --THIS IS ALPHA\n",
    "    --smoothing\n",
    "    fc:add(alpha)\n",
    "    local scc = fc:sum(2)\n",
    "    \n",
    "    fc:log()\n",
    "    scc:log()\n",
    "    \n",
    "    scc:expand(scc, scc:size(1), fc:size(2))\n",
    "    \n",
    "    --calculate log prior\n",
    "    --collapse down so 1x1\n",
    "    local total = cc:sum(2)\n",
    "    print(total)\n",
    "    print(cc:size())\n",
    "    cc:div(total[1][1])\n",
    "    cc:log()\n",
    "    --clp:csub(math.log(Y:size(2)))\n",
    "    \n",
    "    return fc:csub(scc), cc\n",
    "end\n",
    "\n",
    "function predict(X, W, b)\n",
    "  local z = torch.zeros(X:size(1), W:size(1))\n",
    "  for i = 1, X:size(1) do\n",
    "    z[i] = W:index(2, X[i]:long()):sum(2)\n",
    "    --z[i]:add(b)\n",
    "  end\n",
    "  return z\n",
    "end\n",
    "\n",
    "function predict_score()\n",
    "    local c = 0\n",
    "    for i=1,indices_pred:size(1) do\n",
    "        if indices_pred[i][1] == indices_true[i][1] then\n",
    "            c = c + 1\n",
    "        end\n",
    "    end\n",
    "    return c/Y_valid:size()[1]\n",
    "end\n",
    "\n",
    "function write2file(fname, pred) \n",
    "    f = io.open(fname, \"w\")\n",
    "    f:write(\"ID,Class\\n\")\n",
    "    for i=1,pred:size(1) do\n",
    "        f:write(tostring(i) .. \",\" .. tostring(pred[i][1]) .. \"\\n\")\n",
    "    end\n",
    "    f:close()\n",
    "end\n",
    " "
   ]
  },
  {
   "cell_type": "code",
   "execution_count": 105,
   "metadata": {
    "collapsed": false
   },
   "outputs": [
    {
     "data": {
      "text/plain": [
       " 1044474\n",
       "[torch.DoubleTensor of size 1x1]\n",
       "\n",
       "  1\n",
       " 45\n",
       "[torch.LongStorage of size 2]\n",
       "\n"
      ]
     },
     "execution_count": 105,
     "metadata": {},
     "output_type": "execute_result"
    }
   ],
   "source": [
    "function lookupweights(X, Y)\n",
    "    W = torch.zeros(45, (37889+2)*5)\n",
    "    for i=1,X:size(1) do\n",
    "        for j=1,5 do\n",
    "            local row = Y[i]\n",
    "            local column = 1+X[i][j]+(j-1)*(37889+2)\n",
    "            W[row][column] = W[row][column] + 1\n",
    "        end\n",
    "    end\n",
    "    return W\n",
    "end\n",
    "\n",
    "alpha = 1\n",
    "W = lookupweights(X_train, Y_train)\n",
    "W, b = NB(Y_train_hot, W, alpha)"
   ]
  },
  {
   "cell_type": "code",
   "execution_count": 106,
   "metadata": {
    "collapsed": false
   },
   "outputs": [],
   "source": [
    "predictions = predict(X_test, W, b)\n",
    "_, indices_pred = torch.max(predictions, 2)\n",
    "--_, indices_true = torch.max(Y_valid_hot, 2)\n",
    "--score = predict_score()\n",
    "--print(score)"
   ]
  },
  {
   "cell_type": "code",
   "execution_count": 107,
   "metadata": {
    "collapsed": false
   },
   "outputs": [
    {
     "data": {
      "text/plain": [
       "\n"
      ]
     },
     "execution_count": 107,
     "metadata": {},
     "output_type": "execute_result"
    }
   ],
   "source": [
    "write2file(\"NB2.csv\", indices_pred)"
   ]
  },
  {
   "cell_type": "code",
   "execution_count": 94,
   "metadata": {
    "collapsed": true
   },
   "outputs": [],
   "source": [
    "X = torch.Tensor{{1,2}}"
   ]
  },
  {
   "cell_type": "code",
   "execution_count": 95,
   "metadata": {
    "collapsed": true
   },
   "outputs": [],
   "source": [
    "X2 = torch.Tensor{{1,2}}"
   ]
  },
  {
   "cell_type": "code",
   "execution_count": 96,
   "metadata": {
    "collapsed": false
   },
   "outputs": [
    {
     "data": {
      "text/plain": [
       " 1  2\n",
       " 1  2\n",
       "[torch.DoubleTensor of size 2x2]\n",
       "\n"
      ]
     },
     "execution_count": 96,
     "metadata": {},
     "output_type": "execute_result"
    }
   ],
   "source": [
    "torch.cat(X, X2, 1)"
   ]
  },
  {
   "cell_type": "code",
   "execution_count": null,
   "metadata": {
    "collapsed": true
   },
   "outputs": [],
   "source": []
  }
 ],
 "metadata": {
  "kernelspec": {
   "display_name": "iTorch",
   "language": "lua",
   "name": "itorch"
  },
  "language_info": {
   "name": "lua",
   "version": "20100"
  }
 },
 "nbformat": 4,
 "nbformat_minor": 0
}
