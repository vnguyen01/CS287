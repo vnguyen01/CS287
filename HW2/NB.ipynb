{
 "cells": [
  {
   "cell_type": "code",
   "execution_count": 1,
   "metadata": {
    "collapsed": true
   },
   "outputs": [],
   "source": [
    "require \"hdf5\"\n",
    "require \"optim\"\n",
    "require \"nn\""
   ]
  },
  {
   "cell_type": "code",
   "execution_count": 2,
   "metadata": {
    "collapsed": false
   },
   "outputs": [],
   "source": [
    "function capitalization(caps)\n",
    "    if caps == false then\n",
    "        X_train = X_train:sub(1, X_train:size(1), 1, X_train:size(2)/2)\n",
    "        X_valid = X_valid:sub(1,X_valid:size(1), 1, X_valid:size(2)/2)\n",
    "        X_test = X_test:sub(1, X_test:size(1), 1, X_test:size(2)/2)\n",
    "    end\n",
    "    return X_train, X_valid, X_test\n",
    "end\n",
    "\n",
    "--ensures that the indexes are changed to match window size\n",
    "function changeIndex(X, caps, window_size)\n",
    "    if caps then\n",
    "        for i=1,X:size(2)/2 do\n",
    "            X:select(2,i):add(1+(i-1)*N)\n",
    "        end\n",
    "    else\n",
    "        for i=1,X:size(2) do\n",
    "            X:select(2,i):add(1+(i-1)*N)\n",
    "        end\n",
    "    end\n",
    "    if caps then\n",
    "        for i=(X:size(2)/2 + 1),X:size(2) do\n",
    "            local idx = (i-(X:size(2)/2))+(i-(X:size(2)/2 + 1))\n",
    "            X:select(2,i):add(N*window_size + idx)\n",
    "        end\n",
    "    end\n",
    "    return X\n",
    "end\n",
    "\n",
    "function onehotencode(classes, target)\n",
    "    onehot = torch.zeros(target:size(1), classes)\n",
    "    for i=1,target:size(1) do\n",
    "        onehot[i][target[i]] = 1\n",
    "    end\n",
    "    return onehot\n",
    "end\n",
    "\n",
    "function lookupweights(X, Y, caps, window_size)\n",
    "    local add_col = 0\n",
    "    if caps==true then\n",
    "        add_col = window_size*2\n",
    "    end\n",
    "    W = torch.zeros(45, window_size*(N)+add_col)\n",
    "    for i=1,X:size(1) do\n",
    "        for j=1,X:size(2) do\n",
    "            local row = Y[i]\n",
    "            local column = X[i][j]\n",
    "            W[row][column] = W[row][column] + 1\n",
    "        end\n",
    "    end\n",
    "    return W\n",
    "end"
   ]
  },
  {
   "cell_type": "code",
   "execution_count": 3,
   "metadata": {
    "collapsed": false
   },
   "outputs": [],
   "source": [
    "function NB(Y,fc, alpha)\n",
    "    --calculate log posterior\n",
    "    local cc = torch.zeros(1, Y:size(2))\n",
    "    --local fc = torch.zeros(Y:size(2), X:size(2))\n",
    "    local clp = torch.zeros(1, Y:size(2))\n",
    "\n",
    "    --collapse column wise so Nx1\n",
    "    cc:add(Y:sum(1))\n",
    "    --THIS IS ALPHA\n",
    "    --smoothing\n",
    "    fc:add(alpha)\n",
    "    local scc = fc:sum(2)\n",
    "    \n",
    "    fc:log()\n",
    "    scc:log()\n",
    "    \n",
    "    scc:expand(scc, scc:size(1), fc:size(2))\n",
    "    \n",
    "    --calculate log prior\n",
    "    --collapse down so 1x1\n",
    "    local total = cc:sum(2)\n",
    "    cc:div(total[1][1])\n",
    "    cc:log()\n",
    "    --clp:csub(math.log(Y:size(2)))\n",
    "    \n",
    "    return fc:csub(scc), cc\n",
    "end\n",
    "\n",
    "function predict(X, W, b)\n",
    "  local jll = torch.zeros(X:size(1), W:size(1))\n",
    "  for i = 1, X:size(1) do\n",
    "    jll[i] = W:index(2, X[i]):sum(2)\n",
    "    --right now prior is messed up\n",
    "    jll[i]:add(b)\n",
    "  end\n",
    "  return jll\n",
    "end\n",
    "\n",
    "function predict_score()\n",
    "    local c = 0\n",
    "    for i=1,indices_pred:size(1) do\n",
    "        if indices_pred[i][1] == indices_true[i][1] then\n",
    "            c = c + 1\n",
    "        end\n",
    "    end\n",
    "    return c/Y_valid:size()[1]\n",
    "end\n",
    "\n",
    "function write2file(fname, pred) \n",
    "    f = io.open(fname, \"w\")\n",
    "    f:write(\"ID,Class\\n\")\n",
    "    for i=1,pred:size(1) do\n",
    "        f:write(tostring(i) .. \",\" .. tostring(pred[i][1]) .. \"\\n\")\n",
    "    end\n",
    "    f:close()\n",
    "end"
   ]
  },
  {
   "cell_type": "code",
   "execution_count": 15,
   "metadata": {
    "collapsed": false
   },
   "outputs": [
    {
     "data": {
      "text/plain": [
       "Time elapsed: 35.46667599678 seconds\t\n"
      ]
     },
     "execution_count": 15,
     "metadata": {},
     "output_type": "execute_result"
    }
   ],
   "source": [
    "--read in files\n",
    "f = hdf5.open(\"data.hdf5\", \"r\")\n",
    "nclasses = f:read(\"nclasses\"):all():long()[1]\n",
    "nfeatures = f:read(\"nfeatures\"):all():long()[1]\n",
    "\n",
    "X_train = f:read(\"train_input\"):all()\n",
    "Y_train = f:read(\"train_output\"):all()\n",
    "X_valid = f:read(\"valid_input\"):all()\n",
    "Y_valid = f:read(\"valid_output\"):all()\n",
    "X_test = f:read(\"test_input\"):all()\n",
    "\n",
    "--total vocab plus padding\n",
    "N = 37889+2\n",
    "window_size = X_train:size(2)/2\n",
    "\n",
    "caps = true\n",
    "\n",
    "X_train, X_valid, X_test = capitalization(caps)\n",
    "\n",
    "X_train = changeIndex(X_train, caps, window_size)\n",
    "X_valid = changeIndex(X_valid, caps,window_size)\n",
    "X_test = changeIndex(X_test, caps, window_size)\n",
    "\n",
    "--We can concatenate when training on both train and valid\n",
    "X_train = torch.cat(X_train, X_valid, 1)\n",
    "Y_train = torch.cat(Y_train, Y_valid, 1)\n",
    "\n",
    "--one hot encodings\n",
    "Y_train_hot = onehotencode(nclasses, Y_train)\n",
    "--Y_valid_hot = onehotencode(nclasses, Y_valid)\n",
    "\n",
    "timer = torch.Timer()\n",
    "\n",
    "W = lookupweights(X_train, Y_train, caps, window_size)\n",
    "\n",
    "alpha = 0.055\n",
    "W, b = NB(Y_train_hot, W, alpha)\n",
    "\n",
    "predictions = predict(X_test, W, b)\n",
    "_, indices_pred = torch.max(predictions, 2)\n",
    "--_, indices_true = torch.max(Y_valid_hot, 2)\n",
    "--score = predict_score()\n",
    "--print(score)\n",
    "\n",
    "print('Time elapsed: ' .. timer:time().real .. ' seconds')\n",
    "write2file(\"NB3.csv\", indices_pred)"
   ]
  },
  {
   "cell_type": "code",
   "execution_count": null,
   "metadata": {
    "collapsed": true
   },
   "outputs": [],
   "source": []
  }
 ],
 "metadata": {
  "kernelspec": {
   "display_name": "iTorch",
   "language": "lua",
   "name": "itorch"
  },
  "language_info": {
   "name": "lua",
   "version": "20100"
  }
 },
 "nbformat": 4,
 "nbformat_minor": 0
}
