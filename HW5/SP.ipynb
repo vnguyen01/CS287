{
 "cells": [
  {
   "cell_type": "code",
   "execution_count": 1,
   "metadata": {
    "collapsed": true
   },
   "outputs": [],
   "source": [
    "require 'hdf5'\n",
    "require 'nn'\n",
    "require 'optim'"
   ]
  },
  {
   "cell_type": "code",
   "execution_count": 2,
   "metadata": {
    "collapsed": true
   },
   "outputs": [],
   "source": [
    "f = hdf5.open(\"data.hdf5\", \"r\")\n",
    "\n",
    "X_train = f:read(\"X_train\"):all()\n",
    "Y_train = f:read(\"Y_train\"):all()\n",
    "X_valid = f:read(\"X_valid\"):all()\n",
    "Y_valid = f:read(\"Y_valid\"):all()\n",
    "X_test = f:read(\"X_test\"):all()\n",
    "nwords = f:read(\"nwords\"):all()[1]\n",
    "nclasses = f:read(\"nclasses\"):all()[1]\n",
    "\n",
    "--sentences\n",
    "X_valid_sen = f:read(\"X_valid_sen\"):all()\n",
    "X_test_sen = f:read(\"X_test_sen\"):all()\n",
    "\n",
    "--MEMM\n",
    "X_train_MEMM = f:read(\"X_train_MEMM\"):all()\n",
    "X_valid_MEMM = f:read(\"X_valid_MEMM\"):all()\n",
    "X_valid_sen_MEMM = f:read(\"X_valid_sen_MEMM\"):all()\n",
    "nfeaturesMEMM = f:read(\"nfeaturesMEMM\"):all()[1]\n",
    "\n",
    "C = nclasses"
   ]
  },
  {
   "cell_type": "code",
   "execution_count": 3,
   "metadata": {
    "collapsed": true
   },
   "outputs": [],
   "source": [
    "function predict(input, index, network)\n",
    "    local logscore = torch.log((h:forward(input:sub(index,index))))\n",
    "    return logscore:t()\n",
    "end\n",
    "\n",
    "function viterbi(observations, logscore)\n",
    "    local initial = torch.zeros(nclasses,1) + .00001\n",
    "    initial[8] = 1.0\n",
    "    initial = initial / torch.sum(initial)\n",
    "    local n = observations:size(1)\n",
    "    local max_table = torch.Tensor(n, C)\n",
    "    local backpointer_table = torch.Tensor(n, C)\n",
    "    -- first timestep\n",
    "    -- the initial most likely paths are the initial state distribution\n",
    "    -- NOTE: another unnecessary Tensor allocation here\n",
    "    local maxes, backpointers = (initial + predict(observations, 1, logscore)):max(2)\n",
    "    max_table[1] = maxes\n",
    "    -- remaining timesteps (\"forwarding\" the maxes)\n",
    "    for i=2,n do\n",
    "        -- precompute edge scores\n",
    "        pred  = (predict(observations, i, logscore)):expand(C,C)\n",
    "        scores = pred + maxes:view(1,C):expand(C,C)--pred + maxes:view(1, C):expand(C, C)\n",
    "        -- compute new maxes (NOTE: another unnecessary Tensor allocation here)\n",
    "        maxes, backpointers = scores:max(2)\n",
    "        -- record\n",
    "        max_table[i] = maxes\n",
    "        backpointer_table[i] = backpointers\n",
    "        end\n",
    "    -- follow backpointers to recover max path\n",
    "    local classes = torch.Tensor(n)\n",
    "    maxes, classes[n] = maxes:max(1)\n",
    "    for i=n,2,-1 do\n",
    "        classes[i-1] = backpointer_table[{i, classes[i]}]\n",
    "    end   \n",
    "    return classes:sub(1,-1)\n",
    "end\n",
    "\n",
    "function predict_tags(X)\n",
    "    local predictions = torch.zeros(X:size(1), X:size(2))\n",
    "    for i=1,X:size(1) do\n",
    "        local sen = (X[i]:sub(1,torch.nonzero(X[{{i,i},{},{1,1}}]):size(1))):squeeze()\n",
    "        local p = viterbi(sen, predict)\n",
    "        predictions[{{i,i},{1,p:size(1)}}] = p\n",
    "    end\n",
    "    return predictions\n",
    "end\n",
    "\n",
    "function predict_fscore(p_tags, y_tags)\n",
    "    local rel_retrived = {[1]=0,[2]=0,[3]=0,[4]=0,[5]=0}--,[6]=0,[7]=0}\n",
    "    local rel_notretrived = {[1]=0,[2]=0,[3]=0,[4]=0,[5]=0}--,[6]=0,[7]=0}\n",
    "    local irrel_retrived = {[1]=0,[2]=0,[3]=0,[4]=0,[5]=0}--,[6]=0,[7]=0}\n",
    "    for i=1,p_tags:size(1) do\n",
    "        for j=1,p_tags:size(2) do\n",
    "            for tag=1,5 do        \n",
    "                if y_tags[i][j] == tag then\n",
    "                    rel_notretrived[tag] = rel_notretrived[tag] + 1\n",
    "                    if p_tags[i][j] == tag then\n",
    "                        rel_retrived[tag] = rel_retrived[tag] + 1\n",
    "                    else\n",
    "                        irrel_retrived[tag] = irrel_retrived[tag] + 1\n",
    "                    end\n",
    "                end\n",
    "            end\n",
    "        end\n",
    "    end\n",
    "    local recall = 0\n",
    "    local precis = 0\n",
    "    for i=1,5 do\n",
    "        local r = (rel_retrived[i]/(rel_retrived[i]+rel_notretrived[i]))\n",
    "        local p = (rel_retrived[i]/(rel_retrived[i]+irrel_retrived[i]))\n",
    "        print(i, p, r, 2*p*r/(p+r))\n",
    "        recall = recall + r\n",
    "        precis = precis + p\n",
    "    end\n",
    "    return recall/5,precis/5\n",
    "end"
   ]
  },
  {
   "cell_type": "code",
   "execution_count": 4,
   "metadata": {
    "collapsed": true
   },
   "outputs": [],
   "source": [
    "function process(inputs, numwords)\n",
    "    processed = inputs:clone()\n",
    "    for i = 1, inputs:size(1) do\n",
    "        processed[i][2] = inputs[i][2] + numwords\n",
    "    end\n",
    "    return processed\n",
    "end\n",
    "\n",
    "function feval(w_new)\n",
    "    bsize= batch\n",
    "    local idx = torch.randperm(X_:size(1)):sub(1,bsize)\n",
    "    local x = torch.Tensor(bsize, X_:size(2))\n",
    "    local y_ = torch.Tensor(bsize, 1)   \n",
    "    for i=1,bsize do\n",
    "        x[i] = X_[idx[i]]\n",
    "        \n",
    "        y_[i] = y[idx[i]]\n",
    "    end   \n",
    "    y_ = y_:squeeze()\n",
    "    local inputs = x\n",
    "    local targets = y_\n",
    "    -- reset gradients (gradients are always accumulated, to accommodate\n",
    "    -- batch methods)\n",
    "    dl_dw:zero()\n",
    "    -- evaluate the loss function and its derivative with respect to x, given a mini batch\n",
    "    local prediction = h:forward(inputs)\n",
    "    local loss_w = mse:forward(prediction, targets)\n",
    "    h:backward(inputs, mse:backward(prediction, targets))   \n",
    "    return loss_w, dl_dw\n",
    "end"
   ]
  },
  {
   "cell_type": "code",
   "execution_count": 10,
   "metadata": {
    "collapsed": false
   },
   "outputs": [],
   "source": [
    "for i = 1,X_valid_sen_MEMM:size(1) do\n",
    "    X_valid_sen_MEMM[i] = process(X_valid_sen_MEMM[i], nwords)\n",
    "end\n",
    "    \n",
    "X_ = process(X_train_MEMM, nwords)\n",
    "y = Y_train"
   ]
  },
  {
   "cell_type": "code",
   "execution_count": 14,
   "metadata": {
    "collapsed": true
   },
   "outputs": [],
   "source": [
    "addB = nn.Add(nclasses)\n",
    "lookup = nn.LookupTable(nwords+nclasses,nclasses)\n",
    "sum = nn.Sum(2)\n",
    "h = nn.Sequential()\n",
    "h:add(lookup)\n",
    "h:add(sum)\n",
    "h:add(addB)\n",
    "mse = nn.CrossEntropyCriterion()\n",
    "\n",
    "w, dl_dw = h:getParameters()"
   ]
  },
  {
   "cell_type": "code",
   "execution_count": null,
   "metadata": {
    "collapsed": false
   },
   "outputs": [
    {
     "data": {
      "text/plain": [
       "loss for iteration 100 is 2.4997883162442\t\n"
      ]
     },
     "execution_count": 15,
     "metadata": {},
     "output_type": "execute_result"
    },
    {
     "data": {
      "text/plain": [
       "loss for iteration 200 is 2.096630629141\t\n"
      ]
     },
     "execution_count": 15,
     "metadata": {},
     "output_type": "execute_result"
    },
    {
     "data": {
      "text/plain": [
       "loss for iteration 300 is 1.726646481544\t\n"
      ]
     },
     "execution_count": 15,
     "metadata": {},
     "output_type": "execute_result"
    },
    {
     "data": {
      "text/plain": [
       "loss for iteration 400 is 1.5843906995776\t\n"
      ]
     },
     "execution_count": 15,
     "metadata": {},
     "output_type": "execute_result"
    },
    {
     "data": {
      "text/plain": [
       "loss for iteration 500 is 1.1844293049812\t\n"
      ]
     },
     "execution_count": 15,
     "metadata": {},
     "output_type": "execute_result"
    },
    {
     "data": {
      "text/plain": [
       "loss for iteration 600 is 1.0387152345598\t\n"
      ]
     },
     "execution_count": 15,
     "metadata": {},
     "output_type": "execute_result"
    },
    {
     "data": {
      "text/plain": [
       "loss for iteration 700 is 0.95646259840868\t\n"
      ]
     },
     "execution_count": 15,
     "metadata": {},
     "output_type": "execute_result"
    }
   ],
   "source": [
    "batch = 1000\n",
    "\n",
    "-- cycle on data\n",
    "for i = 1,5000 do\n",
    "    -- train a mini_batch of batchSize in parallel\n",
    "    _, fs = optim.adam(feval,w)\n",
    "\n",
    "    if i % 100 == 0 then\n",
    "        print('loss for iteration ' .. i  .. ' is ' .. fs[1] )\n",
    "        -- print(sgd_params)\n",
    "    end\n",
    "end"
   ]
  },
  {
   "cell_type": "code",
   "execution_count": null,
   "metadata": {
    "collapsed": true
   },
   "outputs": [],
   "source": []
  }
 ],
 "metadata": {
  "kernelspec": {
   "display_name": "iTorch",
   "language": "lua",
   "name": "itorch"
  },
  "language_info": {
   "name": "lua",
   "version": "20100"
  }
 },
 "nbformat": 4,
 "nbformat_minor": 0
}
