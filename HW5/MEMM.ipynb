{
 "cells": [
  {
   "cell_type": "code",
   "execution_count": 53,
   "metadata": {
    "collapsed": false
   },
   "outputs": [],
   "source": [
    "require \"hdf5\"\n",
    "require \"optim\"\n",
    "require \"nn\""
   ]
  },
  {
   "cell_type": "code",
   "execution_count": 67,
   "metadata": {
    "collapsed": false
   },
   "outputs": [],
   "source": [
    "f = hdf5.open(\"data.hdf5\", \"r\")\n",
    "\n",
    "X_train = f:read(\"X_train\"):all()\n",
    "Y_train = f:read(\"Y_train\"):all()\n",
    "X_valid = f:read(\"X_valid\"):all()\n",
    "Y_valid = f:read(\"Y_valid\"):all()\n",
    "X_test = f:read(\"X_test\"):all()\n",
    "nwords = f:read(\"nwords\"):all()[1]\n",
    "nclasses = f:read(\"nclasses\"):all()[1]\n",
    "\n",
    "\n",
    "--sentences\n",
    "X_valid_sen = f:read(\"X_valid_sen\"):all()\n",
    "X_test_sen = f:read(\"X_test_sen\"):all()\n",
    "\n",
    "--MEMM\n",
    "X_train_MEMM = f:read(\"X_train_MEMM\"):all()\n",
    "X_valid_MEMM = f:read(\"X_valid_MEMM\"):all()\n",
    "X_valid_sen_MEMM = f:read(\"X_valid_sen_MEMM\"):all()\n",
    "nfeaturesMEMM = f:read(\"nfeaturesMEMM\"):all()[1]\n",
    "\n",
    "C = nclasses"
   ]
  },
  {
   "cell_type": "code",
   "execution_count": 55,
   "metadata": {
    "collapsed": false
   },
   "outputs": [],
   "source": [
    "function process(inputs, numwords)\n",
    "    processed = inputs:clone()\n",
    "    for i = 1, inputs:size(1) do\n",
    "        processed[i][2] = inputs[i][2] + numwords\n",
    "    end\n",
    "    return processed\n",
    "end\n",
    "\n",
    "function feval(w_new)\n",
    "   \n",
    "    bsize= batch\n",
    "    local idx = torch.randperm(X_:size(1)):sub(1,bsize)\n",
    "\n",
    "    local x = torch.Tensor(bsize, X_:size(2))\n",
    "\n",
    "    \n",
    "    --y = y:reshape(Y_train:size(1), 1)\n",
    "    \n",
    "    local y_ = torch.Tensor(bsize, 1)\n",
    "\n",
    "    \n",
    "    for i=1,bsize do\n",
    "        x[i] = X_[idx[i]]\n",
    "        \n",
    "        y_[i] = y[idx[i]]\n",
    "    end\n",
    "    \n",
    "    y_ = y_:squeeze()\n",
    "    local inputs = x\n",
    "    local targets = y_\n",
    "    -- reset gradients (gradients are always accumulated, to accommodate\n",
    "    -- batch methods)\n",
    "    dl_dw:zero()\n",
    "    -- evaluate the loss function and its derivative with respect to x, given a mini batch\n",
    "    local prediction = h:forward(inputs)\n",
    "    local loss_w = mse:forward(prediction, targets)\n",
    "    h:backward(inputs, mse:backward(prediction, targets))\n",
    "    \n",
    "    return loss_w, dl_dw\n",
    "            \n",
    "end\n",
    "\n",
    "function predict(input, index, network)\n",
    "    logscore = torch.log(nn.SoftMax():forward(h:forward(input:sub(index,index))))\n",
    "    return logscore:expand(C,C)\n",
    "end\n",
    "\n",
    "function viterbi(observations, logscore)\n",
    "    local initial = torch.zeros(nclasses,1) + .00001\n",
    "    initial[8] = 1.0\n",
    "    initial = initial / torch.sum(initial)\n",
    "    \n",
    "    local n = observations:size(1)\n",
    "    local max_table = torch.Tensor(n, C)\n",
    "    local backpointer_table = torch.Tensor(n, C)\n",
    "    -- first timestep\n",
    "    -- the initial most likely paths are the initial state distribution\n",
    "    -- NOTE: another unnecessary Tensor allocation here\n",
    "    local maxes, backpointers = torch.log(initial):max(2)--(init+ emi[observations[1]]):max(2)\n",
    "    max_table[1] = maxes\n",
    "    -- remaining timesteps (\"forwarding\" the maxes)\n",
    "    for i=2,n do\n",
    "        -- precompute edge scores\n",
    "        pred = predict(observations, i, logscore)\n",
    "        scores = pred + maxes:view(1, C):expand(C, C)\n",
    "        -- compute new maxes (NOTE: another unnecessary Tensor allocation here)\n",
    "        maxes, backpointers = scores:max(2)\n",
    "        -- record\n",
    "        max_table[i] = maxes\n",
    "        backpointer_table[i] = backpointers\n",
    "        end\n",
    "    -- follow backpointers to recover max path\n",
    "    local classes = torch.Tensor(n)\n",
    "    maxes, classes[n] = maxes:max(1)\n",
    "    for i=n,2,-1 do\n",
    "        classes[i-1] = backpointer_table[{i, classes[i]}]\n",
    "    end\n",
    "    \n",
    "    return classes:sub(1,-1)\n",
    "end\n",
    "\n",
    "function predict_tags(X)\n",
    "    local predictions = torch.zeros(X:size(1), X:size(2))\n",
    "    for i=1,X:size(1) do\n",
    "        local sen = (X[i]:sub(1,torch.nonzero(X[{{i,i},{},{1,1}}]):size(1))):squeeze()\n",
    "   \n",
    "        local p = viterbi(sen, predict)\n",
    "        \n",
    "        predictions[{{i,i},{1,p:size(1)}}] = p\n",
    "    end\n",
    "    return predictions\n",
    "end"
   ]
  },
  {
   "cell_type": "code",
   "execution_count": 56,
   "metadata": {
    "collapsed": true
   },
   "outputs": [],
   "source": [
    "for i = 1,X_valid_sen_MEMM:size(1) do\n",
    "    X_valid_sen_MEMM[i] = process(X_valid_sen_MEMM[i], nwords)\n",
    "end\n",
    "    \n",
    "X_ = process(X_train_MEMM, nwords)\n",
    "y = Y_train"
   ]
  },
  {
   "cell_type": "code",
   "execution_count": null,
   "metadata": {
    "collapsed": true
   },
   "outputs": [],
   "source": [
    "addB = nn.Add(nclasses)\n",
    "lookup = nn.LookupTable(nwords+nclasses,nclasses)\n",
    "sum = nn.Sum(2)\n",
    "softmax = nn.LogSoftMax()\n",
    "h = nn.Sequential()\n",
    "h:add(lookup)\n",
    "h:add(sum)\n",
    "h:add(addB)\n",
    "mse = nn.CrossEntropyCriterion()\n",
    "\n",
    "w, dl_dw = h:getParameters()"
   ]
  },
  {
   "cell_type": "code",
   "execution_count": null,
   "metadata": {
    "collapsed": false
   },
   "outputs": [],
   "source": [
    "batch = 1000\n",
    "\n",
    "-- cycle on data\n",
    "for i = 1,5000 do\n",
    "    -- train a mini_batch of batchSize in parallel\n",
    "    _, fs = optim.adam(feval,w)\n",
    "\n",
    "    if i % 100 == 0 then\n",
    "        print('loss for iteration ' .. i  .. ' is ' .. fs[1] )\n",
    "        -- print(sgd_params)\n",
    "    end\n",
    "end"
   ]
  },
  {
   "cell_type": "code",
   "execution_count": 65,
   "metadata": {
    "collapsed": false
   },
   "outputs": [
    {
     "ename": "[string \"a =X_test_sen_MEMM...\"]:2: attempt to index global 'a' (a nil value)\nstack traceback:\n\t[string \"a =X_test_sen_MEMM...\"]:2: in main chunk\n\t[C]: in function 'xpcall'\n\t/Users/Vincent/torch/install/share/lua/5.1/itorch/main.lua:179: in function </Users/Vincent/torch/install/share/lua/5.1/itorch/main.lua:143>\n\t/Users/Vincent/torch/install/share/lua/5.1/lzmq/poller.lua:75: in function 'poll'\n\t...s/Vincent/torch/install/share/lua/5.1/lzmq/impl/loop.lua:307: in function 'poll'\n\t...s/Vincent/torch/install/share/lua/5.1/lzmq/impl/loop.lua:325: in function 'sleep_ex'\n\t...s/Vincent/torch/install/share/lua/5.1/lzmq/impl/loop.lua:370: in function 'start'\n\t/Users/Vincent/torch/install/share/lua/5.1/itorch/main.lua:350: in main chunk\n\t[C]: in function 'require'\n\t(command line):1: in main chunk\n\t[C]: at 0x010b7bbbd0",
     "evalue": "",
     "output_type": "error",
     "traceback": [
      "[string \"a =X_test_sen_MEMM...\"]:2: attempt to index global 'a' (a nil value)\nstack traceback:\n\t[string \"a =X_test_sen_MEMM...\"]:2: in main chunk\n\t[C]: in function 'xpcall'\n\t/Users/Vincent/torch/install/share/lua/5.1/itorch/main.lua:179: in function </Users/Vincent/torch/install/share/lua/5.1/itorch/main.lua:143>\n\t/Users/Vincent/torch/install/share/lua/5.1/lzmq/poller.lua:75: in function 'poll'\n\t...s/Vincent/torch/install/share/lua/5.1/lzmq/impl/loop.lua:307: in function 'poll'\n\t...s/Vincent/torch/install/share/lua/5.1/lzmq/impl/loop.lua:325: in function 'sleep_ex'\n\t...s/Vincent/torch/install/share/lua/5.1/lzmq/impl/loop.lua:370: in function 'start'\n\t/Users/Vincent/torch/install/share/lua/5.1/itorch/main.lua:350: in main chunk\n\t[C]: in function 'require'\n\t(command line):1: in main chunk\n\t[C]: at 0x010b7bbbd0"
     ]
    }
   ],
   "source": [
    "a =X_test_sen_MEMM\n",
    "prediction = viterbi(a[1]:sub(1,12), h)\n",
    "predictions = predict_tags(a)"
   ]
  },
  {
   "cell_type": "code",
   "execution_count": 63,
   "metadata": {
    "collapsed": false
   },
   "outputs": [],
   "source": [
    "-- Writes to file in Kaggle prediction format\n",
    "-- p : prediction tensor\n",
    "-- fname : output filename\n",
    "function kaggle_format(p, fname)\n",
    "    local f = io.open(\"predictions/\" .. fname, \"w\")\n",
    "    f:write(\"ID,Labels\\n\")\n",
    "    for i=1,p:size(1) do\n",
    "        local s = \"\"\n",
    "        local t = {[1]=\"O\",[2]=\"PER\",[3]=\"LOC\",[4]=\"ORG\",[5]=\"MISC\",[6]=\"MISC\",[7]=\"LOC\",[8]=\"O\",[9]=\"O\"}\n",
    "        local prev_tag = 0\n",
    "        local prev_idx = 0\n",
    "        for j=2,p:size(2) do\n",
    "            if p[i][j] == 0 then\n",
    "                break\n",
    "            end\n",
    "            if p[i][j] ~= 1 then\n",
    "                if prev_tag == 0 then\n",
    "                    s = s .. t[p[i][j]] .. \"-\" .. tostring(j-1)\n",
    "                elseif p[i][j] == prev_tag and prev_idx == j-1 then\n",
    "                    s = s .. \"-\" .. tostring(j-1) \n",
    "                else\n",
    "                    s = s .. \" \" .. t[p[i][j]] .. \"-\" .. tostring(j-1)\n",
    "                end\n",
    "                prev_tag = p[i][j]\n",
    "                prev_idx = j\n",
    "            end\n",
    "        end\n",
    "        f:write(i .. \",\" .. s .. \"\\n\")\n",
    "    end\n",
    "    f:close()\n",
    "end"
   ]
  },
  {
   "cell_type": "code",
   "execution_count": 64,
   "metadata": {
    "collapsed": false
   },
   "outputs": [
    {
     "data": {
      "text/plain": [
       "\n"
      ]
     },
     "execution_count": 64,
     "metadata": {},
     "output_type": "execute_result"
    }
   ],
   "source": [
    "kaggle_format(predictions, \"pred_\" .. tostring(os.time()) .. \"_hmm.csv\")"
   ]
  },
  {
   "cell_type": "code",
   "execution_count": null,
   "metadata": {
    "collapsed": true
   },
   "outputs": [],
   "source": []
  }
 ],
 "metadata": {
  "kernelspec": {
   "display_name": "iTorch",
   "language": "lua",
   "name": "itorch"
  },
  "language_info": {
   "name": "lua",
   "version": "20100"
  }
 },
 "nbformat": 4,
 "nbformat_minor": 0
}
