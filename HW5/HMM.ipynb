{
 "cells": [
  {
   "cell_type": "code",
   "execution_count": 1,
   "metadata": {
    "collapsed": true
   },
   "outputs": [],
   "source": [
    "require \"hdf5\"\n",
    "require \"optim\"\n",
    "require \"nn\""
   ]
  },
  {
   "cell_type": "code",
   "execution_count": 2,
   "metadata": {
    "collapsed": false
   },
   "outputs": [],
   "source": [
    "f = hdf5.open(\"data.hdf5\", \"r\")\n",
    "\n",
    "X_train = f:read(\"X_train\"):all()\n",
    "Y_train = f:read(\"Y_train\"):all()\n",
    "X_valid = f:read(\"X_valid\"):all()\n",
    "Y_valid = f:read(\"Y_valid\"):all()\n",
    "X_test = f:read(\"X_test\"):all()\n",
    "nwords = f:read(\"nwords\"):all()[1]\n",
    "nclasses = f:read(\"nclasses\"):all()[1]\n",
    "nfeatures = f:read(\"nfeatures\"):all()[1]\n",
    "\n",
    "--sentences\n",
    "X_valid_sen = f:read(\"X_valid_sen\"):all()\n",
    "X_test_sen = f:read(\"X_test_sen\"):all()"
   ]
  },
  {
   "cell_type": "code",
   "execution_count": 7,
   "metadata": {
    "collapsed": false
   },
   "outputs": [],
   "source": [
    "--Fits the count-based model with given smoothing parameters\n",
    "--X : sequence features\n",
    "--Y : sequence labels\n",
    "--alpha1 : additive alpha for class counts\n",
    "--alpha2 : additive alpha for class-conditional feature counts\n",
    "function fit(X, Y, alpha1, alpha2)\n",
    "    --count matrix of class transitions: p(y_i|y_{i-1},\\theta)\n",
    "    local C_trans = torch.ones(nclasses,nclasses)*alpha1\n",
    "    --count matrix of class-conditional features: p(x_i|y_i,\\theta)\n",
    "    local C_emi = torch.ones(nclasses, nwords)*alpha2\n",
    "    \n",
    "    for i = 2,X:size(1) do \n",
    "        local y_curr = Y[i]\n",
    "        local y_prev = Y[i-1]\n",
    "        local x_curr = X[i]\n",
    "        C_trans[y_prev][y_curr] = C_trans[y_prev][y_curr] + 1\n",
    "        C_emi[y_curr][x_curr] = C_emi[y_curr][x_curr] + 1\n",
    "    end\n",
    "    C_trans:cdiv((C_trans:sum(2)):expand(C_trans:size(1),C_trans:size(2)))\n",
    "    C_emi:cdiv((C_emi:sum(2)):expand(C_emi:size(1),C_emi:size(2)))\n",
    "    return C_trans:log(), C_emi:log()\n",
    "end\n",
    "\n",
    "function score(y_prev, x_curr, C_trans, C_emi)\n",
    "    local trans = C_trans[y_prev]\n",
    "    local emi = C_emi[{{}, {x_curr, x_curr}}]\n",
    "    return trans + emi\n",
    "end"
   ]
  },
  {
   "cell_type": "code",
   "execution_count": 4,
   "metadata": {
    "collapsed": true
   },
   "outputs": [],
   "source": [
    "function score_hmm(observations, i)\n",
    "    local observation_emission = emission[observations[i]]:view(C,1):expand(C,C)\n",
    "    return observation_emission + transition\n",
    "end"
   ]
  },
  {
   "cell_type": "code",
   "execution_count": 5,
   "metadata": {
    "collapsed": false
   },
   "outputs": [],
   "source": [
    "ct, ce = fit(X_train, Y_train, 1, 1)"
   ]
  },
  {
   "cell_type": "code",
   "execution_count": 62,
   "metadata": {
    "collapsed": false
   },
   "outputs": [
    {
     "data": {
      "text/plain": [
       "     9\n",
       " 13428\n",
       "[torch.LongStorage of size 2]\n",
       "\n"
      ]
     },
     "execution_count": 62,
     "metadata": {},
     "output_type": "execute_result"
    }
   ],
   "source": []
  },
  {
   "cell_type": "code",
   "execution_count": 8,
   "metadata": {
    "collapsed": false
   },
   "outputs": [
    {
     "data": {
      "text/plain": [
       " -6.0312\n",
       "-10.5629\n",
       "-17.6954\n",
       "-17.6731\n",
       "-16.9297\n",
       "-17.5358\n",
       "-17.5353\n",
       "-13.3149\n",
       "-17.5352\n",
       "[torch.DoubleTensor of size 9]\n",
       "\n"
      ]
     },
     "execution_count": 8,
     "metadata": {},
     "output_type": "execute_result"
    }
   ],
   "source": [
    "score(2, 15, ct, ce)"
   ]
  },
  {
   "cell_type": "code",
   "execution_count": 31,
   "metadata": {
    "collapsed": false
   },
   "outputs": [
    {
     "data": {
      "text/plain": [
       "63\t\n"
      ]
     },
     "execution_count": 31,
     "metadata": {},
     "output_type": "execute_result"
    }
   ],
   "source": [
    "X_valid_sen:size()[2]"
   ]
  },
  {
   "cell_type": "code",
   "execution_count": 49,
   "metadata": {
    "collapsed": false
   },
   "outputs": [
    {
     "data": {
      "text/plain": [
       "Columns 1 to 8\n",
       " -0.2131  -3.3831  -3.2014  -3.9000  -3.9485 -10.6130 -10.6130  -2.5549\n",
       " -0.6095  -0.8523  -8.0301  -8.0301  -7.3369  -8.0301  -8.0301  -3.5874\n",
       " -0.1554  -7.7588  -2.1530  -6.1493  -5.3609  -7.7588  -7.0656  -3.9746\n",
       " -0.5409  -5.9885  -7.5979  -0.9233  -6.2116  -7.5979  -7.5979  -4.2657\n",
       " -0.3776  -4.0783  -6.0243  -4.6380  -1.3863  -4.9256  -7.1229  -3.6264\n",
       " -1.4469  -2.8332  -2.8332  -2.8332  -1.0415  -2.8332  -2.8332  -2.8332\n",
       " -1.6094  -2.3026  -2.3026  -2.3026  -2.3026  -2.3026  -2.3026  -2.3026\n",
       " -0.4625  -2.2543  -2.1091  -2.2374  -3.3221  -8.1179  -8.1179  -8.1179\n",
       " -2.1972  -2.1972  -2.1972  -2.1972  -2.1972  -2.1972  -2.1972  -2.1972\n",
       "\n",
       "Columns 9 to 9\n",
       "-10.6130\n",
       " -8.0301\n",
       " -7.7588\n",
       " -7.5979\n",
       " -7.1229\n",
       " -2.8332\n",
       " -2.3026\n",
       " -8.1179\n",
       " -2.1972\n",
       "[torch.DoubleTensor of size 9x9]\n",
       "\n"
      ]
     },
     "execution_count": 49,
     "metadata": {},
     "output_type": "execute_result"
    }
   ],
   "source": [
    "ct"
   ]
  },
  {
   "cell_type": "code",
   "execution_count": 20,
   "metadata": {
    "collapsed": false
   },
   "outputs": [
    {
     "data": {
      "text/plain": [
       "     9\n",
       " 13428\n",
       "[torch.LongStorage of size 2]\n",
       "\n"
      ]
     },
     "execution_count": 20,
     "metadata": {},
     "output_type": "execute_result"
    }
   ],
   "source": [
    "ce:size()"
   ]
  },
  {
   "cell_type": "code",
   "execution_count": null,
   "metadata": {
    "collapsed": true
   },
   "outputs": [],
   "source": [
    "--Returns a distribution over the various tags\n",
    "--y_prev : previous class tag\n",
    "--x_curr : current feature \n",
    "--C_trans : transition count matrix\n",
    "--C_emi : emission count matrix\n",
    "function predict_distri(y_prev, x_curr, C_trans, C_emi)\n",
    "    --compute transition and emission distributions\n",
    "    local trans = C_trans[y_prev]/torch.sum(C_trans[y_prev])\n",
    "    local emi = C_emi[{{},{x_curr,x_curr}}]/torch.sum(C_emi[{{},{x_curr,x_curr}}])\n",
    "    return torch.log(trans) + torch.log(emi)\n",
    "end\n",
    "\n",
    "--Returns a log-probability table for a given single sentence and labels\n",
    "--sen : a single sentence with word features\n",
    "--labels : corresponding target labels for a sentence\n",
    "--C_trans : transition count matrix\n",
    "--C_emi : emission count matrix\n",
    "function predict_table(sen, labels, C_trans, C_emi)\n",
    "    local table = torch.ones(X_valid_sen:size()[2],nclasses)\n",
    "    for j=1,sen:size()[1] do\n",
    "        local feat = sen[j]\n",
    "        --end of sentence\n",
    "        if feat == 0 then\n",
    "            break\n",
    "        end\n",
    "        table[j] = predict_distri(2, 15, C_trans, C_emi)\n",
    "    end\n",
    "    return table:t()\n",
    "end\n",
    "\n",
    "function viterbi(proba_table)\n",
    "    \n",
    "end"
   ]
  }
 ],
 "metadata": {
  "kernelspec": {
   "display_name": "iTorch",
   "language": "lua",
   "name": "itorch"
  },
  "language_info": {
   "name": "lua",
   "version": "20100"
  }
 },
 "nbformat": 4,
 "nbformat_minor": 0
}
