{
 "cells": [
  {
   "cell_type": "code",
   "execution_count": 1,
   "metadata": {
    "collapsed": true
   },
   "outputs": [],
   "source": [
    "require \"hdf5\"\n",
    "require \"optim\"\n",
    "require \"nn\""
   ]
  },
  {
   "cell_type": "code",
   "execution_count": 31,
   "metadata": {
    "collapsed": false
   },
   "outputs": [],
   "source": [
    "f = hdf5.open(\"data.hdf5\", \"r\")\n",
    "\n",
    "X_train = f:read(\"X_train\"):all()\n",
    "Y_train = f:read(\"Y_train\"):all()\n",
    "X_valid = f:read(\"X_valid\"):all()\n",
    "Y_valid = f:read(\"Y_valid\"):all()\n",
    "X_test = f:read(\"X_test\"):all()\n",
    "nwords = f:read(\"nwords\"):all()[1]\n",
    "nclasses = f:read(\"nclasses\"):all()[1]\n",
    "nfeatures = f:read(\"nfeatures\"):all()[1]\n",
    "\n",
    "--sentences\n",
    "X_valid_sen = f:read(\"X_valid_sen\"):all()\n",
    "X_test_sen = f:read(\"X_test_sen\"):all()"
   ]
  },
  {
   "cell_type": "code",
   "execution_count": 80,
   "metadata": {
    "collapsed": false
   },
   "outputs": [],
   "source": [
    "--Fits the count-based model with given smoothing parameters\n",
    "--X : sequence features\n",
    "--Y : sequence labels\n",
    "--alpha1 : additive alpha for class counts\n",
    "--alpha2 : additive alpha for class-conditional feature counts\n",
    "function fit(X, Y, alpha1, alpha2)\n",
    "    --count matrix of class transitions: p(y_i|y_{i-1},\\theta)\n",
    "    local C_trans = torch.ones(nclasses,nclasses)*alpha1\n",
    "    --count matrix of class-conditional features: p(x_i|y_i,\\theta)\n",
    "    local C_emi = torch.ones(nclasses, nwords)*alpha2\n",
    "    \n",
    "    for i = 2,X:size(1) do \n",
    "        local y_curr = Y[i]\n",
    "        local y_prev = Y[i-1]\n",
    "        local x_curr = X[i]\n",
    "        C_trans[y_prev][y_curr] = C_trans[y_prev][y_curr] + 1\n",
    "        C_emi[y_curr][x_curr] = C_emi[y_curr][x_curr] + 1\n",
    "    end\n",
    "    C_trans:cdiv((C_trans:sum(2)):expand(C_trans:size(1),C_trans:size(2)))\n",
    "    C_emi:cdiv((C_emi:sum(2)):expand(C_emi:size(1),C_emi:size(2)))\n",
    "    return C_trans:log():t(), C_emi:log():t()\n",
    "end\n",
    "\n",
    "-- log-scores of transition and emission\n",
    "-- corresponds to the vector y in the lecture notes\n",
    "-- i: timestep for the computed score\n",
    "function score_hmm(observations, emission, transition, i)\n",
    "    local observation_emission = (emission[observations[i]]:reshape(nclasses, 1)):expand(nclasses, nclasses)\n",
    "    return observation_emission + transition\n",
    "end\n",
    "\n",
    "-- Viterbi algorithm.\n",
    "-- observations: a sequence of observations, represented as integers\n",
    "-- logscore: the edge scoring function over classes and observations in a history-based model\n",
    "function viterbi(observations, logscore, transition, emission)\n",
    "    local initial = torch.Tensor({{1.0},{0.0},{0.0},{0.0},{0.0},{0.0},{0.0},{0.0},{0.0}}):log()\n",
    "    local n = observations:size(1)\n",
    "    local max_table = torch.Tensor(n, nclasses)\n",
    "    local backpointer_table = torch.Tensor(n, nclasses)\n",
    "    \n",
    "    -- first timestep\n",
    "    -- the initial most likely paths are the initial state distribution\n",
    "    -- NOTE: another unnecessary Tensor allocation here\n",
    "    local maxes, backpointers = (initial + emission[observations[1]]):max(2)\n",
    "    max_table[1] = maxes\n",
    "    \n",
    "    -- remaining timesteps (\"forwarding\" the maxes)\n",
    "    for i=2,n do\n",
    "        -- precompute edge scores\n",
    "        y = logscore(observations, emission, transition, i)\n",
    "        scores = y + maxes:view(1, nclasses):expand(nclasses, nclasses)\n",
    "        -- compute new maxes (NOTE: another unnecessary Tensor allocation here)\n",
    "        maxes, backpointers = scores:max(2)\n",
    "        -- record\n",
    "        max_table[i] = maxes\n",
    "        backpointer_table[i] = backpointers\n",
    "    end\n",
    "    -- follow backpointers to recover max path\n",
    "    local classes = torch.Tensor(n)\n",
    "    maxes, classes[n] = maxes:max(1)\n",
    "    for i=n,2,-1 do\n",
    "        classes[i-1] = backpointer_table[{i, classes[i]}]\n",
    "    end\n",
    "    return classes\n",
    "end"
   ]
  },
  {
   "cell_type": "code",
   "execution_count": 81,
   "metadata": {
    "collapsed": false
   },
   "outputs": [],
   "source": [
    "ct, ce = fit(X_train, Y_train, 1, 1)\n",
    "viterbi(torch.Tensor({1, 2, 4, 3}), score_hmm, ct, ce)"
   ]
  },
  {
   "cell_type": "code",
   "execution_count": 68,
   "metadata": {
    "collapsed": false
   },
   "outputs": [
    {
     "data": {
      "text/plain": [
       "1\t\n"
      ]
     },
     "execution_count": 68,
     "metadata": {},
     "output_type": "execute_result"
    }
   ],
   "source": [
    "X_valid"
   ]
  },
  {
   "cell_type": "code",
   "execution_count": 20,
   "metadata": {
    "collapsed": false
   },
   "outputs": [
    {
     "data": {
      "text/plain": [
       "     9\n",
       " 13428\n",
       "[torch.LongStorage of size 2]\n",
       "\n"
      ]
     },
     "execution_count": 20,
     "metadata": {},
     "output_type": "execute_result"
    }
   ],
   "source": [
    "ce:size()"
   ]
  },
  {
   "cell_type": "code",
   "execution_count": null,
   "metadata": {
    "collapsed": true
   },
   "outputs": [],
   "source": [
    "--Returns a distribution over the various tags\n",
    "--y_prev : previous class tag\n",
    "--x_curr : current feature \n",
    "--C_trans : transition count matrix\n",
    "--C_emi : emission count matrix\n",
    "function predict_distri(y_prev, x_curr, C_trans, C_emi)\n",
    "    --compute transition and emission distributions\n",
    "    local trans = C_trans[y_prev]/torch.sum(C_trans[y_prev])\n",
    "    local emi = C_emi[{{},{x_curr,x_curr}}]/torch.sum(C_emi[{{},{x_curr,x_curr}}])\n",
    "    return torch.log(trans) + torch.log(emi)\n",
    "end\n",
    "\n",
    "--Returns a log-probability table for a given single sentence and labels\n",
    "--sen : a single sentence with word features\n",
    "--labels : corresponding target labels for a sentence\n",
    "--C_trans : transition count matrix\n",
    "--C_emi : emission count matrix\n",
    "function predict_table(sen, labels, C_trans, C_emi)\n",
    "    local table = torch.ones(X_valid_sen:size()[2],nclasses)\n",
    "    for j=1,sen:size()[1] do\n",
    "        local feat = sen[j]\n",
    "        --end of sentence\n",
    "        if feat == 0 then\n",
    "            break\n",
    "        end\n",
    "        table[j] = predict_distri(2, 15, C_trans, C_emi)\n",
    "    end\n",
    "    return table:t()\n",
    "end\n",
    "\n",
    "function viterbi(proba_table)\n",
    "    \n",
    "end"
   ]
  }
 ],
 "metadata": {
  "kernelspec": {
   "display_name": "iTorch",
   "language": "lua",
   "name": "itorch"
  },
  "language_info": {
   "name": "lua",
   "version": "20100"
  }
 },
 "nbformat": 4,
 "nbformat_minor": 0
}
