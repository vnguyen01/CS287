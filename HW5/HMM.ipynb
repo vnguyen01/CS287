{
 "cells": [
  {
   "cell_type": "code",
   "execution_count": 1,
   "metadata": {
    "collapsed": true
   },
   "outputs": [],
   "source": [
    "require \"hdf5\"\n",
    "require \"optim\"\n",
    "require \"nn\""
   ]
  },
  {
   "cell_type": "code",
   "execution_count": 25,
   "metadata": {
    "collapsed": false
   },
   "outputs": [],
   "source": [
    "f = hdf5.open(\"data.hdf5\", \"r\")\n",
    "\n",
    "X_train = f:read(\"X_train\"):all()\n",
    "Y_train = f:read(\"Y_train\"):all()\n",
    "X_valid = f:read(\"X_valid\"):all()\n",
    "Y_valid = f:read(\"Y_valid\"):all()\n",
    "X_test = f:read(\"X_test\"):all()\n",
    "nwords = f:read(\"nwords\"):all()[1]\n",
    "nclasses = f:read(\"nclasses\"):all()[1]\n",
    "nfeatures = f:read(\"nfeatures\"):all()[1]\n",
    "\n",
    "--sentences\n",
    "X_valid_sen = f:read(\"X_valid_sen\"):all()\n",
    "X_test_sen = f:read(\"X_test_sen\"):all()"
   ]
  },
  {
   "cell_type": "code",
   "execution_count": 56,
   "metadata": {
    "collapsed": false
   },
   "outputs": [],
   "source": [
    "--Fits the count-based model with given smoothing parameters\n",
    "--X : sequence features\n",
    "--Y : sequence labels\n",
    "--alpha1 : additive alpha for class counts\n",
    "--alpha2 : additive alpha for class-conditional feature counts\n",
    "function fit(X, Y, alpha1, alpha2)\n",
    "    --count matrix of class transitions: p(y_i|y_{i-1},\\theta)\n",
    "    local C_trans = torch.ones(nclasses,nclasses)*alpha1\n",
    "    --count matrix of class-conditional features: p(x_i|y_i,\\theta)\n",
    "    local C_emi = torch.ones(nclasses, nwords)*alpha2\n",
    "    \n",
    "    for i = 2,X:size(1) do \n",
    "        local y_curr = Y[i]\n",
    "        local y_prev = Y[i-1]\n",
    "        local x_curr = X[i]\n",
    "        C_trans[y_prev][y_curr] = C_trans[y_prev][y_curr] + 1\n",
    "        C_emi[y_curr][x_curr] = C_emi[y_curr][x_curr] + 1\n",
    "    end\n",
    "    return C_trans, C_emi\n",
    "end\n",
    "\n",
    "--Returns a distribution over the various tags\n",
    "--y_prev : previous class tag\n",
    "--x_curr : current feature \n",
    "--C_trans : transition count matrix\n",
    "--C_emi : emission count matrix\n",
    "function predict_distri(y_prev, x_curr, C_trans, C_emi)\n",
    "    --compute transition and emission distributions\n",
    "    local trans = C_trans[y_prev]/torch.sum(C_trans[y_prev])\n",
    "    local emi = C_emi[{{},{x_curr,x_curr}}]/torch.sum(C_emi[{{},{x_curr,x_curr}}])\n",
    "    return torch.log(trans) + torch.log(emi)\n",
    "end\n",
    "\n",
    "--Returns a log-probability table for a given sentence and labels\n",
    "--sen : a single sentence with word features\n",
    "--labels : corresponding target labels for a sentence\n",
    "--C_trans : transition count matrix\n",
    "--C_emi : emission count matrix\n",
    "function proba_table(sen, labels, C_trans, C_emi)\n",
    "    local table = torch.ones(X_valid_sen:size()[2],nclasses)\n",
    "    for j=1,X_sen:size()[2] do\n",
    "        local feat = X_sen[i][j]\n",
    "        --end of sentence\n",
    "        if feat == 0 then\n",
    "            break\n",
    "        end\n",
    "        table[j] = predict_distri(2, feat, C_trans, C_emi)\n",
    "    end\n",
    "    return table:t()\n",
    "end"
   ]
  },
  {
   "cell_type": "code",
   "execution_count": 5,
   "metadata": {
    "collapsed": false
   },
   "outputs": [],
   "source": [
    "ct, ce = fit(X_train, Y_train, 1, 1)"
   ]
  },
  {
   "cell_type": "code",
   "execution_count": 57,
   "metadata": {
    "collapsed": false
   },
   "outputs": [
    {
     "data": {
      "text/plain": [
       "Columns 1 to 8\n",
       " -8.7271  -1.0891  -0.6341  -2.8067  -2.2189  -2.2189  -0.8208  -2.8067\n",
       " -8.9699  -3.8968  -6.6484  -3.0495  -3.1549  -3.1549  -4.5900  -3.0495\n",
       "-16.1477 -11.0746 -13.8261 -10.2273 -10.3327 -10.3327 -11.7678 -10.2273\n",
       "-16.1477 -11.0746 -13.8261 -10.2273 -10.3327 -10.3327 -11.7678 -10.2273\n",
       "-15.4545 -10.3815 -13.1330  -9.5342  -9.6395  -9.6395 -11.0746  -9.5342\n",
       "-16.1477 -11.0746 -13.8261 -10.2273 -10.3327 -10.3327 -11.7678 -10.2273\n",
       "-16.1477 -11.0746 -13.8261 -10.2273 -10.3327 -10.3327 -11.7678 -10.2273\n",
       " -3.5898  -6.6320  -9.3835  -5.7847  -5.8900  -5.8900  -7.3251  -5.7847\n",
       "-16.1477 -11.0746 -13.8261 -10.2273 -10.3327 -10.3327 -11.7678 -10.2273\n",
       "\n",
       "Columns 9 to 16\n",
       " -1.7081  -2.8067  -2.8067  -0.6139   1.0000   1.0000   1.0000   1.0000\n",
       " -3.3372  -3.0495  -3.0495  -8.3725   1.0000   1.0000   1.0000   1.0000\n",
       "-10.5150 -10.2273 -10.2273 -15.5503   1.0000   1.0000   1.0000   1.0000\n",
       "-10.5150 -10.2273 -10.2273 -15.5503   1.0000   1.0000   1.0000   1.0000\n",
       " -9.8218  -9.5342  -9.5342 -14.8572   1.0000   1.0000   1.0000   1.0000\n",
       "-10.5150 -10.2273 -10.2273 -15.5503   1.0000   1.0000   1.0000   1.0000\n",
       "-10.5150 -10.2273 -10.2273 -15.5503   1.0000   1.0000   1.0000   1.0000\n",
       " -6.0723  -5.7847  -5.7847 -11.1077   1.0000   1.0000   1.0000   1.0000\n",
       "-10.5150 -10.2273 -10.2273 -15.5503   1.0000   1.0000   1.0000   1.0000\n",
       "\n",
       "Columns 17 to 24\n",
       "  1.0000   1.0000   1.0000   1.0000   1.0000   1.0000   1.0000   1.0000\n",
       "  1.0000   1.0000   1.0000   1.0000   1.0000   1.0000   1.0000   1.0000\n",
       "  1.0000   1.0000   1.0000   1.0000   1.0000   1.0000   1.0000   1.0000\n",
       "  1.0000   1.0000   1.0000   1.0000   1.0000   1.0000   1.0000   1.0000\n",
       "  1.0000   1.0000   1.0000   1.0000   1.0000   1.0000   1.0000   1.0000\n",
       "  1.0000   1.0000   1.0000   1.0000   1.0000   1.0000   1.0000   1.0000\n",
       "  1.0000   1.0000   1.0000   1.0000   1.0000   1.0000   1.0000   1.0000\n",
       "  1.0000   1.0000   1.0000   1.0000   1.0000   1.0000   1.0000   1.0000\n",
       "  1.0000   1.0000   1.0000   1.0000   1.0000   1.0000   1.0000   1.0000\n",
       "\n",
       "Columns 25 to 32\n",
       "  1.0000   1.0000   1.0000   1.0000   1.0000   1.0000   1.0000   1.0000\n",
       "  1.0000   1.0000   1.0000   1.0000   1.0000   1.0000   1.0000   1.0000\n",
       "  1.0000   1.0000   1.0000   1.0000   1.0000   1.0000   1.0000   1.0000\n",
       "  1.0000   1.0000   1.0000   1.0000   1.0000   1.0000   1.0000   1.0000\n",
       "  1.0000   1.0000   1.0000   1.0000   1.0000   1.0000   1.0000   1.0000\n",
       "  1.0000   1.0000   1.0000   1.0000   1.0000   1.0000   1.0000   1.0000\n",
       "  1.0000   1.0000   1.0000   1.0000   1.0000   1.0000   1.0000   1.0000\n",
       "  1.0000   1.0000   1.0000   1.0000   1.0000   1.0000   1.0000   1.0000\n",
       "  1.0000   1.0000   1.0000   1.0000   1.0000   1.0000   1.0000   1.0000\n",
       "\n",
       "Columns 33 to 40\n",
       "  1.0000   1.0000   1.0000   1.0000   1.0000   1.0000   1.0000   1.0000\n",
       "  1.0000   1.0000   1.0000   1.0000   1.0000   1.0000   1.0000   1.0000\n",
       "  1.0000   1.0000   1.0000   1.0000   1.0000   1.0000   1.0000   1.0000\n",
       "  1.0000   1.0000   1.0000   1.0000   1.0000   1.0000   1.0000   1.0000\n",
       "  1.0000   1.0000   1.0000   1.0000   1.0000   1.0000   1.0000   1.0000\n",
       "  1.0000   1.0000   1.0000   1.0000   1.0000   1.0000   1.0000   1.0000\n",
       "  1.0000   1.0000   1.0000   1.0000   1.0000   1.0000   1.0000   1.0000\n",
       "  1.0000   1.0000   1.0000   1.0000   1.0000   1.0000   1.0000   1.0000\n",
       "  1.0000   1.0000   1.0000   1.0000   1.0000   1.0000   1.0000   1.0000\n",
       "\n",
       "Columns 41 to 48\n",
       "  1.0000   1.0000   1.0000   1.0000   1.0000   1.0000   1.0000   1.0000\n",
       "  1.0000   1.0000   1.0000   1.0000   1.0000   1.0000   1.0000   1.0000\n",
       "  1.0000   1.0000   1.0000   1.0000   1.0000   1.0000   1.0000   1.0000\n",
       "  1.0000   1.0000   1.0000   1.0000   1.0000   1.0000   1.0000   1.0000\n",
       "  1.0000   1.0000   1.0000   1.0000   1.0000   1.0000   1.0000   1.0000\n",
       "  1.0000   1.0000   1.0000   1.0000   1.0000   1.0000   1.0000   1.0000\n",
       "  1.0000   1.0000   1.0000   1.0000   1.0000   1.0000   1.0000   1.0000\n",
       "  1.0000   1.0000   1.0000   1.0000   1.0000   1.0000   1.0000   1.0000\n",
       "  1.0000   1.0000   1.0000   1.0000   1.0000   1.0000   1.0000   1.0000\n",
       "\n",
       "Columns 49 to 56\n",
       "  1.0000   1.0000   1.0000   1.0000   1.0000   1.0000   1.0000   1.0000\n",
       "  1.0000   1.0"
      ]
     },
     "execution_count": 57,
     "metadata": {},
     "output_type": "execute_result"
    },
    {
     "data": {
      "text/plain": [
       "000   1.0000   1.0000   1.0000   1.0000   1.0000   1.0000\n",
       "  1.0000   1.0000   1.0000   1.0000   1.0000   1.0000   1.0000   1.0000\n",
       "  1.0000   1.0000   1.0000   1.0000   1.0000   1.0000   1.0000   1.0000\n",
       "  1.0000   1.0000   1.0000   1.0000   1.0000   1.0000   1.0000   1.0000\n",
       "  1.0000   1.0000   1.0000   1.0000   1.0000   1.0000   1.0000   1.0000\n",
       "  1.0000   1.0000   1.0000   1.0000   1.0000   1.0000   1.0000   1.0000\n",
       "  1.0000   1.0000   1.0000   1.0000   1.0000   1.0000   1.0000   1.0000\n",
       "  1.0000   1.0000   1.0000   1.0000   1.0000   1.0000   1.0000   1.0000\n",
       "\n",
       "Columns 57 to 63\n",
       "  1.0000   1.0000   1.0000   1.0000   1.0000   1.0000   1.0000\n",
       "  1.0000   1.0000   1.0000   1.0000   1.0000   1.0000   1.0000\n",
       "  1.0000   1.0000   1.0000   1.0000   1.0000   1.0000   1.0000\n",
       "  1.0000   1.0000   1.0000   1.0000   1.0000   1.0000   1.0000\n",
       "  1.0000   1.0000   1.0000   1.0000   1.0000   1.0000   1.0000\n",
       "  1.0000   1.0000   1.0000   1.0000   1.0000   1.0000   1.0000\n",
       "  1.0000   1.0000   1.0000   1.0000   1.0000   1.0000   1.0000\n",
       "  1.0000   1.0000   1.0000   1.0000   1.0000   1.0000   1.0000\n",
       "  1.0000   1.0000   1.0000   1.0000   1.0000   1.0000   1.0000\n",
       "[torch.DoubleTensor of size 9x63]\n",
       "\n"
      ]
     },
     "execution_count": 57,
     "metadata": {},
     "output_type": "execute_result"
    }
   ],
   "source": [
    "proba_table(X_valid_sen, _, ct, ce)"
   ]
  },
  {
   "cell_type": "code",
   "execution_count": 26,
   "metadata": {
    "collapsed": false
   },
   "outputs": [
    {
     "data": {
      "text/plain": [
       "    1\n",
       " 1964\n",
       "  630\n",
       " 8763\n",
       " 6403\n",
       " 1924\n",
       " 1617\n",
       " 8764\n",
       " 2093\n",
       " 8765\n",
       " 8766\n",
       "   11\n",
       "    0\n",
       "    0\n",
       "    0\n",
       "[torch.DoubleTensor of size 15]\n",
       "\n"
      ]
     },
     "execution_count": 26,
     "metadata": {},
     "output_type": "execute_result"
    }
   ],
   "source": [
    "print(X_valid_sen[1]:sub(1,15))"
   ]
  },
  {
   "cell_type": "code",
   "execution_count": 31,
   "metadata": {
    "collapsed": false
   },
   "outputs": [
    {
     "data": {
      "text/plain": [
       "63\t\n"
      ]
     },
     "execution_count": 31,
     "metadata": {},
     "output_type": "execute_result"
    }
   ],
   "source": [
    "X_valid_sen:size()[2]"
   ]
  },
  {
   "cell_type": "code",
   "execution_count": 18,
   "metadata": {
    "collapsed": false
   },
   "outputs": [
    {
     "data": {
      "text/plain": [
       " 52616\n",
       "[torch.LongStorage of size 1]\n",
       "\n"
      ]
     },
     "execution_count": 18,
     "metadata": {},
     "output_type": "execute_result"
    }
   ],
   "source": [
    "X_train:size()"
   ]
  },
  {
   "cell_type": "code",
   "execution_count": 20,
   "metadata": {
    "collapsed": false
   },
   "outputs": [
    {
     "data": {
      "text/plain": [
       "     9\n",
       " 13428\n",
       "[torch.LongStorage of size 2]\n",
       "\n"
      ]
     },
     "execution_count": 20,
     "metadata": {},
     "output_type": "execute_result"
    }
   ],
   "source": [
    "ce:size()"
   ]
  },
  {
   "cell_type": "code",
   "execution_count": null,
   "metadata": {
    "collapsed": true
   },
   "outputs": [],
   "source": []
  }
 ],
 "metadata": {
  "kernelspec": {
   "display_name": "iTorch",
   "language": "lua",
   "name": "itorch"
  },
  "language_info": {
   "name": "lua",
   "version": "20100"
  }
 },
 "nbformat": 4,
 "nbformat_minor": 0
}
